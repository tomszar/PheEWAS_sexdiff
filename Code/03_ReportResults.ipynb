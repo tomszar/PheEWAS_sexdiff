{
 "cells": [
  {
   "cell_type": "markdown",
   "metadata": {},
   "source": [
    "# Results report\n",
    "\n",
    "Basic report of results"
   ]
  },
  {
   "cell_type": "code",
   "execution_count": null,
   "metadata": {
    "execution": {
     "iopub.execute_input": "2021-07-02T00:44:15.633957Z",
     "iopub.status.busy": "2021-07-02T00:44:15.633120Z",
     "iopub.status.idle": "2021-07-02T00:44:19.091165Z",
     "shell.execute_reply": "2021-07-02T00:44:19.090521Z"
    }
   },
   "outputs": [],
   "source": [
    "import os\n",
    "import clarite\n",
    "\n",
    "import pandas as pd\n",
    "import nhanes as nh\n",
    "import numpy as np\n",
    "import matplotlib.pyplot as plt\n",
    "\n",
    "#### SET PATHS\n",
    "paths  = nh.set_project_paths()\n",
    "\n",
    "#### READ DATA\n",
    "results = pd.read_csv(os.path.join(paths[2], 'CompleteResultsTable.csv')).\\\n",
    "             set_index(['Variable','Outcome'])\n",
    "\n",
    "#### SAVE PERCENT FEMALES LIST\n",
    "nh.check_balanced_tests(results,\n",
    "                        paths[2])"
   ]
  },
  {
   "cell_type": "markdown",
   "metadata": {},
   "source": [
    "How many tests converged in each of the four cohorts?"
   ]
  },
  {
   "cell_type": "code",
   "execution_count": null,
   "metadata": {},
   "outputs": [],
   "source": [
    "coverged_cols = ['Converged_df',\n",
    "                 'Converged_rf',\n",
    "                 'Converged_dm',\n",
    "                 'Converged_rm']\n",
    "for col in coverged_cols:\n",
    "    print(sum(results[col]))"
   ]
  },
  {
   "cell_type": "markdown",
   "metadata": {},
   "source": [
    "How many results were significant? and of what type?"
   ]
  },
  {
   "cell_type": "code",
   "execution_count": null,
   "metadata": {
    "execution": {
     "iopub.execute_input": "2021-07-02T00:44:19.116091Z",
     "iopub.status.busy": "2021-07-02T00:44:19.115498Z",
     "iopub.status.idle": "2021-07-02T00:44:19.120076Z",
     "shell.execute_reply": "2021-07-02T00:44:19.119589Z"
    }
   },
   "outputs": [],
   "source": [
    "n_significant = sum(results['difference_type'] != 'None')\n",
    "n_quant       = sum(results['difference_type'] == 'Quantitative')\n",
    "n_qual        = sum(results['difference_type'] == 'Qualitative')\n",
    "n_pure        = sum(results['difference_type'] == 'Pure')\n",
    "print('There are ' + str(n_significant) + ' significant results')\n",
    "print(str(n_quant) + ' quantitative, ' + str(n_qual) + ' qualitative, and ' + str(n_pure) + ' pure')\n"
   ]
  },
  {
   "cell_type": "markdown",
   "metadata": {},
   "source": [
    "How many unique exposures and phenotypes?"
   ]
  },
  {
   "cell_type": "code",
   "execution_count": null,
   "metadata": {
    "execution": {
     "iopub.execute_input": "2021-07-02T00:44:19.130151Z",
     "iopub.status.busy": "2021-07-02T00:44:19.129570Z",
     "iopub.status.idle": "2021-07-02T00:44:19.134278Z",
     "shell.execute_reply": "2021-07-02T00:44:19.133505Z"
    }
   },
   "outputs": [],
   "source": [
    "bool_significant = results['difference_type'] != 'None'\n",
    "n_exposures  = len(results[bool_significant].value_counts('Variable'))\n",
    "n_phenotypes = len(results[bool_significant].value_counts('Outcome'))\n",
    "print('Only ' + str(n_phenotypes) + ' phenotypes were significant, and ' + str(n_exposures) + ' exposures')\n"
   ]
  },
  {
   "cell_type": "code",
   "execution_count": null,
   "metadata": {
    "execution": {
     "iopub.execute_input": "2021-07-02T00:44:19.144050Z",
     "iopub.status.busy": "2021-07-02T00:44:19.143481Z",
     "iopub.status.idle": "2021-07-02T00:44:19.149231Z",
     "shell.execute_reply": "2021-07-02T00:44:19.148759Z"
    }
   },
   "outputs": [],
   "source": [
    "results[bool_significant].value_counts('Outcome_Name')"
   ]
  },
  {
   "cell_type": "code",
   "execution_count": null,
   "metadata": {
    "execution": {
     "iopub.execute_input": "2021-07-02T00:44:19.156245Z",
     "iopub.status.busy": "2021-07-02T00:44:19.155697Z",
     "iopub.status.idle": "2021-07-02T00:44:19.160921Z",
     "shell.execute_reply": "2021-07-02T00:44:19.160440Z"
    }
   },
   "outputs": [],
   "source": [
    "results[bool_significant].value_counts('Variable_Category')"
   ]
  },
  {
   "cell_type": "code",
   "execution_count": null,
   "metadata": {
    "execution": {
     "iopub.execute_input": "2021-07-02T00:44:19.167436Z",
     "iopub.status.busy": "2021-07-02T00:44:19.166879Z",
     "iopub.status.idle": "2021-07-02T00:44:19.172245Z",
     "shell.execute_reply": "2021-07-02T00:44:19.171788Z"
    }
   },
   "outputs": [],
   "source": [
    "results[bool_significant].value_counts('Variable_Name')"
   ]
  },
  {
   "cell_type": "markdown",
   "metadata": {},
   "source": [
    "## Pure differences"
   ]
  },
  {
   "cell_type": "code",
   "execution_count": null,
   "metadata": {
    "execution": {
     "iopub.execute_input": "2021-07-02T00:44:19.179987Z",
     "iopub.status.busy": "2021-07-02T00:44:19.179430Z",
     "iopub.status.idle": "2021-07-02T00:44:19.184722Z",
     "shell.execute_reply": "2021-07-02T00:44:19.184209Z"
    }
   },
   "outputs": [],
   "source": [
    "bool_pure = results['difference_type'] == 'Pure'\n",
    "results[bool_pure].value_counts('Variable_Category')"
   ]
  },
  {
   "cell_type": "code",
   "execution_count": null,
   "metadata": {
    "execution": {
     "iopub.execute_input": "2021-07-02T00:44:19.191664Z",
     "iopub.status.busy": "2021-07-02T00:44:19.191062Z",
     "iopub.status.idle": "2021-07-02T00:44:19.196674Z",
     "shell.execute_reply": "2021-07-02T00:44:19.196139Z"
    }
   },
   "outputs": [],
   "source": [
    "results[bool_pure].value_counts('Outcome_Name')"
   ]
  },
  {
   "cell_type": "code",
   "execution_count": null,
   "metadata": {
    "execution": {
     "iopub.execute_input": "2021-07-02T00:44:19.205589Z",
     "iopub.status.busy": "2021-07-02T00:44:19.204983Z",
     "iopub.status.idle": "2021-07-02T00:44:19.209613Z",
     "shell.execute_reply": "2021-07-02T00:44:19.208838Z"
    }
   },
   "outputs": [],
   "source": [
    "betas_pure_females = results.loc[bool_pure,'Beta_female']\n",
    "betas_pure_males   = results.loc[bool_pure,'Beta_male']\n",
    "\n",
    "females_greater = sum(abs(betas_pure_females) > abs(betas_pure_males))\n",
    "males_greater   = sum(abs(betas_pure_females) < abs(betas_pure_males))\n",
    "\n",
    "print('From the pure differences, in ' + str(females_greater) + ' cases, females showed significant effects while in ' + \n",
    "       str(males_greater) + ' cases, males showed significant effects')"
   ]
  },
  {
   "cell_type": "code",
   "execution_count": null,
   "metadata": {
    "execution": {
     "iopub.execute_input": "2021-07-02T00:44:19.215516Z",
     "iopub.status.busy": "2021-07-02T00:44:19.214951Z",
     "iopub.status.idle": "2021-07-02T00:44:19.249721Z",
     "shell.execute_reply": "2021-07-02T00:44:19.249228Z"
    }
   },
   "outputs": [],
   "source": [
    "print_columns = ['Variable_Name',\n",
    "                 'Outcome_Name',\n",
    "                 'Beta_female',\n",
    "                 'SE_female',\n",
    "                 'pvalue_female',\n",
    "                 'Beta_male',\n",
    "                 'SE_male',\n",
    "                 'pvalue_male']\n",
    "results.loc[bool_pure,print_columns]"
   ]
  },
  {
   "cell_type": "markdown",
   "metadata": {},
   "source": [
    "### Pure differences in females"
   ]
  },
  {
   "cell_type": "code",
   "execution_count": null,
   "metadata": {
    "execution": {
     "iopub.execute_input": "2021-07-02T00:44:19.258542Z",
     "iopub.status.busy": "2021-07-02T00:44:19.257985Z",
     "iopub.status.idle": "2021-07-02T00:44:19.263293Z",
     "shell.execute_reply": "2021-07-02T00:44:19.262836Z"
    }
   },
   "outputs": [],
   "source": [
    "results[bool_pure][abs(betas_pure_females) > abs(betas_pure_males)].value_counts('Variable_Category')"
   ]
  },
  {
   "cell_type": "code",
   "execution_count": null,
   "metadata": {
    "execution": {
     "iopub.execute_input": "2021-07-02T00:44:19.271131Z",
     "iopub.status.busy": "2021-07-02T00:44:19.270589Z",
     "iopub.status.idle": "2021-07-02T00:44:19.275836Z",
     "shell.execute_reply": "2021-07-02T00:44:19.275374Z"
    }
   },
   "outputs": [],
   "source": [
    "results[bool_pure][abs(betas_pure_females) > abs(betas_pure_males)].value_counts('Variable_Name')"
   ]
  },
  {
   "cell_type": "code",
   "execution_count": null,
   "metadata": {
    "execution": {
     "iopub.execute_input": "2021-07-02T00:44:19.284076Z",
     "iopub.status.busy": "2021-07-02T00:44:19.283529Z",
     "iopub.status.idle": "2021-07-02T00:44:19.288816Z",
     "shell.execute_reply": "2021-07-02T00:44:19.288344Z"
    }
   },
   "outputs": [],
   "source": [
    "results[bool_pure][abs(betas_pure_females) > abs(betas_pure_males)].value_counts('Outcome_Name')"
   ]
  },
  {
   "cell_type": "markdown",
   "metadata": {},
   "source": [
    "### Pure differences in males"
   ]
  },
  {
   "cell_type": "code",
   "execution_count": null,
   "metadata": {
    "execution": {
     "iopub.execute_input": "2021-07-02T00:44:19.297617Z",
     "iopub.status.busy": "2021-07-02T00:44:19.297047Z",
     "iopub.status.idle": "2021-07-02T00:44:19.302509Z",
     "shell.execute_reply": "2021-07-02T00:44:19.302021Z"
    }
   },
   "outputs": [],
   "source": [
    "results[bool_pure][abs(betas_pure_females) < abs(betas_pure_males)].value_counts('Variable_Category')"
   ]
  },
  {
   "cell_type": "code",
   "execution_count": null,
   "metadata": {
    "execution": {
     "iopub.execute_input": "2021-07-02T00:44:19.311365Z",
     "iopub.status.busy": "2021-07-02T00:44:19.310811Z",
     "iopub.status.idle": "2021-07-02T00:44:19.316171Z",
     "shell.execute_reply": "2021-07-02T00:44:19.315696Z"
    }
   },
   "outputs": [],
   "source": [
    "results[bool_pure][abs(betas_pure_females) < abs(betas_pure_males)].value_counts('Variable_Name')"
   ]
  },
  {
   "cell_type": "code",
   "execution_count": null,
   "metadata": {
    "execution": {
     "iopub.execute_input": "2021-07-02T00:44:19.325151Z",
     "iopub.status.busy": "2021-07-02T00:44:19.324563Z",
     "iopub.status.idle": "2021-07-02T00:44:19.330137Z",
     "shell.execute_reply": "2021-07-02T00:44:19.329646Z"
    }
   },
   "outputs": [],
   "source": [
    "results[bool_pure][abs(betas_pure_females) < abs(betas_pure_males)].value_counts('Outcome_Name')"
   ]
  },
  {
   "cell_type": "markdown",
   "metadata": {},
   "source": [
    "## Quantitative differences"
   ]
  },
  {
   "cell_type": "code",
   "execution_count": null,
   "metadata": {
    "execution": {
     "iopub.execute_input": "2021-07-02T00:44:19.338731Z",
     "iopub.status.busy": "2021-07-02T00:44:19.338145Z",
     "iopub.status.idle": "2021-07-02T00:44:19.343660Z",
     "shell.execute_reply": "2021-07-02T00:44:19.343132Z"
    }
   },
   "outputs": [],
   "source": [
    "bool_quant = results['difference_type'] == 'Quantitative'\n",
    "results[bool_quant].value_counts('Variable_Category')"
   ]
  },
  {
   "cell_type": "code",
   "execution_count": null,
   "metadata": {
    "execution": {
     "iopub.execute_input": "2021-07-02T00:44:19.350754Z",
     "iopub.status.busy": "2021-07-02T00:44:19.350173Z",
     "iopub.status.idle": "2021-07-02T00:44:19.355625Z",
     "shell.execute_reply": "2021-07-02T00:44:19.355151Z"
    }
   },
   "outputs": [],
   "source": [
    "results[bool_quant].value_counts('Outcome_Name')"
   ]
  },
  {
   "cell_type": "code",
   "execution_count": null,
   "metadata": {
    "execution": {
     "iopub.execute_input": "2021-07-02T00:44:19.363975Z",
     "iopub.status.busy": "2021-07-02T00:44:19.363400Z",
     "iopub.status.idle": "2021-07-02T00:44:19.367881Z",
     "shell.execute_reply": "2021-07-02T00:44:19.367083Z"
    }
   },
   "outputs": [],
   "source": [
    "betas_quant_females = results.loc[bool_quant,'Beta_female']\n",
    "betas_quant_males   = results.loc[bool_quant,'Beta_male']\n",
    "\n",
    "females_greater = sum(abs(betas_quant_females) > abs(betas_quant_males))\n",
    "males_greater   = sum(abs(betas_quant_females) < abs(betas_quant_males))\n",
    "\n",
    "print('From the quantitative differences, in ' + str(females_greater) + ' cases, females showed greater effects while in ' + \n",
    "       str(males_greater) + ' cases, males showed greater ones')"
   ]
  },
  {
   "cell_type": "code",
   "execution_count": null,
   "metadata": {
    "execution": {
     "iopub.execute_input": "2021-07-02T00:44:19.390102Z",
     "iopub.status.busy": "2021-07-02T00:44:19.389536Z",
     "iopub.status.idle": "2021-07-02T00:44:19.395490Z",
     "shell.execute_reply": "2021-07-02T00:44:19.395006Z"
    }
   },
   "outputs": [],
   "source": [
    "results.loc[bool_quant, print_columns]"
   ]
  },
  {
   "cell_type": "markdown",
   "metadata": {},
   "source": [
    "### Quantitative differences in females"
   ]
  },
  {
   "cell_type": "code",
   "execution_count": null,
   "metadata": {
    "execution": {
     "iopub.execute_input": "2021-07-02T00:44:19.404503Z",
     "iopub.status.busy": "2021-07-02T00:44:19.403909Z",
     "iopub.status.idle": "2021-07-02T00:44:19.411009Z",
     "shell.execute_reply": "2021-07-02T00:44:19.410535Z"
    }
   },
   "outputs": [],
   "source": [
    "results[bool_quant][abs(betas_quant_females) > abs(betas_quant_males)].value_counts('Variable_Category')"
   ]
  },
  {
   "cell_type": "code",
   "execution_count": null,
   "metadata": {
    "execution": {
     "iopub.execute_input": "2021-07-02T00:44:19.419776Z",
     "iopub.status.busy": "2021-07-02T00:44:19.419216Z",
     "iopub.status.idle": "2021-07-02T00:44:19.424669Z",
     "shell.execute_reply": "2021-07-02T00:44:19.424184Z"
    }
   },
   "outputs": [],
   "source": [
    "results[bool_quant][abs(betas_quant_females) > abs(betas_quant_males)].value_counts('Variable_Name')"
   ]
  },
  {
   "cell_type": "code",
   "execution_count": null,
   "metadata": {
    "execution": {
     "iopub.execute_input": "2021-07-02T00:44:19.433769Z",
     "iopub.status.busy": "2021-07-02T00:44:19.433188Z",
     "iopub.status.idle": "2021-07-02T00:44:19.438676Z",
     "shell.execute_reply": "2021-07-02T00:44:19.438190Z"
    }
   },
   "outputs": [],
   "source": [
    "results[bool_quant][abs(betas_quant_females) > abs(betas_quant_males)].value_counts('Outcome_Name')"
   ]
  },
  {
   "cell_type": "markdown",
   "metadata": {},
   "source": [
    "### Quantitative differences in males"
   ]
  },
  {
   "cell_type": "code",
   "execution_count": null,
   "metadata": {
    "execution": {
     "iopub.execute_input": "2021-07-02T00:44:19.447587Z",
     "iopub.status.busy": "2021-07-02T00:44:19.447013Z",
     "iopub.status.idle": "2021-07-02T00:44:19.452424Z",
     "shell.execute_reply": "2021-07-02T00:44:19.451944Z"
    }
   },
   "outputs": [],
   "source": [
    "results[bool_quant][abs(betas_quant_females) < abs(betas_quant_males)].value_counts('Variable_Category')"
   ]
  },
  {
   "cell_type": "code",
   "execution_count": null,
   "metadata": {
    "execution": {
     "iopub.execute_input": "2021-07-02T00:44:19.461051Z",
     "iopub.status.busy": "2021-07-02T00:44:19.460502Z",
     "iopub.status.idle": "2021-07-02T00:44:19.465748Z",
     "shell.execute_reply": "2021-07-02T00:44:19.465275Z"
    }
   },
   "outputs": [],
   "source": [
    "results[bool_quant][abs(betas_quant_females) < abs(betas_quant_males)].value_counts('Variable_Name')"
   ]
  },
  {
   "cell_type": "code",
   "execution_count": null,
   "metadata": {
    "execution": {
     "iopub.execute_input": "2021-07-02T00:44:19.473761Z",
     "iopub.status.busy": "2021-07-02T00:44:19.473161Z",
     "iopub.status.idle": "2021-07-02T00:44:19.478470Z",
     "shell.execute_reply": "2021-07-02T00:44:19.478001Z"
    }
   },
   "outputs": [],
   "source": [
    "results[bool_quant][abs(betas_quant_females) < abs(betas_quant_males)].value_counts('Outcome_Name')"
   ]
  },
  {
   "cell_type": "markdown",
   "metadata": {},
   "source": [
    "## Qualitative differences"
   ]
  },
  {
   "cell_type": "code",
   "execution_count": null,
   "metadata": {
    "execution": {
     "iopub.execute_input": "2021-07-02T00:44:19.485919Z",
     "iopub.status.busy": "2021-07-02T00:44:19.485369Z",
     "iopub.status.idle": "2021-07-02T00:44:19.490571Z",
     "shell.execute_reply": "2021-07-02T00:44:19.490104Z"
    }
   },
   "outputs": [],
   "source": [
    "bool_qual = results['difference_type'] == 'Qualitative'\n",
    "results[bool_qual].value_counts('Variable_Category')"
   ]
  },
  {
   "cell_type": "code",
   "execution_count": null,
   "metadata": {
    "execution": {
     "iopub.execute_input": "2021-07-02T00:44:19.497308Z",
     "iopub.status.busy": "2021-07-02T00:44:19.496751Z",
     "iopub.status.idle": "2021-07-02T00:44:19.502138Z",
     "shell.execute_reply": "2021-07-02T00:44:19.501650Z"
    }
   },
   "outputs": [],
   "source": [
    "results[bool_qual].value_counts('Variable_Name')"
   ]
  },
  {
   "cell_type": "code",
   "execution_count": null,
   "metadata": {
    "execution": {
     "iopub.execute_input": "2021-07-02T00:44:19.509011Z",
     "iopub.status.busy": "2021-07-02T00:44:19.508453Z",
     "iopub.status.idle": "2021-07-02T00:44:19.513770Z",
     "shell.execute_reply": "2021-07-02T00:44:19.513291Z"
    }
   },
   "outputs": [],
   "source": [
    "results[bool_qual].value_counts('Outcome_Name')"
   ]
  },
  {
   "cell_type": "code",
   "execution_count": null,
   "metadata": {
    "execution": {
     "iopub.execute_input": "2021-07-02T00:44:19.531929Z",
     "iopub.status.busy": "2021-07-02T00:44:19.531353Z",
     "iopub.status.idle": "2021-07-02T00:44:19.537141Z",
     "shell.execute_reply": "2021-07-02T00:44:19.536663Z"
    }
   },
   "outputs": [],
   "source": [
    "results.loc[bool_qual, print_columns]"
   ]
  }
 ],
 "metadata": {
  "interpreter": {
   "hash": "1456a64954ba6d8dd9aa91c65ef332a94749cf2aad0dd8c73947cf60795818de"
  },
  "kernelspec": {
   "display_name": "Python 3 (ipykernel)",
   "language": "python",
   "name": "python3"
  },
  "language_info": {
   "codemirror_mode": {
    "name": "ipython",
    "version": 3
   },
   "file_extension": ".py",
   "mimetype": "text/x-python",
   "name": "python",
   "nbconvert_exporter": "python",
   "pygments_lexer": "ipython3",
   "version": "3.9.7"
  },
  "metadata": {
   "interpreter": {
    "hash": "52c1c0afcb26f489e6e3e006db0ba06bf427905696ae532b516762c677130c61"
   }
  }
 },
 "nbformat": 4,
 "nbformat_minor": 4
}
