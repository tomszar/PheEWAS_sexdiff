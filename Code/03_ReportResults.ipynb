{
 "cells": [
  {
   "cell_type": "markdown",
   "metadata": {},
   "source": [
    "# Results report\n",
    "\n",
    "Basic report of results"
   ]
  },
  {
   "cell_type": "code",
   "execution_count": 1,
   "metadata": {
    "execution": {
     "iopub.execute_input": "2021-07-02T00:44:15.633957Z",
     "iopub.status.busy": "2021-07-02T00:44:15.633120Z",
     "iopub.status.idle": "2021-07-02T00:44:19.091165Z",
     "shell.execute_reply": "2021-07-02T00:44:19.090521Z"
    }
   },
   "outputs": [
    {
     "name": "stdout",
     "output_type": "stream",
     "text": [
      "rpy2 ModuleSpec(name='rpy2', loader=<_frozen_importlib_external.SourceFileLoader object at 0x7f7912b45f40>, origin='/home/tomas/anaconda3/envs/py_clarite/lib/python3.9/site-packages/rpy2/__init__.py', submodule_search_locations=['/home/tomas/anaconda3/envs/py_clarite/lib/python3.9/site-packages/rpy2'])\n"
     ]
    }
   ],
   "source": [
    "import os\n",
    "import clarite\n",
    "\n",
    "import pandas as pd\n",
    "import nhanes as nh\n",
    "import numpy as np\n",
    "import matplotlib.pyplot as plt\n",
    "\n",
    "#### SET PATHS\n",
    "paths  = nh.set_project_paths()\n",
    "\n",
    "#### READ DATA\n",
    "results = pd.read_csv(os.path.join(paths[2], 'ResultsTable.csv')).\\\n",
    "             set_index(['Variable','Outcome'])\n",
    "\n",
    "#### SAVE PERCENT FEMALES LIST\n",
    "nh.check_balanced_tests(results,\n",
    "                        paths[2])"
   ]
  },
  {
   "cell_type": "markdown",
   "metadata": {},
   "source": [
    "How many tests converged in each of the four cohorts?"
   ]
  },
  {
   "cell_type": "code",
   "execution_count": 2,
   "metadata": {
    "execution": {
     "iopub.execute_input": "2021-07-02T00:44:19.095861Z",
     "iopub.status.busy": "2021-07-02T00:44:19.095291Z",
     "iopub.status.idle": "2021-07-02T00:44:19.099709Z",
     "shell.execute_reply": "2021-07-02T00:44:19.099220Z"
    }
   },
   "outputs": [
    {
     "name": "stdout",
     "output_type": "stream",
     "text": [
      "There are 100 tests\n"
     ]
    }
   ],
   "source": [
    "n_tests = len(results)\n",
    "print('There are ' + \n",
    "      str(n_tests) + \n",
    "      ' tests')"
   ]
  },
  {
   "cell_type": "markdown",
   "metadata": {},
   "source": [
    "How many results were significant? and of what type?"
   ]
  },
  {
   "cell_type": "code",
   "execution_count": 3,
   "metadata": {
    "execution": {
     "iopub.execute_input": "2021-07-02T00:44:19.116091Z",
     "iopub.status.busy": "2021-07-02T00:44:19.115498Z",
     "iopub.status.idle": "2021-07-02T00:44:19.120076Z",
     "shell.execute_reply": "2021-07-02T00:44:19.119589Z"
    }
   },
   "outputs": [
    {
     "name": "stdout",
     "output_type": "stream",
     "text": [
      "There are 2 significant results\n",
      "0 quantitative, 0 qualitative, and 2 pure\n"
     ]
    }
   ],
   "source": [
    "n_significant = sum(results['difference_type'] != 'None')\n",
    "n_quant       = sum(results['difference_type'] == 'Quantitative')\n",
    "n_qual        = sum(results['difference_type'] == 'Qualitative')\n",
    "n_pure        = sum(results['difference_type'] == 'Pure')\n",
    "print('There are ' + str(n_significant) + ' significant results')\n",
    "print(str(n_quant) + ' quantitative, ' + str(n_qual) + ' qualitative, and ' + str(n_pure) + ' pure')\n"
   ]
  },
  {
   "cell_type": "markdown",
   "metadata": {},
   "source": [
    "How many unique exposures and phenotypes?"
   ]
  },
  {
   "cell_type": "code",
   "execution_count": 4,
   "metadata": {
    "execution": {
     "iopub.execute_input": "2021-07-02T00:44:19.130151Z",
     "iopub.status.busy": "2021-07-02T00:44:19.129570Z",
     "iopub.status.idle": "2021-07-02T00:44:19.134278Z",
     "shell.execute_reply": "2021-07-02T00:44:19.133505Z"
    }
   },
   "outputs": [
    {
     "name": "stdout",
     "output_type": "stream",
     "text": [
      "Only 2 phenotypes were significant, and 2 exposures\n"
     ]
    }
   ],
   "source": [
    "bool_significant = results['difference_type'] != 'None'\n",
    "n_exposures  = len(results[bool_significant].value_counts('Variable'))\n",
    "n_phenotypes = len(results[bool_significant].value_counts('Outcome'))\n",
    "print('Only ' + str(n_phenotypes) + ' phenotypes were significant, and ' + str(n_exposures) + ' exposures')\n"
   ]
  },
  {
   "cell_type": "code",
   "execution_count": 5,
   "metadata": {
    "execution": {
     "iopub.execute_input": "2021-07-02T00:44:19.144050Z",
     "iopub.status.busy": "2021-07-02T00:44:19.143481Z",
     "iopub.status.idle": "2021-07-02T00:44:19.149231Z",
     "shell.execute_reply": "2021-07-02T00:44:19.148759Z"
    }
   },
   "outputs": [
    {
     "data": {
      "text/plain": [
       "Outcome_Name\n",
       "Lymphocyte number       1\n",
       "Triglyceride (mg/dL)    1\n",
       "dtype: int64"
      ]
     },
     "execution_count": 5,
     "metadata": {},
     "output_type": "execute_result"
    }
   ],
   "source": [
    "results[bool_significant].value_counts('Outcome_Name')"
   ]
  },
  {
   "cell_type": "code",
   "execution_count": 6,
   "metadata": {
    "execution": {
     "iopub.execute_input": "2021-07-02T00:44:19.156245Z",
     "iopub.status.busy": "2021-07-02T00:44:19.155697Z",
     "iopub.status.idle": "2021-07-02T00:44:19.160921Z",
     "shell.execute_reply": "2021-07-02T00:44:19.160440Z"
    }
   },
   "outputs": [
    {
     "data": {
      "text/plain": [
       "Variable_Category\n",
       "nutrients                20\n",
       "heavy metals             18\n",
       "smoking behavior         11\n",
       "food component recall     6\n",
       "supplement use            4\n",
       "cotinine                  1\n",
       "pesticides                1\n",
       "phthalates                1\n",
       "smoking family            1\n",
       "volatile compounds        1\n",
       "dtype: int64"
      ]
     },
     "execution_count": 1,
     "metadata": {},
     "output_type": "execute_result"
    }
   ],
   "source": [
    "results[bool_significant].value_counts('Variable_Category')"
   ]
  },
  {
   "cell_type": "code",
   "execution_count": 7,
   "metadata": {
    "execution": {
     "iopub.execute_input": "2021-07-02T00:44:19.167436Z",
     "iopub.status.busy": "2021-07-02T00:44:19.166879Z",
     "iopub.status.idle": "2021-07-02T00:44:19.172245Z",
     "shell.execute_reply": "2021-07-02T00:44:19.171788Z"
    }
   },
   "outputs": [
    {
     "data": {
      "text/plain": [
       "Variable_Name\n",
       "Lead (ug/dL)                                8\n",
       "Cadmium (ug/L)                              7\n",
       "Vitamin E (ug/dL)                           5\n",
       "Lutein and zeaxanthin (ug/dL)               5\n",
       "Current or Past Cigarette Smoker?           3\n",
       "Vitamin A (ug/dL)                           3\n",
       "g-Tocopherol (ug/dL)                        2\n",
       "IRON_mg                                     2\n",
       "Retinyl Palmitate (ug/dL)                   2\n",
       "Cobalt, urine (ng/mL)                       2\n",
       "Current Cigarette Smoker?                   2\n",
       "Gamma-hexachlorocyclohexane (ng/g)          1\n",
       "How many years smoked this amount           1\n",
       "Mono-n-methyl phthalate                     1\n",
       "Folate, RBC (ng/mL RBC)                     1\n",
       "VITAMIN_C_mg                                1\n",
       "Vitamin D (ng/mL)                           1\n",
       "b-Cryptoxanthin (ug/dL)                     1\n",
       "Food folate (mcg)                           1\n",
       "# cigarettes smoked per day now             1\n",
       "Folate, DFE (mcg)                           1\n",
       "# days smoked cigs during past 30 days      1\n",
       "FTC Nicotine Content                        1\n",
       "FOLIC_ACID_mcg                              1\n",
       "Does anyone smoke in home?                  1\n",
       "Cotinine (ng/mL)                            1\n",
       "Cesium, urine (ng/mL)                       1\n",
       "Carbohydrate (gm)                           1\n",
       "Calcium (mg)                                1\n",
       "Caffeine (mg)                               1\n",
       "Blood m-/p-Xylene (ng/mL)                   1\n",
       "Avg # cigarettes/day during past 30 days    1\n",
       "Alcohol (gm)                                1\n",
       "FTC Tar Content                             1\n",
       "dtype: int64"
      ]
     },
     "execution_count": 1,
     "metadata": {},
     "output_type": "execute_result"
    }
   ],
   "source": [
    "results[bool_significant].value_counts('Variable_Name')"
   ]
  },
  {
   "cell_type": "markdown",
   "metadata": {},
   "source": [
    "## Pure differences"
   ]
  },
  {
   "cell_type": "code",
   "execution_count": 8,
   "metadata": {
    "execution": {
     "iopub.execute_input": "2021-07-02T00:44:19.179987Z",
     "iopub.status.busy": "2021-07-02T00:44:19.179430Z",
     "iopub.status.idle": "2021-07-02T00:44:19.184722Z",
     "shell.execute_reply": "2021-07-02T00:44:19.184209Z"
    }
   },
   "outputs": [
    {
     "data": {
      "text/plain": [
       "Variable_Category\n",
       "nutrients                10\n",
       "smoking behavior          7\n",
       "heavy metals              6\n",
       "food component recall     3\n",
       "cotinine                  1\n",
       "smoking family            1\n",
       "supplement use            1\n",
       "dtype: int64"
      ]
     },
     "execution_count": 1,
     "metadata": {},
     "output_type": "execute_result"
    }
   ],
   "source": [
    "bool_pure = results['difference_type'] == 'Pure'\n",
    "results[bool_pure].value_counts('Variable_Category')"
   ]
  },
  {
   "cell_type": "code",
   "execution_count": 9,
   "metadata": {
    "execution": {
     "iopub.execute_input": "2021-07-02T00:44:19.191664Z",
     "iopub.status.busy": "2021-07-02T00:44:19.191062Z",
     "iopub.status.idle": "2021-07-02T00:44:19.196674Z",
     "shell.execute_reply": "2021-07-02T00:44:19.196139Z"
    }
   },
   "outputs": [
    {
     "data": {
      "text/plain": [
       "Outcome_Name\n",
       "Albumin (g/dL)                    17\n",
       "Direct HDL-Cholesterol (mg/dL)     2\n",
       "C-reactive protein(mg/dL)          1\n",
       "GGT (U/L)                          1\n",
       "Hematocrit (%)                     1\n",
       "Hemoglobin (g/dL)                  1\n",
       "Lymphocyte number                  1\n",
       "Lymphocyte percent (%)             1\n",
       "Mean cell volume (fL)              1\n",
       "Protein, total (g/dL)              1\n",
       "Red cell count SI                  1\n",
       "Sodium (mmol/L)                    1\n",
       "dtype: int64"
      ]
     },
     "execution_count": 1,
     "metadata": {},
     "output_type": "execute_result"
    }
   ],
   "source": [
    "results[bool_pure].value_counts('Outcome_Name')"
   ]
  },
  {
   "cell_type": "code",
   "execution_count": 10,
   "metadata": {
    "execution": {
     "iopub.execute_input": "2021-07-02T00:44:19.205589Z",
     "iopub.status.busy": "2021-07-02T00:44:19.204983Z",
     "iopub.status.idle": "2021-07-02T00:44:19.209613Z",
     "shell.execute_reply": "2021-07-02T00:44:19.208838Z"
    }
   },
   "outputs": [
    {
     "name": "stdout",
     "output_type": "stream",
     "text": [
      "From the pure differences, in 9 cases, females showed significant effects while in 20 cases, males showed significant effects\n"
     ]
    }
   ],
   "source": [
    "betas_pure_females = results.loc[bool_pure,'Beta_female']\n",
    "betas_pure_males   = results.loc[bool_pure,'Beta_male']\n",
    "\n",
    "females_greater = sum(abs(betas_pure_females) > abs(betas_pure_males))\n",
    "males_greater   = sum(abs(betas_pure_females) < abs(betas_pure_males))\n",
    "\n",
    "print('From the pure differences, in ' + str(females_greater) + ' cases, females showed significant effects while in ' + \n",
    "       str(males_greater) + ' cases, males showed significant effects')"
   ]
  },
  {
   "cell_type": "code",
   "execution_count": 11,
   "metadata": {
    "execution": {
     "iopub.execute_input": "2021-07-02T00:44:19.215516Z",
     "iopub.status.busy": "2021-07-02T00:44:19.214951Z",
     "iopub.status.idle": "2021-07-02T00:44:19.249721Z",
     "shell.execute_reply": "2021-07-02T00:44:19.249228Z"
    }
   },
   "outputs": [
    {
     "data": {
      "text/html": [
       "<div>\n",
       "<style scoped>\n",
       "    .dataframe tbody tr th:only-of-type {\n",
       "        vertical-align: middle;\n",
       "    }\n",
       "\n",
       "    .dataframe tbody tr th {\n",
       "        vertical-align: top;\n",
       "    }\n",
       "\n",
       "    .dataframe thead th {\n",
       "        text-align: right;\n",
       "    }\n",
       "</style>\n",
       "<table border=\"1\" class=\"dataframe\">\n",
       "  <thead>\n",
       "    <tr style=\"text-align: right;\">\n",
       "      <th></th>\n",
       "      <th></th>\n",
       "      <th>Variable_Name</th>\n",
       "      <th>Outcome_Name</th>\n",
       "      <th>Beta_female</th>\n",
       "      <th>SE_female</th>\n",
       "      <th>pvalue_female</th>\n",
       "      <th>Beta_male</th>\n",
       "      <th>SE_male</th>\n",
       "      <th>pvalue_male</th>\n",
       "    </tr>\n",
       "    <tr>\n",
       "      <th>Variable</th>\n",
       "      <th>Outcome</th>\n",
       "      <th></th>\n",
       "      <th></th>\n",
       "      <th></th>\n",
       "      <th></th>\n",
       "      <th></th>\n",
       "      <th></th>\n",
       "      <th></th>\n",
       "      <th></th>\n",
       "    </tr>\n",
       "  </thead>\n",
       "  <tbody>\n",
       "    <tr>\n",
       "      <th>DR1TCALC</th>\n",
       "      <th>LBXSAL</th>\n",
       "      <td>Calcium (mg)</td>\n",
       "      <td>Albumin (g/dL)</td>\n",
       "      <td>-0.066957</td>\n",
       "      <td>0.008815</td>\n",
       "      <td>3.058731e-14</td>\n",
       "      <td>0.009591</td>\n",
       "      <td>0.013366</td>\n",
       "      <td>4.730319e-01</td>\n",
       "    </tr>\n",
       "    <tr>\n",
       "      <th>DR1TCARB</th>\n",
       "      <th>LBXLYPCT</th>\n",
       "      <td>Carbohydrate (gm)</td>\n",
       "      <td>Lymphocyte percent (%)</td>\n",
       "      <td>-0.061278</td>\n",
       "      <td>0.011468</td>\n",
       "      <td>9.126683e-08</td>\n",
       "      <td>0.025154</td>\n",
       "      <td>0.014451</td>\n",
       "      <td>8.174744e-02</td>\n",
       "    </tr>\n",
       "    <tr>\n",
       "      <th>DR1TFDFE</th>\n",
       "      <th>LBXSAL</th>\n",
       "      <td>Folate, DFE (mcg)</td>\n",
       "      <td>Albumin (g/dL)</td>\n",
       "      <td>-0.060033</td>\n",
       "      <td>0.011575</td>\n",
       "      <td>2.142226e-07</td>\n",
       "      <td>0.027875</td>\n",
       "      <td>0.014385</td>\n",
       "      <td>5.264445e-02</td>\n",
       "    </tr>\n",
       "    <tr>\n",
       "      <th>LBXBCD</th>\n",
       "      <th>LBXSAL</th>\n",
       "      <td>Cadmium (ug/L)</td>\n",
       "      <td>Albumin (g/dL)</td>\n",
       "      <td>-0.004649</td>\n",
       "      <td>0.009483</td>\n",
       "      <td>6.239368e-01</td>\n",
       "      <td>-0.087992</td>\n",
       "      <td>0.013839</td>\n",
       "      <td>2.038226e-10</td>\n",
       "    </tr>\n",
       "    <tr>\n",
       "      <th rowspan=\"3\" valign=\"top\">LBXBPB</th>\n",
       "      <th>LBDHDL</th>\n",
       "      <td>Lead (ug/dL)</td>\n",
       "      <td>Direct HDL-Cholesterol (mg/dL)</td>\n",
       "      <td>-0.023585</td>\n",
       "      <td>0.016311</td>\n",
       "      <td>1.481927e-01</td>\n",
       "      <td>0.095229</td>\n",
       "      <td>0.019219</td>\n",
       "      <td>7.232572e-07</td>\n",
       "    </tr>\n",
       "    <tr>\n",
       "      <th>LBXSAL</th>\n",
       "      <td>Lead (ug/dL)</td>\n",
       "      <td>Albumin (g/dL)</td>\n",
       "      <td>0.098868</td>\n",
       "      <td>0.012004</td>\n",
       "      <td>1.772873e-16</td>\n",
       "      <td>-0.007432</td>\n",
       "      <td>0.015698</td>\n",
       "      <td>6.359104e-01</td>\n",
       "    </tr>\n",
       "    <tr>\n",
       "      <th>LBXSNASI</th>\n",
       "      <td>Lead (ug/dL)</td>\n",
       "      <td>Sodium (mmol/L)</td>\n",
       "      <td>0.077513</td>\n",
       "      <td>0.014171</td>\n",
       "      <td>4.500553e-08</td>\n",
       "      <td>-0.018450</td>\n",
       "      <td>0.014746</td>\n",
       "      <td>2.108785e-01</td>\n",
       "    </tr>\n",
       "    <tr>\n",
       "      <th>LBXCOT</th>\n",
       "      <th>LBXSAL</th>\n",
       "      <td>Cotinine (ng/mL)</td>\n",
       "      <td>Albumin (g/dL)</td>\n",
       "      <td>0.009661</td>\n",
       "      <td>0.006603</td>\n",
       "      <td>1.434530e-01</td>\n",
       "      <td>-0.086585</td>\n",
       "      <td>0.011819</td>\n",
       "      <td>2.370469e-13</td>\n",
       "    </tr>\n",
       "    <tr>\n",
       "      <th rowspan=\"2\" valign=\"top\">LBXLUZ</th>\n",
       "      <th>LBXMCVSI</th>\n",
       "      <td>Lutein and zeaxanthin (ug/dL)</td>\n",
       "      <td>Mean cell volume (fL)</td>\n",
       "      <td>0.022217</td>\n",
       "      <td>0.012612</td>\n",
       "      <td>7.813556e-02</td>\n",
       "      <td>-0.062907</td>\n",
       "      <td>0.009745</td>\n",
       "      <td>1.079201e-10</td>\n",
       "    </tr>\n",
       "    <tr>\n",
       "      <th>LBXSAL</th>\n",
       "      <td>Lutein and zeaxanthin (ug/dL)</td>\n",
       "      <td>Albumin (g/dL)</td>\n",
       "      <td>0.011154</td>\n",
       "      <td>0.012599</td>\n",
       "      <td>3.759652e-01</td>\n",
       "      <td>0.121909</td>\n",
       "      <td>0.013238</td>\n",
       "      <td>3.284954e-20</td>\n",
       "    </tr>\n",
       "    <tr>\n",
       "      <th rowspan=\"2\" valign=\"top\">LBXVIA</th>\n",
       "      <th>LBDLYMNO</th>\n",
       "      <td>Vitamin A (ug/dL)</td>\n",
       "      <td>Lymphocyte number</td>\n",
       "      <td>0.098538</td>\n",
       "      <td>0.015807</td>\n",
       "      <td>4.553577e-10</td>\n",
       "      <td>-0.010502</td>\n",
       "      <td>0.014872</td>\n",
       "      <td>4.800801e-01</td>\n",
       "    </tr>\n",
       "    <tr>\n",
       "      <th>LBXCRP</th>\n",
       "      <td>Vitamin A (ug/dL)</td>\n",
       "      <td>C-reactive protein(mg/dL)</td>\n",
       "      <td>0.014130</td>\n",
       "      <td>0.013723</td>\n",
       "      <td>3.031508e-01</td>\n",
       "      <td>-0.180059</td>\n",
       "      <td>0.016127</td>\n",
       "      <td>6.028036e-29</td>\n",
       "    </tr>\n",
       "    <tr>\n",
       "      <th>LBXVID</th>\n",
       "      <th>LBXSAL</th>\n",
       "      <td>Vitamin D (ng/mL)</td>\n",
       "      <td>Albumin (g/dL)</td>\n",
       "      <td>-0.005042</td>\n",
       "      <td>0.010656</td>\n",
       "      <td>6.360833e-01</td>\n",
       "      <td>0.089377</td>\n",
       "      <td>0.013813</td>\n",
       "      <td>9.772699e-11</td>\n",
       "    </tr>\n",
       "    <tr>\n",
       "      <th rowspan=\"5\" valign=\"top\">LBXVIE</th>\n",
       "      <th>LBDHDL</th>\n",
       "      <td>Vitamin E (ug/dL)</td>\n",
       "      <td>Direct HDL-Cholesterol (mg/dL)</td>\n",
       "      <td>0.086849</td>\n",
       "      <td>0.015681</td>\n",
       "      <td>3.049040e-08</td>\n",
       "      <td>-0.024914</td>\n",
       "      <td>0.016673</td>\n",
       "      <td>1.351012e-01</td>\n",
       "    </tr>\n",
       "    <tr>\n",
       "      <th>LBXRBCSI</th>\n",
       "      <td>Vitamin E (ug/dL)</td>\n",
       "      <td>Red cell count SI</td>\n",
       "      <td>-0.028234</td>\n",
       "      <td>0.015983</td>\n",
       "      <td>7.731825e-02</td>\n",
       "      <td>0.066043</td>\n",
       "      <td>0.012000</td>\n",
       "      <td>3.721905e-08</td>\n",
       "    </tr>\n",
       "    <tr>\n",
       "      <th>LBXSAL</th>\n",
       "      <td>Vitamin E (ug/dL)</td>\n",
       "      <td>Albumin (g/dL)</td>\n",
       "      <td>-0.017754</td>\n",
       "      <td>0.017437</td>\n",
       "      <td>3.085905e-01</td>\n",
       "      <td>0.156956</td>\n",
       "      <td>0.013917</td>\n",
       "      <td>1.681082e-29</td>\n",
       "    </tr>\n",
       "    <tr>\n",
       "      <th>LBXSGTSI</th>\n",
       "      <td>Vitamin E (ug/dL)</td>\n",
       "      <td>GGT (U/L)</td>\n",
       "      <td>0.029556</td>\n",
       "      <td>0.015980</td>\n",
       "      <td>6.438214e-02</td>\n",
       "      <td>0.143833</td>\n",
       "      <td>0.015831</td>\n",
       "      <td>1.029692e-19</td>\n",
       "    </tr>\n",
       "    <tr>\n",
       "      <th>LBXSTP</th>\n",
       "      <td>Vitamin E (ug/dL)</td>\n",
       "      <td>Protein, total (g/dL)</td>\n",
       "      <td>-0.012734</td>\n",
       "      <td>0.016602</td>\n",
       "      <td>4.430872e-01</td>\n",
       "      <td>0.093054</td>\n",
       "      <td>0.013720</td>\n",
       "      <td>1.181255e-11</td>\n",
       "    </tr>\n",
       "    <tr>\n",
       "      <th>SMD070</th>\n",
       "      <th>LBXSAL</th>\n",
       "      <td># cigarettes smoked per day now</td>\n",
       "      <td>Albumin (g/dL)</td>\n",
       "      <td>0.022973</td>\n",
       "      <td>0.014658</td>\n",
       "      <td>1.170627e-01</td>\n",
       "      <td>-0.106275</td>\n",
       "      <td>0.018987</td>\n",
       "      <td>2.178930e-08</td>\n",
       "    </tr>\n",
       "    <tr>\n",
       "      <th>SMD075</th>\n",
       "      <th>LBXSAL</th>\n",
       "      <td>How many years smoked this amount</td>\n",
       "      <td>Albumin (g/dL)</td>\n",
       "      <td>0.005238</td>\n",
       "      <td>0.011750</td>\n",
       "      <td>6.557696e-01</td>\n",
       "      <td>-0.106182</td>\n",
       "      <td>0.017829</td>\n",
       "      <td>2.589161e-09</td>\n",
       "    </tr>\n",
       "    <tr>\n",
       "      <th>SMD080</th>\n",
       "      <th>LBXSAL</th>\n",
       "      <td># days smoked cigs during past 30 days</td>\n",
       "      <td>Albumin (g/dL)</td>\n",
       "      <td>0.023584</td>\n",
       "      <td>0.012621</td>\n",
       "      <td>6.166802e-02</td>\n",
       "      <td>-0.120768</td>\n",
       "      <td>0.018423</td>\n",
       "      <td>5.560184e-11</td>\n",
       "    </tr>\n",
       "    <tr>\n",
       "      <th>SMD090</th>\n",
       "      <th>LBXSAL</th>\n",
       "      <td>Avg # cigarettes/day during past 30 days</td>\n",
       "      <td>Albumin (g/dL)</td>\n",
       "      <td>0.023195</td>\n",
       "      <td>0.013169</td>\n",
       "      <td>7.817637e-02</td>\n",
       "      <td>-0.110460</td>\n",
       "      <td>0.019264</td>\n",
       "      <td>9.803437e-09</td>\n",
       "    </tr>\n",
       "    <tr>\n",
       "      <th>SMD100NI</th>\n",
       "      <th>LBXSAL</th>\n",
       "      <td>FTC Nicotine Content</td>\n",
       "      <td>Albumin (g/dL)</td>\n",
       "      <td>0.019454</td>\n",
       "      <td>0.013864</td>\n",
       "      <td>1.605492e-01</td>\n",
       "      <td>-0.089874</td>\n",
       "      <td>0.017945</td>\n",
       "      <td>5.488959e-07</td>\n",
       "    </tr>\n",
       "    <tr>\n",
       "      <th>SMD100TR</th>\n",
       "      <th>LBXSAL</th>\n",
       "      <td>FTC Tar Content</td>\n",
       "      <td>Albumin (g/dL)</td>\n",
       "      <td>0.017984</td>\n",
       "      <td>0.014154</td>\n",
       "      <td>2.038849e-01</td>\n",
       "      <td>-0.098821</td>\n",
       "      <td>0.017731</td>\n",
       "      <td>2.498289e-08</td>\n",
       "    </tr>\n",
       "    <tr>\n",
       "      <th>SMD410</th>\n",
       "      <th>LBXSAL</th>\n",
       "      <td>Does anyone smoke in home?</td>\n",
       "      <td>Albumin (g/dL)</td>\n",
       "      <td>-0.014584</td>\n",
       "      <td>0.020534</td>\n",
       "      <td>4.775605e-01</td>\n",
       "      <td>-0.184248</td>\n",
       "      <td>0.026590</td>\n",
       "      <td>4.234258e-12</td>\n",
       "    </tr>\n",
       "    <tr>\n",
       "      <th rowspan=\"2\" valign=\"top\">URXUCO</th>\n",
       "      <th>LBXHCT</th>\n",
       "      <td>Cobalt, urine (ng/mL)</td>\n",
       "      <td>Hematocrit (%)</td>\n",
       "      <td>-0.139540</td>\n",
       "      <td>0.018401</td>\n",
       "      <td>3.370534e-14</td>\n",
       "      <td>0.007731</td>\n",
       "      <td>0.022596</td>\n",
       "      <td>7.322372e-01</td>\n",
       "    </tr>\n",
       "    <tr>\n",
       "      <th>LBXHGB</th>\n",
       "      <td>Cobalt, urine (ng/mL)</td>\n",
       "      <td>Hemoglobin (g/dL)</td>\n",
       "      <td>-0.154098</td>\n",
       "      <td>0.017677</td>\n",
       "      <td>2.845133e-18</td>\n",
       "      <td>0.000933</td>\n",
       "      <td>0.023343</td>\n",
       "      <td>9.681230e-01</td>\n",
       "    </tr>\n",
       "    <tr>\n",
       "      <th>VITAMIN_C_mg</th>\n",
       "      <th>LBXSAL</th>\n",
       "      <td>VITAMIN_C_mg</td>\n",
       "      <td>Albumin (g/dL)</td>\n",
       "      <td>-0.008277</td>\n",
       "      <td>0.011213</td>\n",
       "      <td>4.604192e-01</td>\n",
       "      <td>0.066310</td>\n",
       "      <td>0.011321</td>\n",
       "      <td>4.702869e-09</td>\n",
       "    </tr>\n",
       "    <tr>\n",
       "      <th>current_past_smoking</th>\n",
       "      <th>LBXSAL</th>\n",
       "      <td>Current or Past Cigarette Smoker?</td>\n",
       "      <td>Albumin (g/dL)</td>\n",
       "      <td>0.012737</td>\n",
       "      <td>0.017385</td>\n",
       "      <td>4.637686e-01</td>\n",
       "      <td>-0.201576</td>\n",
       "      <td>0.032912</td>\n",
       "      <td>9.082281e-10</td>\n",
       "    </tr>\n",
       "  </tbody>\n",
       "</table>\n",
       "</div>"
      ],
      "text/plain": [
       "                                                          Variable_Name  \\\n",
       "Variable             Outcome                                              \n",
       "DR1TCALC             LBXSAL                                Calcium (mg)   \n",
       "DR1TCARB             LBXLYPCT                         Carbohydrate (gm)   \n",
       "DR1TFDFE             LBXSAL                           Folate, DFE (mcg)   \n",
       "LBXBCD               LBXSAL                              Cadmium (ug/L)   \n",
       "LBXBPB               LBDHDL                                Lead (ug/dL)   \n",
       "                     LBXSAL                                Lead (ug/dL)   \n",
       "                     LBXSNASI                              Lead (ug/dL)   \n",
       "LBXCOT               LBXSAL                            Cotinine (ng/mL)   \n",
       "LBXLUZ               LBXMCVSI             Lutein and zeaxanthin (ug/dL)   \n",
       "                     LBXSAL               Lutein and zeaxanthin (ug/dL)   \n",
       "LBXVIA               LBDLYMNO                         Vitamin A (ug/dL)   \n",
       "                     LBXCRP                           Vitamin A (ug/dL)   \n",
       "LBXVID               LBXSAL                           Vitamin D (ng/mL)   \n",
       "LBXVIE               LBDHDL                           Vitamin E (ug/dL)   \n",
       "                     LBXRBCSI                         Vitamin E (ug/dL)   \n",
       "                     LBXSAL                           Vitamin E (ug/dL)   \n",
       "                     LBXSGTSI                         Vitamin E (ug/dL)   \n",
       "                     LBXSTP                           Vitamin E (ug/dL)   \n",
       "SMD070               LBXSAL             # cigarettes smoked per day now   \n",
       "SMD075               LBXSAL           How many years smoked this amount   \n",
       "SMD080               LBXSAL      # days smoked cigs during past 30 days   \n",
       "SMD090               LBXSAL    Avg # cigarettes/day during past 30 days   \n",
       "SMD100NI             LBXSAL                        FTC Nicotine Content   \n",
       "SMD100TR             LBXSAL                             FTC Tar Content   \n",
       "SMD410               LBXSAL                  Does anyone smoke in home?   \n",
       "URXUCO               LBXHCT                       Cobalt, urine (ng/mL)   \n",
       "                     LBXHGB                       Cobalt, urine (ng/mL)   \n",
       "VITAMIN_C_mg         LBXSAL                                VITAMIN_C_mg   \n",
       "current_past_smoking LBXSAL           Current or Past Cigarette Smoker?   \n",
       "\n",
       "                                                 Outcome_Name  Beta_female  \\\n",
       "Variable             Outcome                                                 \n",
       "DR1TCALC             LBXSAL                    Albumin (g/dL)    -0.066957   \n",
       "DR1TCARB             LBXLYPCT          Lymphocyte percent (%)    -0.061278   \n",
       "DR1TFDFE             LBXSAL                    Albumin (g/dL)    -0.060033   \n",
       "LBXBCD               LBXSAL                    Albumin (g/dL)    -0.004649   \n",
       "LBXBPB               LBDHDL    Direct HDL-Cholesterol (mg/dL)    -0.023585   \n",
       "                     LBXSAL                    Albumin (g/dL)     0.098868   \n",
       "                     LBXSNASI                 Sodium (mmol/L)     0.077513   \n",
       "LBXCOT               LBXSAL                    Albumin (g/dL)     0.009661   \n",
       "LBXLUZ               LBXMCVSI           Mean cell volume (fL)     0.022217   \n",
       "                     LBXSAL                    Albumin (g/dL)     0.011154   \n",
       "LBXVIA               LBDLYMNO               Lymphocyte number     0.098538   \n",
       "                     LBXCRP         C-reactive protein(mg/dL)     0.014130   \n",
       "LBXVID               LBXSAL                    Albumin (g/dL)    -0.005042   \n",
       "LBXVIE               LBDHDL    Direct HDL-Cholesterol (mg/dL)     0.086849   \n",
       "                     LBXRBCSI               Red cell count SI    -0.028234   \n",
       "                     LBXSAL                    Albumin (g/dL)    -0.017754   \n",
       "                     LBXSGTSI                       GGT (U/L)     0.029556   \n",
       "                     LBXSTP             Protein, total (g/dL)    -0.012734   \n",
       "SMD070               LBXSAL                    Albumin (g/dL)     0.022973   \n",
       "SMD075               LBXSAL                    Albumin (g/dL)     0.005238   \n",
       "SMD080               LBXSAL                    Albumin (g/dL)     0.023584   \n",
       "SMD090               LBXSAL                    Albumin (g/dL)     0.023195   \n",
       "SMD100NI             LBXSAL                    Albumin (g/dL)     0.019454   \n",
       "SMD100TR             LBXSAL                    Albumin (g/dL)     0.017984   \n",
       "SMD410               LBXSAL                    Albumin (g/dL)    -0.014584   \n",
       "URXUCO               LBXHCT                    Hematocrit (%)    -0.139540   \n",
       "                     LBXHGB                 Hemoglobin (g/dL)    -0.154098   \n",
       "VITAMIN_C_mg         LBXSAL                    Albumin (g/dL)    -0.008277   \n",
       "current_past_smoking LBXSAL                    Albumin (g/dL)     0.012737   \n",
       "\n",
       "                               SE_female  pvalue_female  Beta_male   SE_male  \\\n",
       "Variable             Outcome                                                   \n",
       "DR1TCALC             LBXSAL     0.008815   3.058731e-14   0.009591  0.013366   \n",
       "DR1TCARB             LBXLYPCT   0.011468   9.126683e-08   0.025154  0.014451   \n",
       "DR1TFDFE             LBXSAL     0.011575   2.142226e-07   0.027875  0.014385   \n",
       "LBXBCD               LBXSAL     0.009483   6.239368e-01  -0.087992  0.013839   \n",
       "LBXBPB               LBDHDL     0.016311   1.481927e-01   0.095229  0.019219   \n",
       "                     LBXSAL     0.012004   1.772873e-16  -0.007432  0.015698   \n",
       "                     LBXSNASI   0.014171   4.500553e-08  -0.018450  0.014746   \n",
       "LBXCOT               LBXSAL     0.006603   1.434530e-01  -0.086585  0.011819   \n",
       "LBXLUZ               LBXMCVSI   0.012612   7.813556e-02  -0.062907  0.009745   \n",
       "                     LBXSAL     0.012599   3.759652e-01   0.121909  0.013238   \n",
       "LBXVIA               LBDLYMNO   0.015807   4.553577e-10  -0.010502  0.014872   \n",
       "                     LBXCRP     0.013723   3.031508e-01  -0.180059  0.016127   \n",
       "LBXVID               LBXSAL     0.010656   6.360833e-01   0.089377  0.013813   \n",
       "LBXVIE               LBDHDL     0.015681   3.049040e-08  -0.024914  0.016673   \n",
       "                     LBXRBCSI   0.015983   7.731825e-02   0.066043  0.012000   \n",
       "                     LBXSAL     0.017437   3.085905e-01   0.156956  0.013917   \n",
       "                     LBXSGTSI   0.015980   6.438214e-02   0.143833  0.015831   \n",
       "                     LBXSTP     0.016602   4.430872e-01   0.093054  0.013720   \n",
       "SMD070               LBXSAL     0.014658   1.170627e-01  -0.106275  0.018987   \n",
       "SMD075               LBXSAL     0.011750   6.557696e-01  -0.106182  0.017829   \n",
       "SMD080               LBXSAL     0.012621   6.166802e-02  -0.120768  0.018423   \n",
       "SMD090               LBXSAL     0.013169   7.817637e-02  -0.110460  0.019264   \n",
       "SMD100NI             LBXSAL     0.013864   1.605492e-01  -0.089874  0.017945   \n",
       "SMD100TR             LBXSAL     0.014154   2.038849e-01  -0.098821  0.017731   \n",
       "SMD410               LBXSAL     0.020534   4.775605e-01  -0.184248  0.026590   \n",
       "URXUCO               LBXHCT     0.018401   3.370534e-14   0.007731  0.022596   \n",
       "                     LBXHGB     0.017677   2.845133e-18   0.000933  0.023343   \n",
       "VITAMIN_C_mg         LBXSAL     0.011213   4.604192e-01   0.066310  0.011321   \n",
       "current_past_smoking LBXSAL     0.017385   4.637686e-01  -0.201576  0.032912   \n",
       "\n",
       "                                pvalue_male  \n",
       "Variable             Outcome                 \n",
       "DR1TCALC             LBXSAL    4.730319e-01  \n",
       "DR1TCARB             LBXLYPCT  8.174744e-02  \n",
       "DR1TFDFE             LBXSAL    5.264445e-02  \n",
       "LBXBCD               LBXSAL    2.038226e-10  \n",
       "LBXBPB               LBDHDL    7.232572e-07  \n",
       "                     LBXSAL    6.359104e-01  \n",
       "                     LBXSNASI  2.108785e-01  \n",
       "LBXCOT               LBXSAL    2.370469e-13  \n",
       "LBXLUZ               LBXMCVSI  1.079201e-10  \n",
       "                     LBXSAL    3.284954e-20  \n",
       "LBXVIA               LBDLYMNO  4.800801e-01  \n",
       "                     LBXCRP    6.028036e-29  \n",
       "LBXVID               LBXSAL    9.772699e-11  \n",
       "LBXVIE               LBDHDL    1.351012e-01  \n",
       "                     LBXRBCSI  3.721905e-08  \n",
       "                     LBXSAL    1.681082e-29  \n",
       "                     LBXSGTSI  1.029692e-19  \n",
       "                     LBXSTP    1.181255e-11  \n",
       "SMD070               LBXSAL    2.178930e-08  \n",
       "SMD075               LBXSAL    2.589161e-09  \n",
       "SMD080               LBXSAL    5.560184e-11  \n",
       "SMD090               LBXSAL    9.803437e-09  \n",
       "SMD100NI             LBXSAL    5.488959e-07  \n",
       "SMD100TR             LBXSAL    2.498289e-08  \n",
       "SMD410               LBXSAL    4.234258e-12  \n",
       "URXUCO               LBXHCT    7.322372e-01  \n",
       "                     LBXHGB    9.681230e-01  \n",
       "VITAMIN_C_mg         LBXSAL    4.702869e-09  \n",
       "current_past_smoking LBXSAL    9.082281e-10  "
      ]
     },
     "execution_count": 1,
     "metadata": {},
     "output_type": "execute_result"
    }
   ],
   "source": [
    "print_columns = ['Variable_Name',\n",
    "                 'Outcome_Name',\n",
    "                 'Beta_female',\n",
    "                 'SE_female',\n",
    "                 'pvalue_female',\n",
    "                 'Beta_male',\n",
    "                 'SE_male',\n",
    "                 'pvalue_male']\n",
    "results.loc[bool_pure,print_columns]"
   ]
  },
  {
   "cell_type": "markdown",
   "metadata": {},
   "source": [
    "### Pure differences in females"
   ]
  },
  {
   "cell_type": "code",
   "execution_count": 12,
   "metadata": {
    "execution": {
     "iopub.execute_input": "2021-07-02T00:44:19.258542Z",
     "iopub.status.busy": "2021-07-02T00:44:19.257985Z",
     "iopub.status.idle": "2021-07-02T00:44:19.263293Z",
     "shell.execute_reply": "2021-07-02T00:44:19.262836Z"
    }
   },
   "outputs": [
    {
     "data": {
      "text/plain": [
       "Variable_Category\n",
       "heavy metals             4\n",
       "food component recall    3\n",
       "nutrients                2\n",
       "dtype: int64"
      ]
     },
     "execution_count": 1,
     "metadata": {},
     "output_type": "execute_result"
    }
   ],
   "source": [
    "results[bool_pure][abs(betas_pure_females) > abs(betas_pure_males)].value_counts('Variable_Category')"
   ]
  },
  {
   "cell_type": "code",
   "execution_count": 13,
   "metadata": {
    "execution": {
     "iopub.execute_input": "2021-07-02T00:44:19.271131Z",
     "iopub.status.busy": "2021-07-02T00:44:19.270589Z",
     "iopub.status.idle": "2021-07-02T00:44:19.275836Z",
     "shell.execute_reply": "2021-07-02T00:44:19.275374Z"
    }
   },
   "outputs": [
    {
     "data": {
      "text/plain": [
       "Variable_Name\n",
       "Cobalt, urine (ng/mL)    2\n",
       "Lead (ug/dL)             2\n",
       "Calcium (mg)             1\n",
       "Carbohydrate (gm)        1\n",
       "Folate, DFE (mcg)        1\n",
       "Vitamin A (ug/dL)        1\n",
       "Vitamin E (ug/dL)        1\n",
       "dtype: int64"
      ]
     },
     "execution_count": 1,
     "metadata": {},
     "output_type": "execute_result"
    }
   ],
   "source": [
    "results[bool_pure][abs(betas_pure_females) > abs(betas_pure_males)].value_counts('Variable_Name')"
   ]
  },
  {
   "cell_type": "code",
   "execution_count": 14,
   "metadata": {
    "execution": {
     "iopub.execute_input": "2021-07-02T00:44:19.284076Z",
     "iopub.status.busy": "2021-07-02T00:44:19.283529Z",
     "iopub.status.idle": "2021-07-02T00:44:19.288816Z",
     "shell.execute_reply": "2021-07-02T00:44:19.288344Z"
    }
   },
   "outputs": [
    {
     "data": {
      "text/plain": [
       "Outcome_Name\n",
       "Albumin (g/dL)                    3\n",
       "Direct HDL-Cholesterol (mg/dL)    1\n",
       "Hematocrit (%)                    1\n",
       "Hemoglobin (g/dL)                 1\n",
       "Lymphocyte number                 1\n",
       "Lymphocyte percent (%)            1\n",
       "Sodium (mmol/L)                   1\n",
       "dtype: int64"
      ]
     },
     "execution_count": 1,
     "metadata": {},
     "output_type": "execute_result"
    }
   ],
   "source": [
    "results[bool_pure][abs(betas_pure_females) > abs(betas_pure_males)].value_counts('Outcome_Name')"
   ]
  },
  {
   "cell_type": "markdown",
   "metadata": {},
   "source": [
    "### Pure differences in males"
   ]
  },
  {
   "cell_type": "code",
   "execution_count": 15,
   "metadata": {
    "execution": {
     "iopub.execute_input": "2021-07-02T00:44:19.297617Z",
     "iopub.status.busy": "2021-07-02T00:44:19.297047Z",
     "iopub.status.idle": "2021-07-02T00:44:19.302509Z",
     "shell.execute_reply": "2021-07-02T00:44:19.302021Z"
    }
   },
   "outputs": [
    {
     "data": {
      "text/plain": [
       "Variable_Category\n",
       "nutrients           8\n",
       "smoking behavior    7\n",
       "heavy metals        2\n",
       "cotinine            1\n",
       "smoking family      1\n",
       "supplement use      1\n",
       "dtype: int64"
      ]
     },
     "execution_count": 1,
     "metadata": {},
     "output_type": "execute_result"
    }
   ],
   "source": [
    "results[bool_pure][abs(betas_pure_females) < abs(betas_pure_males)].value_counts('Variable_Category')"
   ]
  },
  {
   "cell_type": "code",
   "execution_count": 16,
   "metadata": {
    "execution": {
     "iopub.execute_input": "2021-07-02T00:44:19.311365Z",
     "iopub.status.busy": "2021-07-02T00:44:19.310811Z",
     "iopub.status.idle": "2021-07-02T00:44:19.316171Z",
     "shell.execute_reply": "2021-07-02T00:44:19.315696Z"
    }
   },
   "outputs": [
    {
     "data": {
      "text/plain": [
       "Variable_Name\n",
       "Vitamin E (ug/dL)                           4\n",
       "Lutein and zeaxanthin (ug/dL)               2\n",
       "# cigarettes smoked per day now             1\n",
       "# days smoked cigs during past 30 days      1\n",
       "Avg # cigarettes/day during past 30 days    1\n",
       "Cadmium (ug/L)                              1\n",
       "Cotinine (ng/mL)                            1\n",
       "Current or Past Cigarette Smoker?           1\n",
       "Does anyone smoke in home?                  1\n",
       "FTC Nicotine Content                        1\n",
       "FTC Tar Content                             1\n",
       "How many years smoked this amount           1\n",
       "Lead (ug/dL)                                1\n",
       "VITAMIN_C_mg                                1\n",
       "Vitamin A (ug/dL)                           1\n",
       "Vitamin D (ng/mL)                           1\n",
       "dtype: int64"
      ]
     },
     "execution_count": 1,
     "metadata": {},
     "output_type": "execute_result"
    }
   ],
   "source": [
    "results[bool_pure][abs(betas_pure_females) < abs(betas_pure_males)].value_counts('Variable_Name')"
   ]
  },
  {
   "cell_type": "code",
   "execution_count": 17,
   "metadata": {
    "execution": {
     "iopub.execute_input": "2021-07-02T00:44:19.325151Z",
     "iopub.status.busy": "2021-07-02T00:44:19.324563Z",
     "iopub.status.idle": "2021-07-02T00:44:19.330137Z",
     "shell.execute_reply": "2021-07-02T00:44:19.329646Z"
    }
   },
   "outputs": [
    {
     "data": {
      "text/plain": [
       "Outcome_Name\n",
       "Albumin (g/dL)                    14\n",
       "C-reactive protein(mg/dL)          1\n",
       "Direct HDL-Cholesterol (mg/dL)     1\n",
       "GGT (U/L)                          1\n",
       "Mean cell volume (fL)              1\n",
       "Protein, total (g/dL)              1\n",
       "Red cell count SI                  1\n",
       "dtype: int64"
      ]
     },
     "execution_count": 1,
     "metadata": {},
     "output_type": "execute_result"
    }
   ],
   "source": [
    "results[bool_pure][abs(betas_pure_females) < abs(betas_pure_males)].value_counts('Outcome_Name')"
   ]
  },
  {
   "cell_type": "markdown",
   "metadata": {},
   "source": [
    "## Quantitative differences"
   ]
  },
  {
   "cell_type": "code",
   "execution_count": 18,
   "metadata": {
    "execution": {
     "iopub.execute_input": "2021-07-02T00:44:19.338731Z",
     "iopub.status.busy": "2021-07-02T00:44:19.338145Z",
     "iopub.status.idle": "2021-07-02T00:44:19.343660Z",
     "shell.execute_reply": "2021-07-02T00:44:19.343132Z"
    }
   },
   "outputs": [
    {
     "data": {
      "text/plain": [
       "Variable_Category\n",
       "heavy metals             10\n",
       "nutrients                 7\n",
       "smoking behavior          4\n",
       "food component recall     1\n",
       "pesticides                1\n",
       "supplement use            1\n",
       "dtype: int64"
      ]
     },
     "execution_count": 1,
     "metadata": {},
     "output_type": "execute_result"
    }
   ],
   "source": [
    "bool_quant = results['difference_type'] == 'Quantitative'\n",
    "results[bool_quant].value_counts('Variable_Category')"
   ]
  },
  {
   "cell_type": "code",
   "execution_count": 19,
   "metadata": {
    "execution": {
     "iopub.execute_input": "2021-07-02T00:44:19.350754Z",
     "iopub.status.busy": "2021-07-02T00:44:19.350173Z",
     "iopub.status.idle": "2021-07-02T00:44:19.355625Z",
     "shell.execute_reply": "2021-07-02T00:44:19.355151Z"
    }
   },
   "outputs": [
    {
     "data": {
      "text/plain": [
       "Outcome_Name\n",
       "Albumin (g/dL)                      2\n",
       "Red cell count SI                   2\n",
       "Triglycerides (mg/dL)               2\n",
       "Triglyceride (mg/dL)                2\n",
       "Segmented neutrophils number        2\n",
       "White blood cell count (SI)         2\n",
       "GGT (U/L)                           1\n",
       "Hematocrit (%)                      1\n",
       "Hemoglobin (g/dL)                   1\n",
       "Albumin, urine (ug/mL)              1\n",
       "Mean cell hemoglobin (pg)           1\n",
       "Mean cell volume (fL)               1\n",
       "Phosphorus (mg/dL)                  1\n",
       "Direct HDL-Cholesterol (mg/dL)      1\n",
       "C-reactive protein(mg/dL)           1\n",
       "Bone alkaline phosphotase (ug/L)    1\n",
       "Alkaline phosphotase (U/L)          1\n",
       "Homocysteine (umol/L)               1\n",
       "dtype: int64"
      ]
     },
     "execution_count": 1,
     "metadata": {},
     "output_type": "execute_result"
    }
   ],
   "source": [
    "results[bool_quant].value_counts('Outcome_Name')"
   ]
  },
  {
   "cell_type": "code",
   "execution_count": 20,
   "metadata": {
    "execution": {
     "iopub.execute_input": "2021-07-02T00:44:19.363975Z",
     "iopub.status.busy": "2021-07-02T00:44:19.363400Z",
     "iopub.status.idle": "2021-07-02T00:44:19.367881Z",
     "shell.execute_reply": "2021-07-02T00:44:19.367083Z"
    }
   },
   "outputs": [
    {
     "name": "stdout",
     "output_type": "stream",
     "text": [
      "From the quantitative differences, in 9 cases, females showed greater effects while in 15 cases, males showed greater ones\n"
     ]
    }
   ],
   "source": [
    "betas_quant_females = results.loc[bool_quant,'Beta_female']\n",
    "betas_quant_males   = results.loc[bool_quant,'Beta_male']\n",
    "\n",
    "females_greater = sum(abs(betas_quant_females) > abs(betas_quant_males))\n",
    "males_greater   = sum(abs(betas_quant_females) < abs(betas_quant_males))\n",
    "\n",
    "print('From the quantitative differences, in ' + str(females_greater) + ' cases, females showed greater effects while in ' + \n",
    "       str(males_greater) + ' cases, males showed greater ones')"
   ]
  },
  {
   "cell_type": "code",
   "execution_count": 21,
   "metadata": {
    "execution": {
     "iopub.execute_input": "2021-07-02T00:44:19.390102Z",
     "iopub.status.busy": "2021-07-02T00:44:19.389536Z",
     "iopub.status.idle": "2021-07-02T00:44:19.395490Z",
     "shell.execute_reply": "2021-07-02T00:44:19.395006Z"
    }
   },
   "outputs": [
    {
     "data": {
      "text/html": [
       "<div>\n",
       "<style scoped>\n",
       "    .dataframe tbody tr th:only-of-type {\n",
       "        vertical-align: middle;\n",
       "    }\n",
       "\n",
       "    .dataframe tbody tr th {\n",
       "        vertical-align: top;\n",
       "    }\n",
       "\n",
       "    .dataframe thead th {\n",
       "        text-align: right;\n",
       "    }\n",
       "</style>\n",
       "<table border=\"1\" class=\"dataframe\">\n",
       "  <thead>\n",
       "    <tr style=\"text-align: right;\">\n",
       "      <th></th>\n",
       "      <th></th>\n",
       "      <th>Variable_Name</th>\n",
       "      <th>Outcome_Name</th>\n",
       "      <th>Beta_female</th>\n",
       "      <th>SE_female</th>\n",
       "      <th>pvalue_female</th>\n",
       "      <th>Beta_male</th>\n",
       "      <th>SE_male</th>\n",
       "      <th>pvalue_male</th>\n",
       "    </tr>\n",
       "    <tr>\n",
       "      <th>Variable</th>\n",
       "      <th>Outcome</th>\n",
       "      <th></th>\n",
       "      <th></th>\n",
       "      <th></th>\n",
       "      <th></th>\n",
       "      <th></th>\n",
       "      <th></th>\n",
       "      <th></th>\n",
       "      <th></th>\n",
       "    </tr>\n",
       "  </thead>\n",
       "  <tbody>\n",
       "    <tr>\n",
       "      <th>DR1TALCO</th>\n",
       "      <th>LBXSGTSI</th>\n",
       "      <td>Alcohol (gm)</td>\n",
       "      <td>GGT (U/L)</td>\n",
       "      <td>0.063842</td>\n",
       "      <td>0.010949</td>\n",
       "      <td>5.519438e-09</td>\n",
       "      <td>0.141966</td>\n",
       "      <td>0.010758</td>\n",
       "      <td>9.229674e-40</td>\n",
       "    </tr>\n",
       "    <tr>\n",
       "      <th>IRON_mg</th>\n",
       "      <th>LBXHCY</th>\n",
       "      <td>IRON_mg</td>\n",
       "      <td>Homocysteine (umol/L)</td>\n",
       "      <td>-0.129165</td>\n",
       "      <td>0.009025</td>\n",
       "      <td>1.858667e-46</td>\n",
       "      <td>-0.063395</td>\n",
       "      <td>0.009299</td>\n",
       "      <td>9.267904e-12</td>\n",
       "    </tr>\n",
       "    <tr>\n",
       "      <th rowspan=\"6\" valign=\"top\">LBXBCD</th>\n",
       "      <th>LBDNENO</th>\n",
       "      <td>Cadmium (ug/L)</td>\n",
       "      <td>Segmented neutrophils number</td>\n",
       "      <td>0.111766</td>\n",
       "      <td>0.012172</td>\n",
       "      <td>4.221310e-20</td>\n",
       "      <td>0.204444</td>\n",
       "      <td>0.011277</td>\n",
       "      <td>1.886487e-73</td>\n",
       "    </tr>\n",
       "    <tr>\n",
       "      <th>LBXCRP</th>\n",
       "      <td>Cadmium (ug/L)</td>\n",
       "      <td>C-reactive protein(mg/dL)</td>\n",
       "      <td>0.045688</td>\n",
       "      <td>0.010597</td>\n",
       "      <td>1.621206e-05</td>\n",
       "      <td>0.144338</td>\n",
       "      <td>0.013444</td>\n",
       "      <td>6.898690e-27</td>\n",
       "    </tr>\n",
       "    <tr>\n",
       "      <th>LBXMCHSI</th>\n",
       "      <td>Cadmium (ug/L)</td>\n",
       "      <td>Mean cell hemoglobin (pg)</td>\n",
       "      <td>0.047227</td>\n",
       "      <td>0.008916</td>\n",
       "      <td>1.179853e-07</td>\n",
       "      <td>0.133952</td>\n",
       "      <td>0.011449</td>\n",
       "      <td>1.269980e-31</td>\n",
       "    </tr>\n",
       "    <tr>\n",
       "      <th>LBXMCVSI</th>\n",
       "      <td>Cadmium (ug/L)</td>\n",
       "      <td>Mean cell volume (fL)</td>\n",
       "      <td>0.059618</td>\n",
       "      <td>0.009618</td>\n",
       "      <td>5.698453e-10</td>\n",
       "      <td>0.147208</td>\n",
       "      <td>0.009634</td>\n",
       "      <td>1.036971e-52</td>\n",
       "    </tr>\n",
       "    <tr>\n",
       "      <th>LBXRBCSI</th>\n",
       "      <td>Cadmium (ug/L)</td>\n",
       "      <td>Red cell count SI</td>\n",
       "      <td>0.126242</td>\n",
       "      <td>0.011069</td>\n",
       "      <td>3.931034e-30</td>\n",
       "      <td>0.026670</td>\n",
       "      <td>0.010610</td>\n",
       "      <td>1.194537e-02</td>\n",
       "    </tr>\n",
       "    <tr>\n",
       "      <th>LBXWBCSI</th>\n",
       "      <td>Cadmium (ug/L)</td>\n",
       "      <td>White blood cell count (SI)</td>\n",
       "      <td>0.151626</td>\n",
       "      <td>0.011971</td>\n",
       "      <td>9.169748e-37</td>\n",
       "      <td>0.250308</td>\n",
       "      <td>0.010890</td>\n",
       "      <td>6.455535e-117</td>\n",
       "    </tr>\n",
       "    <tr>\n",
       "      <th rowspan=\"3\" valign=\"top\">LBXBPB</th>\n",
       "      <th>LBXBAP</th>\n",
       "      <td>Lead (ug/dL)</td>\n",
       "      <td>Bone alkaline phosphotase (ug/L)</td>\n",
       "      <td>0.251242</td>\n",
       "      <td>0.019237</td>\n",
       "      <td>5.544088e-39</td>\n",
       "      <td>0.063058</td>\n",
       "      <td>0.018373</td>\n",
       "      <td>5.989093e-04</td>\n",
       "    </tr>\n",
       "    <tr>\n",
       "      <th>LBXRBCSI</th>\n",
       "      <td>Lead (ug/dL)</td>\n",
       "      <td>Red cell count SI</td>\n",
       "      <td>0.186118</td>\n",
       "      <td>0.015065</td>\n",
       "      <td>4.596549e-35</td>\n",
       "      <td>0.070282</td>\n",
       "      <td>0.012946</td>\n",
       "      <td>5.675659e-08</td>\n",
       "    </tr>\n",
       "    <tr>\n",
       "      <th>LBXSAPSI</th>\n",
       "      <td>Lead (ug/dL)</td>\n",
       "      <td>Alkaline phosphotase (U/L)</td>\n",
       "      <td>0.199863</td>\n",
       "      <td>0.012859</td>\n",
       "      <td>1.775811e-54</td>\n",
       "      <td>0.073103</td>\n",
       "      <td>0.013796</td>\n",
       "      <td>1.165686e-07</td>\n",
       "    </tr>\n",
       "    <tr>\n",
       "      <th>LBXCRY</th>\n",
       "      <th>LBXSAL</th>\n",
       "      <td>b-Cryptoxanthin (ug/dL)</td>\n",
       "      <td>Albumin (g/dL)</td>\n",
       "      <td>0.035322</td>\n",
       "      <td>0.012575</td>\n",
       "      <td>4.970809e-03</td>\n",
       "      <td>0.130951</td>\n",
       "      <td>0.015779</td>\n",
       "      <td>1.049506e-16</td>\n",
       "    </tr>\n",
       "    <tr>\n",
       "      <th>LBXGHC</th>\n",
       "      <th>LBXSPH</th>\n",
       "      <td>Gamma-hexachlorocyclohexane (ng/g)</td>\n",
       "      <td>Phosphorus (mg/dL)</td>\n",
       "      <td>-0.075076</td>\n",
       "      <td>0.031110</td>\n",
       "      <td>1.581049e-02</td>\n",
       "      <td>-0.295856</td>\n",
       "      <td>0.026120</td>\n",
       "      <td>9.670788e-30</td>\n",
       "    </tr>\n",
       "    <tr>\n",
       "      <th rowspan=\"2\" valign=\"top\">LBXGTC</th>\n",
       "      <th>LBXSTR</th>\n",
       "      <td>g-Tocopherol (ug/dL)</td>\n",
       "      <td>Triglycerides (mg/dL)</td>\n",
       "      <td>0.194253</td>\n",
       "      <td>0.012580</td>\n",
       "      <td>8.632873e-54</td>\n",
       "      <td>0.316041</td>\n",
       "      <td>0.012581</td>\n",
       "      <td>3.039982e-139</td>\n",
       "    </tr>\n",
       "    <tr>\n",
       "      <th>LBXTR</th>\n",
       "      <td>g-Tocopherol (ug/dL)</td>\n",
       "      <td>Triglyceride (mg/dL)</td>\n",
       "      <td>0.164535</td>\n",
       "      <td>0.019671</td>\n",
       "      <td>6.051599e-17</td>\n",
       "      <td>0.304409</td>\n",
       "      <td>0.018518</td>\n",
       "      <td>1.013723e-60</td>\n",
       "    </tr>\n",
       "    <tr>\n",
       "      <th>LBXLUZ</th>\n",
       "      <th>LBDHDL</th>\n",
       "      <td>Lutein and zeaxanthin (ug/dL)</td>\n",
       "      <td>Direct HDL-Cholesterol (mg/dL)</td>\n",
       "      <td>0.281200</td>\n",
       "      <td>0.016598</td>\n",
       "      <td>2.211561e-64</td>\n",
       "      <td>0.160566</td>\n",
       "      <td>0.019196</td>\n",
       "      <td>6.040919e-17</td>\n",
       "    </tr>\n",
       "    <tr>\n",
       "      <th rowspan=\"2\" valign=\"top\">LBXRPL</th>\n",
       "      <th>LBXSTR</th>\n",
       "      <td>Retinyl Palmitate (ug/dL)</td>\n",
       "      <td>Triglycerides (mg/dL)</td>\n",
       "      <td>0.240913</td>\n",
       "      <td>0.012702</td>\n",
       "      <td>3.204835e-80</td>\n",
       "      <td>0.322004</td>\n",
       "      <td>0.011496</td>\n",
       "      <td>1.264035e-172</td>\n",
       "    </tr>\n",
       "    <tr>\n",
       "      <th>LBXTR</th>\n",
       "      <td>Retinyl Palmitate (ug/dL)</td>\n",
       "      <td>Triglyceride (mg/dL)</td>\n",
       "      <td>0.125105</td>\n",
       "      <td>0.017257</td>\n",
       "      <td>4.184577e-13</td>\n",
       "      <td>0.265033</td>\n",
       "      <td>0.017483</td>\n",
       "      <td>6.528559e-52</td>\n",
       "    </tr>\n",
       "    <tr>\n",
       "      <th>LBXVIA</th>\n",
       "      <th>LBXSAL</th>\n",
       "      <td>Vitamin A (ug/dL)</td>\n",
       "      <td>Albumin (g/dL)</td>\n",
       "      <td>0.125864</td>\n",
       "      <td>0.011121</td>\n",
       "      <td>1.071394e-29</td>\n",
       "      <td>0.243584</td>\n",
       "      <td>0.012751</td>\n",
       "      <td>2.383670e-81</td>\n",
       "    </tr>\n",
       "    <tr>\n",
       "      <th>URXUCS</th>\n",
       "      <th>URXUMA</th>\n",
       "      <td>Cesium, urine (ng/mL)</td>\n",
       "      <td>Albumin, urine (ug/mL)</td>\n",
       "      <td>0.498293</td>\n",
       "      <td>0.015424</td>\n",
       "      <td>5.707079e-229</td>\n",
       "      <td>0.363063</td>\n",
       "      <td>0.018903</td>\n",
       "      <td>3.239958e-82</td>\n",
       "    </tr>\n",
       "    <tr>\n",
       "      <th rowspan=\"2\" valign=\"top\">cigarette_smoking</th>\n",
       "      <th>LBDNENO</th>\n",
       "      <td>Current Cigarette Smoker?</td>\n",
       "      <td>Segmented neutrophils number</td>\n",
       "      <td>0.174596</td>\n",
       "      <td>0.033620</td>\n",
       "      <td>2.067229e-07</td>\n",
       "      <td>0.466161</td>\n",
       "      <td>0.030095</td>\n",
       "      <td>4.078047e-54</td>\n",
       "    </tr>\n",
       "    <tr>\n",
       "      <th>LBXWBCSI</th>\n",
       "      <td>Current Cigarette Smoker?</td>\n",
       "      <td>White blood cell count (SI)</td>\n",
       "      <td>0.254784</td>\n",
       "      <td>0.035832</td>\n",
       "      <td>1.155499e-12</td>\n",
       "      <td>0.533675</td>\n",
       "      <td>0.032187</td>\n",
       "      <td>9.663890e-62</td>\n",
       "    </tr>\n",
       "    <tr>\n",
       "      <th rowspan=\"2\" valign=\"top\">current_past_smoking</th>\n",
       "      <th>LBXHCT</th>\n",
       "      <td>Current or Past Cigarette Smoker?</td>\n",
       "      <td>Hematocrit (%)</td>\n",
       "      <td>0.413033</td>\n",
       "      <td>0.026685</td>\n",
       "      <td>4.895524e-54</td>\n",
       "      <td>0.233763</td>\n",
       "      <td>0.025024</td>\n",
       "      <td>9.499431e-21</td>\n",
       "    </tr>\n",
       "    <tr>\n",
       "      <th>LBXHGB</th>\n",
       "      <td>Current or Past Cigarette Smoker?</td>\n",
       "      <td>Hemoglobin (g/dL)</td>\n",
       "      <td>0.432428</td>\n",
       "      <td>0.027461</td>\n",
       "      <td>7.198797e-56</td>\n",
       "      <td>0.237014</td>\n",
       "      <td>0.028672</td>\n",
       "      <td>1.381433e-16</td>\n",
       "    </tr>\n",
       "  </tbody>\n",
       "</table>\n",
       "</div>"
      ],
      "text/plain": [
       "                                                    Variable_Name  \\\n",
       "Variable             Outcome                                        \n",
       "DR1TALCO             LBXSGTSI                        Alcohol (gm)   \n",
       "IRON_mg              LBXHCY                               IRON_mg   \n",
       "LBXBCD               LBDNENO                       Cadmium (ug/L)   \n",
       "                     LBXCRP                        Cadmium (ug/L)   \n",
       "                     LBXMCHSI                      Cadmium (ug/L)   \n",
       "                     LBXMCVSI                      Cadmium (ug/L)   \n",
       "                     LBXRBCSI                      Cadmium (ug/L)   \n",
       "                     LBXWBCSI                      Cadmium (ug/L)   \n",
       "LBXBPB               LBXBAP                          Lead (ug/dL)   \n",
       "                     LBXRBCSI                        Lead (ug/dL)   \n",
       "                     LBXSAPSI                        Lead (ug/dL)   \n",
       "LBXCRY               LBXSAL               b-Cryptoxanthin (ug/dL)   \n",
       "LBXGHC               LBXSPH    Gamma-hexachlorocyclohexane (ng/g)   \n",
       "LBXGTC               LBXSTR                  g-Tocopherol (ug/dL)   \n",
       "                     LBXTR                   g-Tocopherol (ug/dL)   \n",
       "LBXLUZ               LBDHDL         Lutein and zeaxanthin (ug/dL)   \n",
       "LBXRPL               LBXSTR             Retinyl Palmitate (ug/dL)   \n",
       "                     LBXTR              Retinyl Palmitate (ug/dL)   \n",
       "LBXVIA               LBXSAL                     Vitamin A (ug/dL)   \n",
       "URXUCS               URXUMA                 Cesium, urine (ng/mL)   \n",
       "cigarette_smoking    LBDNENO            Current Cigarette Smoker?   \n",
       "                     LBXWBCSI           Current Cigarette Smoker?   \n",
       "current_past_smoking LBXHCT     Current or Past Cigarette Smoker?   \n",
       "                     LBXHGB     Current or Past Cigarette Smoker?   \n",
       "\n",
       "                                                   Outcome_Name  Beta_female  \\\n",
       "Variable             Outcome                                                   \n",
       "DR1TALCO             LBXSGTSI                         GGT (U/L)     0.063842   \n",
       "IRON_mg              LBXHCY               Homocysteine (umol/L)    -0.129165   \n",
       "LBXBCD               LBDNENO       Segmented neutrophils number     0.111766   \n",
       "                     LBXCRP           C-reactive protein(mg/dL)     0.045688   \n",
       "                     LBXMCHSI         Mean cell hemoglobin (pg)     0.047227   \n",
       "                     LBXMCVSI             Mean cell volume (fL)     0.059618   \n",
       "                     LBXRBCSI                 Red cell count SI     0.126242   \n",
       "                     LBXWBCSI       White blood cell count (SI)     0.151626   \n",
       "LBXBPB               LBXBAP    Bone alkaline phosphotase (ug/L)     0.251242   \n",
       "                     LBXRBCSI                 Red cell count SI     0.186118   \n",
       "                     LBXSAPSI        Alkaline phosphotase (U/L)     0.199863   \n",
       "LBXCRY               LBXSAL                      Albumin (g/dL)     0.035322   \n",
       "LBXGHC               LBXSPH                  Phosphorus (mg/dL)    -0.075076   \n",
       "LBXGTC               LBXSTR               Triglycerides (mg/dL)     0.194253   \n",
       "                     LBXTR                 Triglyceride (mg/dL)     0.164535   \n",
       "LBXLUZ               LBDHDL      Direct HDL-Cholesterol (mg/dL)     0.281200   \n",
       "LBXRPL               LBXSTR               Triglycerides (mg/dL)     0.240913   \n",
       "                     LBXTR                 Triglyceride (mg/dL)     0.125105   \n",
       "LBXVIA               LBXSAL                      Albumin (g/dL)     0.125864   \n",
       "URXUCS               URXUMA              Albumin, urine (ug/mL)     0.498293   \n",
       "cigarette_smoking    LBDNENO       Segmented neutrophils number     0.174596   \n",
       "                     LBXWBCSI       White blood cell count (SI)     0.254784   \n",
       "current_past_smoking LBXHCT                      Hematocrit (%)     0.413033   \n",
       "                     LBXHGB                   Hemoglobin (g/dL)     0.432428   \n",
       "\n",
       "                               SE_female  pvalue_female  Beta_male   SE_male  \\\n",
       "Variable             Outcome                                                   \n",
       "DR1TALCO             LBXSGTSI   0.010949   5.519438e-09   0.141966  0.010758   \n",
       "IRON_mg              LBXHCY     0.009025   1.858667e-46  -0.063395  0.009299   \n",
       "LBXBCD               LBDNENO    0.012172   4.221310e-20   0.204444  0.011277   \n",
       "                     LBXCRP     0.010597   1.621206e-05   0.144338  0.013444   \n",
       "                     LBXMCHSI   0.008916   1.179853e-07   0.133952  0.011449   \n",
       "                     LBXMCVSI   0.009618   5.698453e-10   0.147208  0.009634   \n",
       "                     LBXRBCSI   0.011069   3.931034e-30   0.026670  0.010610   \n",
       "                     LBXWBCSI   0.011971   9.169748e-37   0.250308  0.010890   \n",
       "LBXBPB               LBXBAP     0.019237   5.544088e-39   0.063058  0.018373   \n",
       "                     LBXRBCSI   0.015065   4.596549e-35   0.070282  0.012946   \n",
       "                     LBXSAPSI   0.012859   1.775811e-54   0.073103  0.013796   \n",
       "LBXCRY               LBXSAL     0.012575   4.970809e-03   0.130951  0.015779   \n",
       "LBXGHC               LBXSPH     0.031110   1.581049e-02  -0.295856  0.026120   \n",
       "LBXGTC               LBXSTR     0.012580   8.632873e-54   0.316041  0.012581   \n",
       "                     LBXTR      0.019671   6.051599e-17   0.304409  0.018518   \n",
       "LBXLUZ               LBDHDL     0.016598   2.211561e-64   0.160566  0.019196   \n",
       "LBXRPL               LBXSTR     0.012702   3.204835e-80   0.322004  0.011496   \n",
       "                     LBXTR      0.017257   4.184577e-13   0.265033  0.017483   \n",
       "LBXVIA               LBXSAL     0.011121   1.071394e-29   0.243584  0.012751   \n",
       "URXUCS               URXUMA     0.015424  5.707079e-229   0.363063  0.018903   \n",
       "cigarette_smoking    LBDNENO    0.033620   2.067229e-07   0.466161  0.030095   \n",
       "                     LBXWBCSI   0.035832   1.155499e-12   0.533675  0.032187   \n",
       "current_past_smoking LBXHCT     0.026685   4.895524e-54   0.233763  0.025024   \n",
       "                     LBXHGB     0.027461   7.198797e-56   0.237014  0.028672   \n",
       "\n",
       "                                 pvalue_male  \n",
       "Variable             Outcome                  \n",
       "DR1TALCO             LBXSGTSI   9.229674e-40  \n",
       "IRON_mg              LBXHCY     9.267904e-12  \n",
       "LBXBCD               LBDNENO    1.886487e-73  \n",
       "                     LBXCRP     6.898690e-27  \n",
       "                     LBXMCHSI   1.269980e-31  \n",
       "                     LBXMCVSI   1.036971e-52  \n",
       "                     LBXRBCSI   1.194537e-02  \n",
       "                     LBXWBCSI  6.455535e-117  \n",
       "LBXBPB               LBXBAP     5.989093e-04  \n",
       "                     LBXRBCSI   5.675659e-08  \n",
       "                     LBXSAPSI   1.165686e-07  \n",
       "LBXCRY               LBXSAL     1.049506e-16  \n",
       "LBXGHC               LBXSPH     9.670788e-30  \n",
       "LBXGTC               LBXSTR    3.039982e-139  \n",
       "                     LBXTR      1.013723e-60  \n",
       "LBXLUZ               LBDHDL     6.040919e-17  \n",
       "LBXRPL               LBXSTR    1.264035e-172  \n",
       "                     LBXTR      6.528559e-52  \n",
       "LBXVIA               LBXSAL     2.383670e-81  \n",
       "URXUCS               URXUMA     3.239958e-82  \n",
       "cigarette_smoking    LBDNENO    4.078047e-54  \n",
       "                     LBXWBCSI   9.663890e-62  \n",
       "current_past_smoking LBXHCT     9.499431e-21  \n",
       "                     LBXHGB     1.381433e-16  "
      ]
     },
     "execution_count": 1,
     "metadata": {},
     "output_type": "execute_result"
    }
   ],
   "source": [
    "results.loc[bool_quant, print_columns]"
   ]
  },
  {
   "cell_type": "markdown",
   "metadata": {},
   "source": [
    "### Quantitative differences in females"
   ]
  },
  {
   "cell_type": "code",
   "execution_count": 22,
   "metadata": {
    "execution": {
     "iopub.execute_input": "2021-07-02T00:44:19.404503Z",
     "iopub.status.busy": "2021-07-02T00:44:19.403909Z",
     "iopub.status.idle": "2021-07-02T00:44:19.411009Z",
     "shell.execute_reply": "2021-07-02T00:44:19.410535Z"
    }
   },
   "outputs": [
    {
     "data": {
      "text/plain": [
       "Variable_Category\n",
       "heavy metals        5\n",
       "smoking behavior    2\n",
       "nutrients           1\n",
       "supplement use      1\n",
       "dtype: int64"
      ]
     },
     "execution_count": 1,
     "metadata": {},
     "output_type": "execute_result"
    }
   ],
   "source": [
    "results[bool_quant][abs(betas_quant_females) > abs(betas_quant_males)].value_counts('Variable_Category')"
   ]
  },
  {
   "cell_type": "code",
   "execution_count": 23,
   "metadata": {
    "execution": {
     "iopub.execute_input": "2021-07-02T00:44:19.419776Z",
     "iopub.status.busy": "2021-07-02T00:44:19.419216Z",
     "iopub.status.idle": "2021-07-02T00:44:19.424669Z",
     "shell.execute_reply": "2021-07-02T00:44:19.424184Z"
    }
   },
   "outputs": [
    {
     "data": {
      "text/plain": [
       "Variable_Name\n",
       "Lead (ug/dL)                         3\n",
       "Current or Past Cigarette Smoker?    2\n",
       "Cadmium (ug/L)                       1\n",
       "Cesium, urine (ng/mL)                1\n",
       "IRON_mg                              1\n",
       "Lutein and zeaxanthin (ug/dL)        1\n",
       "dtype: int64"
      ]
     },
     "execution_count": 1,
     "metadata": {},
     "output_type": "execute_result"
    }
   ],
   "source": [
    "results[bool_quant][abs(betas_quant_females) > abs(betas_quant_males)].value_counts('Variable_Name')"
   ]
  },
  {
   "cell_type": "code",
   "execution_count": 24,
   "metadata": {
    "execution": {
     "iopub.execute_input": "2021-07-02T00:44:19.433769Z",
     "iopub.status.busy": "2021-07-02T00:44:19.433188Z",
     "iopub.status.idle": "2021-07-02T00:44:19.438676Z",
     "shell.execute_reply": "2021-07-02T00:44:19.438190Z"
    }
   },
   "outputs": [
    {
     "data": {
      "text/plain": [
       "Outcome_Name\n",
       "Red cell count SI                   2\n",
       "Albumin, urine (ug/mL)              1\n",
       "Alkaline phosphotase (U/L)          1\n",
       "Bone alkaline phosphotase (ug/L)    1\n",
       "Direct HDL-Cholesterol (mg/dL)      1\n",
       "Hematocrit (%)                      1\n",
       "Hemoglobin (g/dL)                   1\n",
       "Homocysteine (umol/L)               1\n",
       "dtype: int64"
      ]
     },
     "execution_count": 1,
     "metadata": {},
     "output_type": "execute_result"
    }
   ],
   "source": [
    "results[bool_quant][abs(betas_quant_females) > abs(betas_quant_males)].value_counts('Outcome_Name')"
   ]
  },
  {
   "cell_type": "markdown",
   "metadata": {},
   "source": [
    "### Quantitative differences in males"
   ]
  },
  {
   "cell_type": "code",
   "execution_count": 25,
   "metadata": {
    "execution": {
     "iopub.execute_input": "2021-07-02T00:44:19.447587Z",
     "iopub.status.busy": "2021-07-02T00:44:19.447013Z",
     "iopub.status.idle": "2021-07-02T00:44:19.452424Z",
     "shell.execute_reply": "2021-07-02T00:44:19.451944Z"
    }
   },
   "outputs": [
    {
     "data": {
      "text/plain": [
       "Variable_Category\n",
       "nutrients                6\n",
       "heavy metals             5\n",
       "smoking behavior         2\n",
       "food component recall    1\n",
       "pesticides               1\n",
       "dtype: int64"
      ]
     },
     "execution_count": 1,
     "metadata": {},
     "output_type": "execute_result"
    }
   ],
   "source": [
    "results[bool_quant][abs(betas_quant_females) < abs(betas_quant_males)].value_counts('Variable_Category')"
   ]
  },
  {
   "cell_type": "code",
   "execution_count": 26,
   "metadata": {
    "execution": {
     "iopub.execute_input": "2021-07-02T00:44:19.461051Z",
     "iopub.status.busy": "2021-07-02T00:44:19.460502Z",
     "iopub.status.idle": "2021-07-02T00:44:19.465748Z",
     "shell.execute_reply": "2021-07-02T00:44:19.465275Z"
    }
   },
   "outputs": [
    {
     "data": {
      "text/plain": [
       "Variable_Name\n",
       "Cadmium (ug/L)                        5\n",
       "Current Cigarette Smoker?             2\n",
       "Retinyl Palmitate (ug/dL)             2\n",
       "g-Tocopherol (ug/dL)                  2\n",
       "Alcohol (gm)                          1\n",
       "Gamma-hexachlorocyclohexane (ng/g)    1\n",
       "Vitamin A (ug/dL)                     1\n",
       "b-Cryptoxanthin (ug/dL)               1\n",
       "dtype: int64"
      ]
     },
     "execution_count": 1,
     "metadata": {},
     "output_type": "execute_result"
    }
   ],
   "source": [
    "results[bool_quant][abs(betas_quant_females) < abs(betas_quant_males)].value_counts('Variable_Name')"
   ]
  },
  {
   "cell_type": "code",
   "execution_count": 27,
   "metadata": {
    "execution": {
     "iopub.execute_input": "2021-07-02T00:44:19.473761Z",
     "iopub.status.busy": "2021-07-02T00:44:19.473161Z",
     "iopub.status.idle": "2021-07-02T00:44:19.478470Z",
     "shell.execute_reply": "2021-07-02T00:44:19.478001Z"
    }
   },
   "outputs": [
    {
     "data": {
      "text/plain": [
       "Outcome_Name\n",
       "Albumin (g/dL)                  2\n",
       "Segmented neutrophils number    2\n",
       "Triglyceride (mg/dL)            2\n",
       "Triglycerides (mg/dL)           2\n",
       "White blood cell count (SI)     2\n",
       "C-reactive protein(mg/dL)       1\n",
       "GGT (U/L)                       1\n",
       "Mean cell hemoglobin (pg)       1\n",
       "Mean cell volume (fL)           1\n",
       "Phosphorus (mg/dL)              1\n",
       "dtype: int64"
      ]
     },
     "execution_count": 1,
     "metadata": {},
     "output_type": "execute_result"
    }
   ],
   "source": [
    "results[bool_quant][abs(betas_quant_females) < abs(betas_quant_males)].value_counts('Outcome_Name')"
   ]
  },
  {
   "cell_type": "markdown",
   "metadata": {},
   "source": [
    "## Qualitative differences"
   ]
  },
  {
   "cell_type": "code",
   "execution_count": 28,
   "metadata": {
    "execution": {
     "iopub.execute_input": "2021-07-02T00:44:19.485919Z",
     "iopub.status.busy": "2021-07-02T00:44:19.485369Z",
     "iopub.status.idle": "2021-07-02T00:44:19.490571Z",
     "shell.execute_reply": "2021-07-02T00:44:19.490104Z"
    }
   },
   "outputs": [
    {
     "data": {
      "text/plain": [
       "Variable_Category\n",
       "nutrients                3\n",
       "food component recall    2\n",
       "heavy metals             2\n",
       "supplement use           2\n",
       "phthalates               1\n",
       "volatile compounds       1\n",
       "dtype: int64"
      ]
     },
     "execution_count": 1,
     "metadata": {},
     "output_type": "execute_result"
    }
   ],
   "source": [
    "bool_qual = results['difference_type'] == 'Qualitative'\n",
    "results[bool_qual].value_counts('Variable_Category')"
   ]
  },
  {
   "cell_type": "code",
   "execution_count": 29,
   "metadata": {
    "execution": {
     "iopub.execute_input": "2021-07-02T00:44:19.497308Z",
     "iopub.status.busy": "2021-07-02T00:44:19.496751Z",
     "iopub.status.idle": "2021-07-02T00:44:19.502138Z",
     "shell.execute_reply": "2021-07-02T00:44:19.501650Z"
    }
   },
   "outputs": [
    {
     "data": {
      "text/plain": [
       "Variable_Name\n",
       "Lead (ug/dL)                     2\n",
       "Lutein and zeaxanthin (ug/dL)    2\n",
       "Blood m-/p-Xylene (ng/mL)        1\n",
       "Caffeine (mg)                    1\n",
       "FOLIC_ACID_mcg                   1\n",
       "Folate, RBC (ng/mL RBC)          1\n",
       "Food folate (mcg)                1\n",
       "IRON_mg                          1\n",
       "Mono-n-methyl phthalate          1\n",
       "dtype: int64"
      ]
     },
     "execution_count": 1,
     "metadata": {},
     "output_type": "execute_result"
    }
   ],
   "source": [
    "results[bool_qual].value_counts('Variable_Name')"
   ]
  },
  {
   "cell_type": "code",
   "execution_count": 30,
   "metadata": {
    "execution": {
     "iopub.execute_input": "2021-07-02T00:44:19.509011Z",
     "iopub.status.busy": "2021-07-02T00:44:19.508453Z",
     "iopub.status.idle": "2021-07-02T00:44:19.513770Z",
     "shell.execute_reply": "2021-07-02T00:44:19.513291Z"
    }
   },
   "outputs": [
    {
     "data": {
      "text/plain": [
       "Outcome_Name\n",
       "Albumin (g/dL)                 5\n",
       "C-reactive protein(mg/dL)      2\n",
       "Mean cell hemoglobin (pg)      1\n",
       "Methylmalonic acid (umol/L)    1\n",
       "Osmolality (mOsml/L)           1\n",
       "Red cell count SI              1\n",
       "dtype: int64"
      ]
     },
     "execution_count": 1,
     "metadata": {},
     "output_type": "execute_result"
    }
   ],
   "source": [
    "results[bool_qual].value_counts('Outcome_Name')"
   ]
  },
  {
   "cell_type": "code",
   "execution_count": 31,
   "metadata": {
    "execution": {
     "iopub.execute_input": "2021-07-02T00:44:19.531929Z",
     "iopub.status.busy": "2021-07-02T00:44:19.531353Z",
     "iopub.status.idle": "2021-07-02T00:44:19.537141Z",
     "shell.execute_reply": "2021-07-02T00:44:19.536663Z"
    }
   },
   "outputs": [
    {
     "data": {
      "text/html": [
       "<div>\n",
       "<style scoped>\n",
       "    .dataframe tbody tr th:only-of-type {\n",
       "        vertical-align: middle;\n",
       "    }\n",
       "\n",
       "    .dataframe tbody tr th {\n",
       "        vertical-align: top;\n",
       "    }\n",
       "\n",
       "    .dataframe thead th {\n",
       "        text-align: right;\n",
       "    }\n",
       "</style>\n",
       "<table border=\"1\" class=\"dataframe\">\n",
       "  <thead>\n",
       "    <tr style=\"text-align: right;\">\n",
       "      <th></th>\n",
       "      <th></th>\n",
       "      <th>Variable_Name</th>\n",
       "      <th>Outcome_Name</th>\n",
       "      <th>Beta_female</th>\n",
       "      <th>SE_female</th>\n",
       "      <th>pvalue_female</th>\n",
       "      <th>Beta_male</th>\n",
       "      <th>SE_male</th>\n",
       "      <th>pvalue_male</th>\n",
       "    </tr>\n",
       "    <tr>\n",
       "      <th>Variable</th>\n",
       "      <th>Outcome</th>\n",
       "      <th></th>\n",
       "      <th></th>\n",
       "      <th></th>\n",
       "      <th></th>\n",
       "      <th></th>\n",
       "      <th></th>\n",
       "      <th></th>\n",
       "      <th></th>\n",
       "    </tr>\n",
       "  </thead>\n",
       "  <tbody>\n",
       "    <tr>\n",
       "      <th>DR1TCAFF</th>\n",
       "      <th>LBXCRP</th>\n",
       "      <td>Caffeine (mg)</td>\n",
       "      <td>C-reactive protein(mg/dL)</td>\n",
       "      <td>-0.056827</td>\n",
       "      <td>0.013156</td>\n",
       "      <td>1.564501e-05</td>\n",
       "      <td>0.036605</td>\n",
       "      <td>0.012389</td>\n",
       "      <td>3.131021e-03</td>\n",
       "    </tr>\n",
       "    <tr>\n",
       "      <th>DR1TFF</th>\n",
       "      <th>LBXSAL</th>\n",
       "      <td>Food folate (mcg)</td>\n",
       "      <td>Albumin (g/dL)</td>\n",
       "      <td>-0.035356</td>\n",
       "      <td>0.009845</td>\n",
       "      <td>3.291015e-04</td>\n",
       "      <td>0.042406</td>\n",
       "      <td>0.012819</td>\n",
       "      <td>9.395760e-04</td>\n",
       "    </tr>\n",
       "    <tr>\n",
       "      <th>FOLIC_ACID_mcg</th>\n",
       "      <th>LBXSAL</th>\n",
       "      <td>FOLIC_ACID_mcg</td>\n",
       "      <td>Albumin (g/dL)</td>\n",
       "      <td>-0.033119</td>\n",
       "      <td>0.010927</td>\n",
       "      <td>2.438115e-03</td>\n",
       "      <td>0.056429</td>\n",
       "      <td>0.011356</td>\n",
       "      <td>6.725711e-07</td>\n",
       "    </tr>\n",
       "    <tr>\n",
       "      <th>IRON_mg</th>\n",
       "      <th>LBXSAL</th>\n",
       "      <td>IRON_mg</td>\n",
       "      <td>Albumin (g/dL)</td>\n",
       "      <td>-0.038795</td>\n",
       "      <td>0.009411</td>\n",
       "      <td>3.747767e-05</td>\n",
       "      <td>0.038950</td>\n",
       "      <td>0.010093</td>\n",
       "      <td>1.138314e-04</td>\n",
       "    </tr>\n",
       "    <tr>\n",
       "      <th rowspan=\"2\" valign=\"top\">LBXBPB</th>\n",
       "      <th>LBXCRP</th>\n",
       "      <td>Lead (ug/dL)</td>\n",
       "      <td>C-reactive protein(mg/dL)</td>\n",
       "      <td>-0.070192</td>\n",
       "      <td>0.014206</td>\n",
       "      <td>7.769516e-07</td>\n",
       "      <td>0.049283</td>\n",
       "      <td>0.014772</td>\n",
       "      <td>8.490967e-04</td>\n",
       "    </tr>\n",
       "    <tr>\n",
       "      <th>LBXSOSSI</th>\n",
       "      <td>Lead (ug/dL)</td>\n",
       "      <td>Osmolality (mOsml/L)</td>\n",
       "      <td>0.048364</td>\n",
       "      <td>0.013449</td>\n",
       "      <td>3.229049e-04</td>\n",
       "      <td>-0.055644</td>\n",
       "      <td>0.013723</td>\n",
       "      <td>5.017454e-05</td>\n",
       "    </tr>\n",
       "    <tr>\n",
       "      <th rowspan=\"2\" valign=\"top\">LBXLUZ</th>\n",
       "      <th>LBXMCHSI</th>\n",
       "      <td>Lutein and zeaxanthin (ug/dL)</td>\n",
       "      <td>Mean cell hemoglobin (pg)</td>\n",
       "      <td>0.025958</td>\n",
       "      <td>0.012583</td>\n",
       "      <td>3.911140e-02</td>\n",
       "      <td>-0.058582</td>\n",
       "      <td>0.011109</td>\n",
       "      <td>1.337646e-07</td>\n",
       "    </tr>\n",
       "    <tr>\n",
       "      <th>LBXRBCSI</th>\n",
       "      <td>Lutein and zeaxanthin (ug/dL)</td>\n",
       "      <td>Red cell count SI</td>\n",
       "      <td>-0.062828</td>\n",
       "      <td>0.015887</td>\n",
       "      <td>7.661209e-05</td>\n",
       "      <td>0.056506</td>\n",
       "      <td>0.014108</td>\n",
       "      <td>6.196329e-05</td>\n",
       "    </tr>\n",
       "    <tr>\n",
       "      <th>LBXRBF</th>\n",
       "      <th>LBXSAL</th>\n",
       "      <td>Folate, RBC (ng/mL RBC)</td>\n",
       "      <td>Albumin (g/dL)</td>\n",
       "      <td>-0.060484</td>\n",
       "      <td>0.013114</td>\n",
       "      <td>3.986240e-06</td>\n",
       "      <td>0.045353</td>\n",
       "      <td>0.016085</td>\n",
       "      <td>4.807511e-03</td>\n",
       "    </tr>\n",
       "    <tr>\n",
       "      <th>LBXVXY</th>\n",
       "      <th>LBXSAL</th>\n",
       "      <td>Blood m-/p-Xylene (ng/mL)</td>\n",
       "      <td>Albumin (g/dL)</td>\n",
       "      <td>0.080077</td>\n",
       "      <td>0.017379</td>\n",
       "      <td>4.071509e-06</td>\n",
       "      <td>-0.045524</td>\n",
       "      <td>0.019905</td>\n",
       "      <td>2.219420e-02</td>\n",
       "    </tr>\n",
       "    <tr>\n",
       "      <th>URXMNM</th>\n",
       "      <th>LBXMMA</th>\n",
       "      <td>Mono-n-methyl phthalate</td>\n",
       "      <td>Methylmalonic acid (umol/L)</td>\n",
       "      <td>-0.031478</td>\n",
       "      <td>0.015162</td>\n",
       "      <td>3.787729e-02</td>\n",
       "      <td>0.093617</td>\n",
       "      <td>0.022053</td>\n",
       "      <td>2.184371e-05</td>\n",
       "    </tr>\n",
       "  </tbody>\n",
       "</table>\n",
       "</div>"
      ],
      "text/plain": [
       "                                         Variable_Name  \\\n",
       "Variable       Outcome                                   \n",
       "DR1TCAFF       LBXCRP                    Caffeine (mg)   \n",
       "DR1TFF         LBXSAL                Food folate (mcg)   \n",
       "FOLIC_ACID_mcg LBXSAL                   FOLIC_ACID_mcg   \n",
       "IRON_mg        LBXSAL                          IRON_mg   \n",
       "LBXBPB         LBXCRP                     Lead (ug/dL)   \n",
       "               LBXSOSSI                   Lead (ug/dL)   \n",
       "LBXLUZ         LBXMCHSI  Lutein and zeaxanthin (ug/dL)   \n",
       "               LBXRBCSI  Lutein and zeaxanthin (ug/dL)   \n",
       "LBXRBF         LBXSAL          Folate, RBC (ng/mL RBC)   \n",
       "LBXVXY         LBXSAL        Blood m-/p-Xylene (ng/mL)   \n",
       "URXMNM         LBXMMA          Mono-n-methyl phthalate   \n",
       "\n",
       "                                        Outcome_Name  Beta_female  SE_female  \\\n",
       "Variable       Outcome                                                         \n",
       "DR1TCAFF       LBXCRP      C-reactive protein(mg/dL)    -0.056827   0.013156   \n",
       "DR1TFF         LBXSAL                 Albumin (g/dL)    -0.035356   0.009845   \n",
       "FOLIC_ACID_mcg LBXSAL                 Albumin (g/dL)    -0.033119   0.010927   \n",
       "IRON_mg        LBXSAL                 Albumin (g/dL)    -0.038795   0.009411   \n",
       "LBXBPB         LBXCRP      C-reactive protein(mg/dL)    -0.070192   0.014206   \n",
       "               LBXSOSSI         Osmolality (mOsml/L)     0.048364   0.013449   \n",
       "LBXLUZ         LBXMCHSI    Mean cell hemoglobin (pg)     0.025958   0.012583   \n",
       "               LBXRBCSI            Red cell count SI    -0.062828   0.015887   \n",
       "LBXRBF         LBXSAL                 Albumin (g/dL)    -0.060484   0.013114   \n",
       "LBXVXY         LBXSAL                 Albumin (g/dL)     0.080077   0.017379   \n",
       "URXMNM         LBXMMA    Methylmalonic acid (umol/L)    -0.031478   0.015162   \n",
       "\n",
       "                         pvalue_female  Beta_male   SE_male   pvalue_male  \n",
       "Variable       Outcome                                                     \n",
       "DR1TCAFF       LBXCRP     1.564501e-05   0.036605  0.012389  3.131021e-03  \n",
       "DR1TFF         LBXSAL     3.291015e-04   0.042406  0.012819  9.395760e-04  \n",
       "FOLIC_ACID_mcg LBXSAL     2.438115e-03   0.056429  0.011356  6.725711e-07  \n",
       "IRON_mg        LBXSAL     3.747767e-05   0.038950  0.010093  1.138314e-04  \n",
       "LBXBPB         LBXCRP     7.769516e-07   0.049283  0.014772  8.490967e-04  \n",
       "               LBXSOSSI   3.229049e-04  -0.055644  0.013723  5.017454e-05  \n",
       "LBXLUZ         LBXMCHSI   3.911140e-02  -0.058582  0.011109  1.337646e-07  \n",
       "               LBXRBCSI   7.661209e-05   0.056506  0.014108  6.196329e-05  \n",
       "LBXRBF         LBXSAL     3.986240e-06   0.045353  0.016085  4.807511e-03  \n",
       "LBXVXY         LBXSAL     4.071509e-06  -0.045524  0.019905  2.219420e-02  \n",
       "URXMNM         LBXMMA     3.787729e-02   0.093617  0.022053  2.184371e-05  "
      ]
     },
     "execution_count": 1,
     "metadata": {},
     "output_type": "execute_result"
    }
   ],
   "source": [
    "results.loc[bool_qual, print_columns]"
   ]
  },
  {
   "cell_type": "code",
   "execution_count": null,
   "metadata": {},
   "outputs": [],
   "source": []
  }
 ],
 "metadata": {
  "interpreter": {
   "hash": "1456a64954ba6d8dd9aa91c65ef332a94749cf2aad0dd8c73947cf60795818de"
  },
  "kernelspec": {
   "display_name": "Python 3.9.7 64-bit ('py_clarite': conda)",
   "name": "python3"
  },
  "language_info": {
   "codemirror_mode": {
    "name": "ipython",
    "version": 3
   },
   "file_extension": ".py",
   "mimetype": "text/x-python",
   "name": "python",
   "nbconvert_exporter": "python",
   "pygments_lexer": "ipython3",
   "version": "3.9.7"
  },
  "metadata": {
   "interpreter": {
    "hash": "52c1c0afcb26f489e6e3e006db0ba06bf427905696ae532b516762c677130c61"
   }
  }
 },
 "nbformat": 4,
 "nbformat_minor": 2
}
