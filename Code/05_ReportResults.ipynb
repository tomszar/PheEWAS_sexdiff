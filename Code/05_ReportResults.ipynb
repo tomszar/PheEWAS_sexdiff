{
 "metadata": {
  "language_info": {
   "codemirror_mode": {
    "name": "ipython",
    "version": 3
   },
   "file_extension": ".py",
   "mimetype": "text/x-python",
   "name": "python",
   "nbconvert_exporter": "python",
   "pygments_lexer": "ipython3",
   "version": "3.7.9-final"
  },
  "orig_nbformat": 2,
  "kernelspec": {
   "name": "python3",
   "display_name": "Python 3.7.9 64-bit",
   "metadata": {
    "interpreter": {
     "hash": "bdacc5a53d8dae3c7c9192bdc3bfd07586a420de595c9151501dc7278b863f87"
    }
   }
  }
 },
 "nbformat": 4,
 "nbformat_minor": 2,
 "cells": [
  {
   "source": [
    "# Results report\n",
    "\n",
    "Basic report of results"
   ],
   "cell_type": "markdown",
   "metadata": {}
  },
  {
   "cell_type": "code",
   "execution_count": 1,
   "metadata": {},
   "outputs": [
    {
     "output_type": "stream",
     "name": "stdout",
     "text": [
      "rpy2 ModuleSpec(name='rpy2', loader=<_frozen_importlib_external.SourceFileLoader object at 0x7f573c555150>, origin='/home/tomas/anaconda3/envs/py_clarite/lib/python3.7/site-packages/rpy2/__init__.py', submodule_search_locations=['/home/tomas/anaconda3/envs/py_clarite/lib/python3.7/site-packages/rpy2'])\n"
     ]
    }
   ],
   "source": [
    "import os\n",
    "import pandas as pd\n",
    "import numpy as np\n",
    "import clarite\n",
    "import matplotlib.pyplot as plt\n",
    "import modules\n",
    "\n",
    "#### SET PATHS\n",
    "paths  = modules.set_project_paths()\n",
    "\n",
    "#### READ DATA\n",
    "final_results = modules.load_results(paths[2])\n",
    "\n",
    "var_description     = modules.load_var_information(paths[1])\n",
    "var_category        = modules.load_var_information(paths[1], description=False)\n"
   ]
  },
  {
   "source": [
    "How many tests converged in each of the four cohorts?"
   ],
   "cell_type": "markdown",
   "metadata": {}
  },
  {
   "cell_type": "code",
   "execution_count": 2,
   "metadata": {},
   "outputs": [
    {
     "output_type": "stream",
     "name": "stdout",
     "text": [
      "Results for DISCOVERY FEMALES\nA total of 15250 tests were ran\nOnly 12110 tests converged\nOnly 12110 beta coefficients were correctly estimated\n---------------------------\n\nResults for DISCOVERY MALES\nA total of 15250 tests were ran\nOnly 12027 tests converged\nOnly 12027 beta coefficients were correctly estimated\n---------------------------\n\nResults for REPLICATION FEMALES\nA total of 15250 tests were ran\nOnly 13844 tests converged\nOnly 13844 beta coefficients were correctly estimated\n---------------------------\n\nResults for REPLICATION MALES\nA total of 15250 tests were ran\nOnly 13927 tests converged\nOnly 13927 beta coefficients were correctly estimated\n---------------------------\n\nFrom the four cohorts, 11329 converged tests intersected\n"
     ]
    }
   ],
   "source": [
    "for i in range(4):\n",
    "    ntests     = len(final_results.results[i])\n",
    "    nconverged = sum(final_results.results[i]['Converged'])\n",
    "    correct_betas = ntests - sum(final_results.results[i]['Beta'].isnull())\n",
    "    print('Results for ' + final_results.name[i].upper() )\n",
    "    print('A total of ' + str(ntests) + ' tests were ran')\n",
    "    print('Only ' + str(nconverged) + ' tests converged')\n",
    "    print('Only ' + str(correct_betas) + ' beta coefficients were correctly estimated')\n",
    "    print('---------------------------')\n",
    "    print('')\n",
    "\n",
    "n_converged_intersection = sum(final_results.results[0]['Converged'] & \\\n",
    "                               final_results.results[1]['Converged'] & \\\n",
    "                               final_results.results[2]['Converged'] & \\\n",
    "                               final_results.results[3]['Converged'])\n",
    "print('From the four cohorts, ' + str(n_converged_intersection) + ' converged tests intersected')"
   ]
  },
  {
   "source": [
    "How many results were significant? and of what type?"
   ],
   "cell_type": "markdown",
   "metadata": {}
  },
  {
   "cell_type": "code",
   "execution_count": 3,
   "metadata": {},
   "outputs": [
    {
     "output_type": "stream",
     "name": "stdout",
     "text": [
      "There were 93 significant results\n35 were quantitative, 19 were qualitative, and 39 were pure\n"
     ]
    }
   ],
   "source": [
    "n_significant = sum(final_results.results[7]['difference_type'] != 'None')\n",
    "n_quant       = sum(final_results.results[7]['difference_type'] == 'Quantitative')\n",
    "n_qual        = sum(final_results.results[7]['difference_type'] == 'Qualitative')\n",
    "n_pure        = sum(final_results.results[7]['difference_type'] == 'Pure')\n",
    "print('There were ' + str(n_significant) + ' significant results')\n",
    "print(str(n_quant) + ' were quantitative, ' + str(n_qual) + ' were qualitative, and ' + str(n_pure) + ' were pure')\n"
   ]
  },
  {
   "source": [
    "How many unique exposures and phenotypes?"
   ],
   "cell_type": "markdown",
   "metadata": {}
  },
  {
   "cell_type": "code",
   "execution_count": 4,
   "metadata": {},
   "outputs": [
    {
     "output_type": "stream",
     "name": "stdout",
     "text": [
      "Only 25 phenotypes were significant, and 46 exposures\n"
     ]
    }
   ],
   "source": [
    "bool_significant = final_results.results[7]['difference_type'] != 'None'\n",
    "n_exposures  = len(final_results.results[4][bool_significant].value_counts('Variable'))\n",
    "n_phenotypes = len(final_results.results[4][bool_significant].value_counts('Phenotype'))\n",
    "print('Only ' + str(n_phenotypes) + ' phenotypes were significant, and ' + str(n_exposures) + ' exposures')\n"
   ]
  },
  {
   "cell_type": "code",
   "execution_count": 5,
   "metadata": {},
   "outputs": [
    {
     "output_type": "execute_result",
     "data": {
      "text/plain": [
       "Phenotype_Name\n",
       "Albumin (g/dL)                       30\n",
       "Homocysteine (umol/L)                11\n",
       "Bone alkaline phosphotase (ug/L)      6\n",
       "Red cell count SI                     4\n",
       "Triglycerides (mg/dL)                 4\n",
       "Uric acid (mg/dL)                     3\n",
       "C-reactive protein(mg/dL)             3\n",
       "GGT (U/L)                             3\n",
       "Hematocrit (%)                        3\n",
       "Hemoglobin (g/dL)                     3\n",
       "Lymphocyte percent (%)                3\n",
       "Segmented neutrophils percent (%)     3\n",
       "Osmolality (mOsml/L)                  2\n",
       "Direct HDL-Cholesterol (mg/dL)        2\n",
       "Segmented neutrophils number          2\n",
       "Alkaline phosphotase (U/L)            2\n",
       "Lymphocyte number                     1\n",
       "Methylmalonic acid (umol/L)           1\n",
       "Globulin (g/dL)                       1\n",
       "Protein, total (g/dL)                 1\n",
       "Creatinine, urine (mg/dL)             1\n",
       "Calcium, total (mg/dL)                1\n",
       "Red cell distribution width (%)       1\n",
       "Bilirubin, total (mg/dL)              1\n",
       "ALT (U/L)                             1\n",
       "dtype: int64"
      ]
     },
     "metadata": {},
     "execution_count": 5
    }
   ],
   "source": [
    "final_results.results[4][bool_significant].value_counts('Phenotype_Name')"
   ]
  },
  {
   "cell_type": "code",
   "execution_count": 6,
   "metadata": {},
   "outputs": [
    {
     "output_type": "execute_result",
     "data": {
      "text/plain": [
       "Variable_Category\n",
       "nutrients             21\n",
       "heavy metals          19\n",
       "smoking behavior      15\n",
       "biochemistry           7\n",
       "blood pressure         6\n",
       "supplement use         5\n",
       "cotinine               5\n",
       "volatile compounds     3\n",
       "pcbs                   3\n",
       "hydrocarbons           3\n",
       "smoking family         2\n",
       "blood                  2\n",
       "phthalates             1\n",
       "disease                1\n",
       "dtype: int64"
      ]
     },
     "metadata": {},
     "execution_count": 6
    }
   ],
   "source": [
    "final_results.results[4][bool_significant].value_counts('Variable_Category')"
   ]
  },
  {
   "cell_type": "code",
   "execution_count": 7,
   "metadata": {},
   "outputs": [
    {
     "output_type": "execute_result",
     "data": {
      "text/plain": [
       "Variable_Name\n",
       "Lead (ug/dL)                                      8\n",
       "Cotinine (ng/mL)                                  5\n",
       "mean diastolic                                    5\n",
       "Vitamin A (ug/dL)                                 5\n",
       "Cadmium (ug/L)                                    4\n",
       "Folate, RBC (ng/mL RBC)                           3\n",
       "Beryllium, urine (ng/mL)                          3\n",
       "Total cholesterol (mg/dL)                         3\n",
       "Lutein and zeaxanthin (ug/dL)                     3\n",
       "Vitamin E (ug/dL)                                 3\n",
       "MCHC (g/dL)                                       2\n",
       "FTC Nicotine Content                              2\n",
       "FTC Carbon Monoxide Content                       2\n",
       "Glucose (mg/dL)                                   2\n",
       "How many years smoked this amount                 2\n",
       "Does anyone smoke in home?                        2\n",
       "FTC Tar Content                                   2\n",
       "# cigarettes smoked per day now                   2\n",
       "Cobalt, urine (ng/mL)                             2\n",
       "Avg # cigarettes/day during past 30 days          2\n",
       "Retinyl Palmitate (ug/dL)                         2\n",
       "Triglyceride (mg/dL)                              2\n",
       "2-benzo[c] phenanthrene (ng/L)                    2\n",
       "# days smoked cigs during past 30 days            2\n",
       "g-Tocopherol (ug/dL)                              2\n",
       "Blood m-/p-Xylene (ng/mL)                         1\n",
       "CALCIUM_mg                                        1\n",
       "Blood Styrene (ng/mL)                             1\n",
       "Any Diabetes (FBG >= 126 mg/dL or self-report)    1\n",
       "3-benzo[c] phenanthrene (ng/L)                    1\n",
       "COPPER_mg                                         1\n",
       "Blood o-Xylene (ng/mL)                            1\n",
       "mean systolic                                     1\n",
       "Current Cigarette Smoker?                         1\n",
       "FOLIC_ACID_mcg                                    1\n",
       "IRON_mg                                           1\n",
       "Mono-ethyl phthalate                              1\n",
       "PCB101 (ng/g)                                     1\n",
       "PCB110 (ng/g)                                     1\n",
       "PCB149 (ng/g)                                     1\n",
       "Platinum, urine (ng/mL)                           1\n",
       "Uranium, urine (ng/mL)                            1\n",
       "VITAMIN_C_mg                                      1\n",
       "Vitamin D (ng/mL)                                 1\n",
       "b-Cryptoxanthin (ug/dL)                           1\n",
       "Folate, serum (ng/mL)                             1\n",
       "dtype: int64"
      ]
     },
     "metadata": {},
     "execution_count": 7
    }
   ],
   "source": [
    "final_results.results[4][bool_significant].value_counts('Variable_Name')"
   ]
  },
  {
   "source": [
    "## Pure differences"
   ],
   "cell_type": "markdown",
   "metadata": {}
  },
  {
   "cell_type": "code",
   "execution_count": 8,
   "metadata": {},
   "outputs": [
    {
     "output_type": "execute_result",
     "data": {
      "text/plain": [
       "Variable_Category\n",
       "smoking behavior      7\n",
       "nutrients             7\n",
       "heavy metals          7\n",
       "supplement use        4\n",
       "biochemistry          4\n",
       "smoking family        2\n",
       "hydrocarbons          2\n",
       "cotinine              2\n",
       "blood pressure        2\n",
       "volatile compounds    1\n",
       "disease               1\n",
       "dtype: int64"
      ]
     },
     "metadata": {},
     "execution_count": 8
    }
   ],
   "source": [
    "bool_pure = final_results.results[7]['difference_type'] == 'Pure'\n",
    "final_results.results[4][bool_pure].value_counts('Variable_Category')"
   ]
  },
  {
   "cell_type": "code",
   "execution_count": 9,
   "metadata": {},
   "outputs": [
    {
     "output_type": "execute_result",
     "data": {
      "text/plain": [
       "Phenotype_Name\n",
       "Albumin (g/dL)                       20\n",
       "Uric acid (mg/dL)                     2\n",
       "Osmolality (mOsml/L)                  2\n",
       "Lymphocyte percent (%)                2\n",
       "Homocysteine (umol/L)                 2\n",
       "Direct HDL-Cholesterol (mg/dL)        2\n",
       "Bone alkaline phosphotase (ug/L)      2\n",
       "Segmented neutrophils percent (%)     1\n",
       "Red cell count SI                     1\n",
       "Lymphocyte number                     1\n",
       "Hemoglobin (g/dL)                     1\n",
       "Hematocrit (%)                        1\n",
       "Globulin (g/dL)                       1\n",
       "Bilirubin, total (mg/dL)              1\n",
       "dtype: int64"
      ]
     },
     "metadata": {},
     "execution_count": 9
    }
   ],
   "source": [
    "final_results.results[4][bool_pure].value_counts('Phenotype_Name')"
   ]
  },
  {
   "cell_type": "code",
   "execution_count": 10,
   "metadata": {},
   "outputs": [
    {
     "output_type": "stream",
     "name": "stdout",
     "text": [
      "From the pure differences, in 12 cases, females showed significant effects while in 27 cases, males showed significant effects\n"
     ]
    }
   ],
   "source": [
    "betas_pure_females = final_results.results[4].loc[bool_pure,'Beta']\n",
    "betas_pure_males   = final_results.results[5].loc[bool_pure,'Beta']\n",
    "\n",
    "females_greater = sum(abs(betas_pure_females) > abs(betas_pure_males))\n",
    "males_greater   = sum(abs(betas_pure_females) < abs(betas_pure_males))\n",
    "\n",
    "print('From the pure differences, in ' + str(females_greater) + ' cases, females showed significant effects while in ' + \n",
    "       str(males_greater) + ' cases, males showed significant effects')"
   ]
  },
  {
   "cell_type": "code",
   "execution_count": 11,
   "metadata": {},
   "outputs": [
    {
     "output_type": "execute_result",
     "data": {
      "text/plain": [
       "             Variable                                   Variable_Name  \\\n",
       "919             LBXTR                            Triglyceride (mg/dL)   \n",
       "954            LBXSGL                                 Glucose (mg/dL)   \n",
       "959            LBXBCD                                  Cadmium (ug/L)   \n",
       "986    FOLIC_ACID_mcg                                  FOLIC_ACID_mcg   \n",
       "994        CALCIUM_mg                                      CALCIUM_mg   \n",
       "999      VITAMIN_C_mg                                    VITAMIN_C_mg   \n",
       "1022        COPPER_mg                                       COPPER_mg   \n",
       "1056           LBXVIE                               Vitamin E (ug/dL)   \n",
       "1069           LBXLUZ                   Lutein and zeaxanthin (ug/dL)   \n",
       "1072           LBXVID                               Vitamin D (ng/mL)   \n",
       "1075           SMD410                      Does anyone smoke in home?   \n",
       "1103         SMD100TR                                 FTC Tar Content   \n",
       "1109           LBXCOT                                Cotinine (ng/mL)   \n",
       "1125           SMD075               How many years smoked this amount   \n",
       "1128            LBXTC                       Total cholesterol (mg/dL)   \n",
       "1132         SMD100NI                            FTC Nicotine Content   \n",
       "1135         SMD100CO                     FTC Carbon Monoxide Content   \n",
       "1140           SMD090        Avg # cigarettes/day during past 30 days   \n",
       "1149           SMD080          # days smoked cigs during past 30 days   \n",
       "1152           SMD070                 # cigarettes smoked per day now   \n",
       "2745           LBXBPB                                    Lead (ug/dL)   \n",
       "2829           URXUPT                         Platinum, urine (ng/mL)   \n",
       "4295           SMD410                      Does anyone smoke in home?   \n",
       "4506           LBXBPB                                    Lead (ug/dL)   \n",
       "5357           LBXVIA                               Vitamin A (ug/dL)   \n",
       "6141           URXP14                  3-benzo[c] phenanthrene (ng/L)   \n",
       "6169           LBXVST                           Blood Styrene (ng/mL)   \n",
       "7034           LBXBPB                                    Lead (ug/dL)   \n",
       "7146           LBXRBF                         Folate, RBC (ng/mL RBC)   \n",
       "8385           LBXRBF                         Folate, RBC (ng/mL RBC)   \n",
       "9682     any_diabetes  Any Diabetes (FBG >= 126 mg/dL or self-report)   \n",
       "9684           LBXSGL                                 Glucose (mg/dL)   \n",
       "10999          URXUCO                           Cobalt, urine (ng/mL)   \n",
       "11300          URXUCO                           Cobalt, urine (ng/mL)   \n",
       "11608          LBXVIA                               Vitamin A (ug/dL)   \n",
       "12202            MDIS                                  mean diastolic   \n",
       "12205          URXP11                  2-benzo[c] phenanthrene (ng/L)   \n",
       "14042          LBXCOT                                Cotinine (ng/mL)   \n",
       "14947            MDIS                                  mean diastolic   \n",
       "\n",
       "      Phenotype                     Phenotype_Name        SE      Beta  \\\n",
       "919      LBXSAL                     Albumin (g/dL)  0.016402  0.094218   \n",
       "954      LBXSAL                     Albumin (g/dL)  0.014355 -0.024744   \n",
       "959      LBXSAL                     Albumin (g/dL)  0.006516  0.009857   \n",
       "986      LBXSAL                     Albumin (g/dL)  0.004584  0.006253   \n",
       "994      LBXSAL                     Albumin (g/dL)  0.004899  0.005379   \n",
       "999      LBXSAL                     Albumin (g/dL)  0.004638  0.000572   \n",
       "1022     LBXSAL                     Albumin (g/dL)  0.003496  0.002868   \n",
       "1056     LBXSAL                     Albumin (g/dL)  0.030701  0.004110   \n",
       "1069     LBXSAL                     Albumin (g/dL)  0.017108 -0.029012   \n",
       "1072     LBXSAL                     Albumin (g/dL)  0.007974  0.003423   \n",
       "1075     LBXSAL                     Albumin (g/dL)  0.002393  0.003549   \n",
       "1103     LBXSAL                     Albumin (g/dL)  0.007480 -0.004847   \n",
       "1109     LBXSAL                     Albumin (g/dL)  0.003079  0.000932   \n",
       "1125     LBXSAL                     Albumin (g/dL)  0.004285 -0.003732   \n",
       "1128     LBXSAL                     Albumin (g/dL)  0.014670 -0.005609   \n",
       "1132     LBXSAL                     Albumin (g/dL)  0.006821 -0.004688   \n",
       "1135     LBXSAL                     Albumin (g/dL)  0.006308 -0.002623   \n",
       "1140     LBXSAL                     Albumin (g/dL)  0.004236 -0.002979   \n",
       "1149     LBXSAL                     Albumin (g/dL)  0.003704 -0.004279   \n",
       "1152     LBXSAL                     Albumin (g/dL)  0.004532 -0.004467   \n",
       "2745     LBXBAP   Bone alkaline phosphotase (ug/L)  0.012647  0.162787   \n",
       "2829     LBXBAP   Bone alkaline phosphotase (ug/L)  0.049513 -0.088395   \n",
       "4295     LBDHDL     Direct HDL-Cholesterol (mg/dL)  0.002711 -0.026016   \n",
       "4506     LBDHDL     Direct HDL-Cholesterol (mg/dL)  0.012764 -0.010285   \n",
       "5357     LBXSGB                    Globulin (g/dL)  0.028453 -0.047883   \n",
       "6141     LBXHCY              Homocysteine (umol/L)  0.016384 -0.088871   \n",
       "6169     LBXHCY              Homocysteine (umol/L)  0.018349  0.140427   \n",
       "7034   LBXSOSSI               Osmolality (mOsml/L)  0.005507  0.007224   \n",
       "7146   LBXSOSSI               Osmolality (mOsml/L)  0.007740 -0.011586   \n",
       "8385     LBXSTB           Bilirubin, total (mg/dL)  0.012542 -0.001846   \n",
       "9682     LBXSUA                  Uric acid (mg/dL)  0.003041  0.004559   \n",
       "9684     LBXSUA                  Uric acid (mg/dL)  0.013647  0.014514   \n",
       "10999    LBXHCT                     Hematocrit (%)  0.018561 -0.159309   \n",
       "11300    LBXHGB                  Hemoglobin (g/dL)  0.017219 -0.178113   \n",
       "11608  LBDLYMNO                  Lymphocyte number  0.018392  0.124795   \n",
       "12202  LBXLYPCT             Lymphocyte percent (%)  0.027939 -0.254458   \n",
       "12205  LBXLYPCT             Lymphocyte percent (%)  0.028085 -0.133026   \n",
       "14042  LBXRBCSI                  Red cell count SI  0.003637  0.021288   \n",
       "14947  LBXNEPCT  Segmented neutrophils percent (%)  0.030242  0.243257   \n",
       "\n",
       "             pvalue  Variable_pvalue       N difference_type  \\\n",
       "919    9.231252e-09     9.231252e-09  4451.0            Pure   \n",
       "954    8.476498e-02     8.476498e-02  9244.0            Pure   \n",
       "959    1.302988e-01     1.302988e-01  9238.0            Pure   \n",
       "986    1.725325e-01     1.725325e-01  9013.0            Pure   \n",
       "994    2.722060e-01     2.722060e-01  8946.0            Pure   \n",
       "999    9.017918e-01     9.017918e-01  9031.0            Pure   \n",
       "1022   4.120880e-01     4.120880e-01  9129.0            Pure   \n",
       "1056   8.935071e-01     8.935071e-01  9194.0            Pure   \n",
       "1069   8.991910e-02     8.991910e-02  7141.0            Pure   \n",
       "1072   6.677414e-01     6.677414e-01  7149.0            Pure   \n",
       "1075   1.381772e-01     1.381772e-01  9241.0            Pure   \n",
       "1103   5.169812e-01     5.169812e-01  2699.0            Pure   \n",
       "1109   7.622042e-01     7.622042e-01  9172.0            Pure   \n",
       "1125   3.837723e-01     3.837723e-01  2659.0            Pure   \n",
       "1128   7.022164e-01     7.022164e-01  9235.0            Pure   \n",
       "1132   4.919250e-01     4.919250e-01  2697.0            Pure   \n",
       "1135   6.775211e-01     6.775211e-01  2692.0            Pure   \n",
       "1140   4.819126e-01     4.819126e-01  2894.0            Pure   \n",
       "1149   2.480024e-01     2.480024e-01  2919.0            Pure   \n",
       "1152   3.243380e-01     3.243380e-01  2666.0            Pure   \n",
       "2745   6.520020e-38     6.520020e-38  5822.0            Pure   \n",
       "2829   7.421278e-02     7.421278e-02  1824.0            Pure   \n",
       "4295   8.122965e-22     8.122965e-22  6821.0            Pure   \n",
       "4506   4.203841e-01     4.203841e-01  6821.0            Pure   \n",
       "5357   9.239770e-02     9.239770e-02  9209.0            Pure   \n",
       "6141   5.816675e-08     5.816675e-08  2104.0            Pure   \n",
       "6169   1.962173e-14     1.962173e-14  2306.0            Pure   \n",
       "7034   1.895848e-01     1.895848e-01  9238.0            Pure   \n",
       "7146   1.343948e-01     1.343948e-01  9198.0            Pure   \n",
       "8385   8.829869e-01     8.829869e-01  9197.0            Pure   \n",
       "9682   1.337604e-01     1.337604e-01  9173.0            Pure   \n",
       "9684   2.875288e-01     2.875288e-01  9244.0            Pure   \n",
       "10999  9.240392e-18     9.240392e-18  3031.0            Pure   \n",
       "11300  4.454200e-25     4.454200e-25  3031.0            Pure   \n",
       "11608  1.159978e-11     1.159978e-11  9161.0            Pure   \n",
       "12202  8.426081e-20     8.426081e-20  7375.0            Pure   \n",
       "12205  2.174122e-06     2.174122e-06  2078.0            Pure   \n",
       "14042  4.834843e-09     4.834843e-09  9206.0            Pure   \n",
       "14947  8.727636e-16     8.727636e-16  7375.0            Pure   \n",
       "\n",
       "        Variable_Category  \n",
       "919          biochemistry  \n",
       "954          biochemistry  \n",
       "959          heavy metals  \n",
       "986        supplement use  \n",
       "994        supplement use  \n",
       "999        supplement use  \n",
       "1022       supplement use  \n",
       "1056            nutrients  \n",
       "1069            nutrients  \n",
       "1072            nutrients  \n",
       "1075       smoking family  \n",
       "1103     smoking behavior  \n",
       "1109             cotinine  \n",
       "1125     smoking behavior  \n",
       "1128         biochemistry  \n",
       "1132     smoking behavior  \n",
       "1135     smoking behavior  \n",
       "1140     smoking behavior  \n",
       "1149     smoking behavior  \n",
       "1152     smoking behavior  \n",
       "2745         heavy metals  \n",
       "2829         heavy metals  \n",
       "4295       smoking family  \n",
       "4506         heavy metals  \n",
       "5357            nutrients  \n",
       "6141         hydrocarbons  \n",
       "6169   volatile compounds  \n",
       "7034         heavy metals  \n",
       "7146            nutrients  \n",
       "8385            nutrients  \n",
       "9682              disease  \n",
       "9684         biochemistry  \n",
       "10999        heavy metals  \n",
       "11300        heavy metals  \n",
       "11608           nutrients  \n",
       "12202      blood pressure  \n",
       "12205        hydrocarbons  \n",
       "14042            cotinine  \n",
       "14947      blood pressure  "
      ],
      "text/html": "<div>\n<style scoped>\n    .dataframe tbody tr th:only-of-type {\n        vertical-align: middle;\n    }\n\n    .dataframe tbody tr th {\n        vertical-align: top;\n    }\n\n    .dataframe thead th {\n        text-align: right;\n    }\n</style>\n<table border=\"1\" class=\"dataframe\">\n  <thead>\n    <tr style=\"text-align: right;\">\n      <th></th>\n      <th>Variable</th>\n      <th>Variable_Name</th>\n      <th>Phenotype</th>\n      <th>Phenotype_Name</th>\n      <th>SE</th>\n      <th>Beta</th>\n      <th>pvalue</th>\n      <th>Variable_pvalue</th>\n      <th>N</th>\n      <th>difference_type</th>\n      <th>Variable_Category</th>\n    </tr>\n  </thead>\n  <tbody>\n    <tr>\n      <th>919</th>\n      <td>LBXTR</td>\n      <td>Triglyceride (mg/dL)</td>\n      <td>LBXSAL</td>\n      <td>Albumin (g/dL)</td>\n      <td>0.016402</td>\n      <td>0.094218</td>\n      <td>9.231252e-09</td>\n      <td>9.231252e-09</td>\n      <td>4451.0</td>\n      <td>Pure</td>\n      <td>biochemistry</td>\n    </tr>\n    <tr>\n      <th>954</th>\n      <td>LBXSGL</td>\n      <td>Glucose (mg/dL)</td>\n      <td>LBXSAL</td>\n      <td>Albumin (g/dL)</td>\n      <td>0.014355</td>\n      <td>-0.024744</td>\n      <td>8.476498e-02</td>\n      <td>8.476498e-02</td>\n      <td>9244.0</td>\n      <td>Pure</td>\n      <td>biochemistry</td>\n    </tr>\n    <tr>\n      <th>959</th>\n      <td>LBXBCD</td>\n      <td>Cadmium (ug/L)</td>\n      <td>LBXSAL</td>\n      <td>Albumin (g/dL)</td>\n      <td>0.006516</td>\n      <td>0.009857</td>\n      <td>1.302988e-01</td>\n      <td>1.302988e-01</td>\n      <td>9238.0</td>\n      <td>Pure</td>\n      <td>heavy metals</td>\n    </tr>\n    <tr>\n      <th>986</th>\n      <td>FOLIC_ACID_mcg</td>\n      <td>FOLIC_ACID_mcg</td>\n      <td>LBXSAL</td>\n      <td>Albumin (g/dL)</td>\n      <td>0.004584</td>\n      <td>0.006253</td>\n      <td>1.725325e-01</td>\n      <td>1.725325e-01</td>\n      <td>9013.0</td>\n      <td>Pure</td>\n      <td>supplement use</td>\n    </tr>\n    <tr>\n      <th>994</th>\n      <td>CALCIUM_mg</td>\n      <td>CALCIUM_mg</td>\n      <td>LBXSAL</td>\n      <td>Albumin (g/dL)</td>\n      <td>0.004899</td>\n      <td>0.005379</td>\n      <td>2.722060e-01</td>\n      <td>2.722060e-01</td>\n      <td>8946.0</td>\n      <td>Pure</td>\n      <td>supplement use</td>\n    </tr>\n    <tr>\n      <th>999</th>\n      <td>VITAMIN_C_mg</td>\n      <td>VITAMIN_C_mg</td>\n      <td>LBXSAL</td>\n      <td>Albumin (g/dL)</td>\n      <td>0.004638</td>\n      <td>0.000572</td>\n      <td>9.017918e-01</td>\n      <td>9.017918e-01</td>\n      <td>9031.0</td>\n      <td>Pure</td>\n      <td>supplement use</td>\n    </tr>\n    <tr>\n      <th>1022</th>\n      <td>COPPER_mg</td>\n      <td>COPPER_mg</td>\n      <td>LBXSAL</td>\n      <td>Albumin (g/dL)</td>\n      <td>0.003496</td>\n      <td>0.002868</td>\n      <td>4.120880e-01</td>\n      <td>4.120880e-01</td>\n      <td>9129.0</td>\n      <td>Pure</td>\n      <td>supplement use</td>\n    </tr>\n    <tr>\n      <th>1056</th>\n      <td>LBXVIE</td>\n      <td>Vitamin E (ug/dL)</td>\n      <td>LBXSAL</td>\n      <td>Albumin (g/dL)</td>\n      <td>0.030701</td>\n      <td>0.004110</td>\n      <td>8.935071e-01</td>\n      <td>8.935071e-01</td>\n      <td>9194.0</td>\n      <td>Pure</td>\n      <td>nutrients</td>\n    </tr>\n    <tr>\n      <th>1069</th>\n      <td>LBXLUZ</td>\n      <td>Lutein and zeaxanthin (ug/dL)</td>\n      <td>LBXSAL</td>\n      <td>Albumin (g/dL)</td>\n      <td>0.017108</td>\n      <td>-0.029012</td>\n      <td>8.991910e-02</td>\n      <td>8.991910e-02</td>\n      <td>7141.0</td>\n      <td>Pure</td>\n      <td>nutrients</td>\n    </tr>\n    <tr>\n      <th>1072</th>\n      <td>LBXVID</td>\n      <td>Vitamin D (ng/mL)</td>\n      <td>LBXSAL</td>\n      <td>Albumin (g/dL)</td>\n      <td>0.007974</td>\n      <td>0.003423</td>\n      <td>6.677414e-01</td>\n      <td>6.677414e-01</td>\n      <td>7149.0</td>\n      <td>Pure</td>\n      <td>nutrients</td>\n    </tr>\n    <tr>\n      <th>1075</th>\n      <td>SMD410</td>\n      <td>Does anyone smoke in home?</td>\n      <td>LBXSAL</td>\n      <td>Albumin (g/dL)</td>\n      <td>0.002393</td>\n      <td>0.003549</td>\n      <td>1.381772e-01</td>\n      <td>1.381772e-01</td>\n      <td>9241.0</td>\n      <td>Pure</td>\n      <td>smoking family</td>\n    </tr>\n    <tr>\n      <th>1103</th>\n      <td>SMD100TR</td>\n      <td>FTC Tar Content</td>\n      <td>LBXSAL</td>\n      <td>Albumin (g/dL)</td>\n      <td>0.007480</td>\n      <td>-0.004847</td>\n      <td>5.169812e-01</td>\n      <td>5.169812e-01</td>\n      <td>2699.0</td>\n      <td>Pure</td>\n      <td>smoking behavior</td>\n    </tr>\n    <tr>\n      <th>1109</th>\n      <td>LBXCOT</td>\n      <td>Cotinine (ng/mL)</td>\n      <td>LBXSAL</td>\n      <td>Albumin (g/dL)</td>\n      <td>0.003079</td>\n      <td>0.000932</td>\n      <td>7.622042e-01</td>\n      <td>7.622042e-01</td>\n      <td>9172.0</td>\n      <td>Pure</td>\n      <td>cotinine</td>\n    </tr>\n    <tr>\n      <th>1125</th>\n      <td>SMD075</td>\n      <td>How many years smoked this amount</td>\n      <td>LBXSAL</td>\n      <td>Albumin (g/dL)</td>\n      <td>0.004285</td>\n      <td>-0.003732</td>\n      <td>3.837723e-01</td>\n      <td>3.837723e-01</td>\n      <td>2659.0</td>\n      <td>Pure</td>\n      <td>smoking behavior</td>\n    </tr>\n    <tr>\n      <th>1128</th>\n      <td>LBXTC</td>\n      <td>Total cholesterol (mg/dL)</td>\n      <td>LBXSAL</td>\n      <td>Albumin (g/dL)</td>\n      <td>0.014670</td>\n      <td>-0.005609</td>\n      <td>7.022164e-01</td>\n      <td>7.022164e-01</td>\n      <td>9235.0</td>\n      <td>Pure</td>\n      <td>biochemistry</td>\n    </tr>\n    <tr>\n      <th>1132</th>\n      <td>SMD100NI</td>\n      <td>FTC Nicotine Content</td>\n      <td>LBXSAL</td>\n      <td>Albumin (g/dL)</td>\n      <td>0.006821</td>\n      <td>-0.004688</td>\n      <td>4.919250e-01</td>\n      <td>4.919250e-01</td>\n      <td>2697.0</td>\n      <td>Pure</td>\n      <td>smoking behavior</td>\n    </tr>\n    <tr>\n      <th>1135</th>\n      <td>SMD100CO</td>\n      <td>FTC Carbon Monoxide Content</td>\n      <td>LBXSAL</td>\n      <td>Albumin (g/dL)</td>\n      <td>0.006308</td>\n      <td>-0.002623</td>\n      <td>6.775211e-01</td>\n      <td>6.775211e-01</td>\n      <td>2692.0</td>\n      <td>Pure</td>\n      <td>smoking behavior</td>\n    </tr>\n    <tr>\n      <th>1140</th>\n      <td>SMD090</td>\n      <td>Avg # cigarettes/day during past 30 days</td>\n      <td>LBXSAL</td>\n      <td>Albumin (g/dL)</td>\n      <td>0.004236</td>\n      <td>-0.002979</td>\n      <td>4.819126e-01</td>\n      <td>4.819126e-01</td>\n      <td>2894.0</td>\n      <td>Pure</td>\n      <td>smoking behavior</td>\n    </tr>\n    <tr>\n      <th>1149</th>\n      <td>SMD080</td>\n      <td># days smoked cigs during past 30 days</td>\n      <td>LBXSAL</td>\n      <td>Albumin (g/dL)</td>\n      <td>0.003704</td>\n      <td>-0.004279</td>\n      <td>2.480024e-01</td>\n      <td>2.480024e-01</td>\n      <td>2919.0</td>\n      <td>Pure</td>\n      <td>smoking behavior</td>\n    </tr>\n    <tr>\n      <th>1152</th>\n      <td>SMD070</td>\n      <td># cigarettes smoked per day now</td>\n      <td>LBXSAL</td>\n      <td>Albumin (g/dL)</td>\n      <td>0.004532</td>\n      <td>-0.004467</td>\n      <td>3.243380e-01</td>\n      <td>3.243380e-01</td>\n      <td>2666.0</td>\n      <td>Pure</td>\n      <td>smoking behavior</td>\n    </tr>\n    <tr>\n      <th>2745</th>\n      <td>LBXBPB</td>\n      <td>Lead (ug/dL)</td>\n      <td>LBXBAP</td>\n      <td>Bone alkaline phosphotase (ug/L)</td>\n      <td>0.012647</td>\n      <td>0.162787</td>\n      <td>6.520020e-38</td>\n      <td>6.520020e-38</td>\n      <td>5822.0</td>\n      <td>Pure</td>\n      <td>heavy metals</td>\n    </tr>\n    <tr>\n      <th>2829</th>\n      <td>URXUPT</td>\n      <td>Platinum, urine (ng/mL)</td>\n      <td>LBXBAP</td>\n      <td>Bone alkaline phosphotase (ug/L)</td>\n      <td>0.049513</td>\n      <td>-0.088395</td>\n      <td>7.421278e-02</td>\n      <td>7.421278e-02</td>\n      <td>1824.0</td>\n      <td>Pure</td>\n      <td>heavy metals</td>\n    </tr>\n    <tr>\n      <th>4295</th>\n      <td>SMD410</td>\n      <td>Does anyone smoke in home?</td>\n      <td>LBDHDL</td>\n      <td>Direct HDL-Cholesterol (mg/dL)</td>\n      <td>0.002711</td>\n      <td>-0.026016</td>\n      <td>8.122965e-22</td>\n      <td>8.122965e-22</td>\n      <td>6821.0</td>\n      <td>Pure</td>\n      <td>smoking family</td>\n    </tr>\n    <tr>\n      <th>4506</th>\n      <td>LBXBPB</td>\n      <td>Lead (ug/dL)</td>\n      <td>LBDHDL</td>\n      <td>Direct HDL-Cholesterol (mg/dL)</td>\n      <td>0.012764</td>\n      <td>-0.010285</td>\n      <td>4.203841e-01</td>\n      <td>4.203841e-01</td>\n      <td>6821.0</td>\n      <td>Pure</td>\n      <td>heavy metals</td>\n    </tr>\n    <tr>\n      <th>5357</th>\n      <td>LBXVIA</td>\n      <td>Vitamin A (ug/dL)</td>\n      <td>LBXSGB</td>\n      <td>Globulin (g/dL)</td>\n      <td>0.028453</td>\n      <td>-0.047883</td>\n      <td>9.239770e-02</td>\n      <td>9.239770e-02</td>\n      <td>9209.0</td>\n      <td>Pure</td>\n      <td>nutrients</td>\n    </tr>\n    <tr>\n      <th>6141</th>\n      <td>URXP14</td>\n      <td>3-benzo[c] phenanthrene (ng/L)</td>\n      <td>LBXHCY</td>\n      <td>Homocysteine (umol/L)</td>\n      <td>0.016384</td>\n      <td>-0.088871</td>\n      <td>5.816675e-08</td>\n      <td>5.816675e-08</td>\n      <td>2104.0</td>\n      <td>Pure</td>\n      <td>hydrocarbons</td>\n    </tr>\n    <tr>\n      <th>6169</th>\n      <td>LBXVST</td>\n      <td>Blood Styrene (ng/mL)</td>\n      <td>LBXHCY</td>\n      <td>Homocysteine (umol/L)</td>\n      <td>0.018349</td>\n      <td>0.140427</td>\n      <td>1.962173e-14</td>\n      <td>1.962173e-14</td>\n      <td>2306.0</td>\n      <td>Pure</td>\n      <td>volatile compounds</td>\n    </tr>\n    <tr>\n      <th>7034</th>\n      <td>LBXBPB</td>\n      <td>Lead (ug/dL)</td>\n      <td>LBXSOSSI</td>\n      <td>Osmolality (mOsml/L)</td>\n      <td>0.005507</td>\n      <td>0.007224</td>\n      <td>1.895848e-01</td>\n      <td>1.895848e-01</td>\n      <td>9238.0</td>\n      <td>Pure</td>\n      <td>heavy metals</td>\n    </tr>\n    <tr>\n      <th>7146</th>\n      <td>LBXRBF</td>\n      <td>Folate, RBC (ng/mL RBC)</td>\n      <td>LBXSOSSI</td>\n      <td>Osmolality (mOsml/L)</td>\n      <td>0.007740</td>\n      <td>-0.011586</td>\n      <td>1.343948e-01</td>\n      <td>1.343948e-01</td>\n      <td>9198.0</td>\n      <td>Pure</td>\n      <td>nutrients</td>\n    </tr>\n    <tr>\n      <th>8385</th>\n      <td>LBXRBF</td>\n      <td>Folate, RBC (ng/mL RBC)</td>\n      <td>LBXSTB</td>\n      <td>Bilirubin, total (mg/dL)</td>\n      <td>0.012542</td>\n      <td>-0.001846</td>\n      <td>8.829869e-01</td>\n      <td>8.829869e-01</td>\n      <td>9197.0</td>\n      <td>Pure</td>\n      <td>nutrients</td>\n    </tr>\n    <tr>\n      <th>9682</th>\n      <td>any_diabetes</td>\n      <td>Any Diabetes (FBG &gt;= 126 mg/dL or self-report)</td>\n      <td>LBXSUA</td>\n      <td>Uric acid (mg/dL)</td>\n      <td>0.003041</td>\n      <td>0.004559</td>\n      <td>1.337604e-01</td>\n      <td>1.337604e-01</td>\n      <td>9173.0</td>\n      <td>Pure</td>\n      <td>disease</td>\n    </tr>\n    <tr>\n      <th>9684</th>\n      <td>LBXSGL</td>\n      <td>Glucose (mg/dL)</td>\n      <td>LBXSUA</td>\n      <td>Uric acid (mg/dL)</td>\n      <td>0.013647</td>\n      <td>0.014514</td>\n      <td>2.875288e-01</td>\n      <td>2.875288e-01</td>\n      <td>9244.0</td>\n      <td>Pure</td>\n      <td>biochemistry</td>\n    </tr>\n    <tr>\n      <th>10999</th>\n      <td>URXUCO</td>\n      <td>Cobalt, urine (ng/mL)</td>\n      <td>LBXHCT</td>\n      <td>Hematocrit (%)</td>\n      <td>0.018561</td>\n      <td>-0.159309</td>\n      <td>9.240392e-18</td>\n      <td>9.240392e-18</td>\n      <td>3031.0</td>\n      <td>Pure</td>\n      <td>heavy metals</td>\n    </tr>\n    <tr>\n      <th>11300</th>\n      <td>URXUCO</td>\n      <td>Cobalt, urine (ng/mL)</td>\n      <td>LBXHGB</td>\n      <td>Hemoglobin (g/dL)</td>\n      <td>0.017219</td>\n      <td>-0.178113</td>\n      <td>4.454200e-25</td>\n      <td>4.454200e-25</td>\n      <td>3031.0</td>\n      <td>Pure</td>\n      <td>heavy metals</td>\n    </tr>\n    <tr>\n      <th>11608</th>\n      <td>LBXVIA</td>\n      <td>Vitamin A (ug/dL)</td>\n      <td>LBDLYMNO</td>\n      <td>Lymphocyte number</td>\n      <td>0.018392</td>\n      <td>0.124795</td>\n      <td>1.159978e-11</td>\n      <td>1.159978e-11</td>\n      <td>9161.0</td>\n      <td>Pure</td>\n      <td>nutrients</td>\n    </tr>\n    <tr>\n      <th>12202</th>\n      <td>MDIS</td>\n      <td>mean diastolic</td>\n      <td>LBXLYPCT</td>\n      <td>Lymphocyte percent (%)</td>\n      <td>0.027939</td>\n      <td>-0.254458</td>\n      <td>8.426081e-20</td>\n      <td>8.426081e-20</td>\n      <td>7375.0</td>\n      <td>Pure</td>\n      <td>blood pressure</td>\n    </tr>\n    <tr>\n      <th>12205</th>\n      <td>URXP11</td>\n      <td>2-benzo[c] phenanthrene (ng/L)</td>\n      <td>LBXLYPCT</td>\n      <td>Lymphocyte percent (%)</td>\n      <td>0.028085</td>\n      <td>-0.133026</td>\n      <td>2.174122e-06</td>\n      <td>2.174122e-06</td>\n      <td>2078.0</td>\n      <td>Pure</td>\n      <td>hydrocarbons</td>\n    </tr>\n    <tr>\n      <th>14042</th>\n      <td>LBXCOT</td>\n      <td>Cotinine (ng/mL)</td>\n      <td>LBXRBCSI</td>\n      <td>Red cell count SI</td>\n      <td>0.003637</td>\n      <td>0.021288</td>\n      <td>4.834843e-09</td>\n      <td>4.834843e-09</td>\n      <td>9206.0</td>\n      <td>Pure</td>\n      <td>cotinine</td>\n    </tr>\n    <tr>\n      <th>14947</th>\n      <td>MDIS</td>\n      <td>mean diastolic</td>\n      <td>LBXNEPCT</td>\n      <td>Segmented neutrophils percent (%)</td>\n      <td>0.030242</td>\n      <td>0.243257</td>\n      <td>8.727636e-16</td>\n      <td>8.727636e-16</td>\n      <td>7375.0</td>\n      <td>Pure</td>\n      <td>blood pressure</td>\n    </tr>\n  </tbody>\n</table>\n</div>"
     },
     "metadata": {},
     "execution_count": 11
    }
   ],
   "source": [
    "final_results.results[4][bool_pure]"
   ]
  },
  {
   "cell_type": "code",
   "execution_count": 12,
   "metadata": {},
   "outputs": [
    {
     "output_type": "execute_result",
     "data": {
      "text/plain": [
       "             Variable                                   Variable_Name  \\\n",
       "919             LBXTR                            Triglyceride (mg/dL)   \n",
       "954            LBXSGL                                 Glucose (mg/dL)   \n",
       "959            LBXBCD                                  Cadmium (ug/L)   \n",
       "986    FOLIC_ACID_mcg                                  FOLIC_ACID_mcg   \n",
       "994        CALCIUM_mg                                      CALCIUM_mg   \n",
       "999      VITAMIN_C_mg                                    VITAMIN_C_mg   \n",
       "1022        COPPER_mg                                       COPPER_mg   \n",
       "1056           LBXVIE                               Vitamin E (ug/dL)   \n",
       "1069           LBXLUZ                   Lutein and zeaxanthin (ug/dL)   \n",
       "1072           LBXVID                               Vitamin D (ng/mL)   \n",
       "1075           SMD410                      Does anyone smoke in home?   \n",
       "1103         SMD100TR                                 FTC Tar Content   \n",
       "1109           LBXCOT                                Cotinine (ng/mL)   \n",
       "1125           SMD075               How many years smoked this amount   \n",
       "1128            LBXTC                       Total cholesterol (mg/dL)   \n",
       "1132         SMD100NI                            FTC Nicotine Content   \n",
       "1135         SMD100CO                     FTC Carbon Monoxide Content   \n",
       "1140           SMD090        Avg # cigarettes/day during past 30 days   \n",
       "1149           SMD080          # days smoked cigs during past 30 days   \n",
       "1152           SMD070                 # cigarettes smoked per day now   \n",
       "2745           LBXBPB                                    Lead (ug/dL)   \n",
       "2829           URXUPT                         Platinum, urine (ng/mL)   \n",
       "4295           SMD410                      Does anyone smoke in home?   \n",
       "4506           LBXBPB                                    Lead (ug/dL)   \n",
       "5357           LBXVIA                               Vitamin A (ug/dL)   \n",
       "6141           URXP14                  3-benzo[c] phenanthrene (ng/L)   \n",
       "6169           LBXVST                           Blood Styrene (ng/mL)   \n",
       "7034           LBXBPB                                    Lead (ug/dL)   \n",
       "7146           LBXRBF                         Folate, RBC (ng/mL RBC)   \n",
       "8385           LBXRBF                         Folate, RBC (ng/mL RBC)   \n",
       "9682     any_diabetes  Any Diabetes (FBG >= 126 mg/dL or self-report)   \n",
       "9684           LBXSGL                                 Glucose (mg/dL)   \n",
       "10999          URXUCO                           Cobalt, urine (ng/mL)   \n",
       "11300          URXUCO                           Cobalt, urine (ng/mL)   \n",
       "11608          LBXVIA                               Vitamin A (ug/dL)   \n",
       "12202            MDIS                                  mean diastolic   \n",
       "12205          URXP11                  2-benzo[c] phenanthrene (ng/L)   \n",
       "14042          LBXCOT                                Cotinine (ng/mL)   \n",
       "14947            MDIS                                  mean diastolic   \n",
       "\n",
       "      Phenotype                     Phenotype_Name        SE      Beta  \\\n",
       "919      LBXSAL                     Albumin (g/dL)  0.011768 -0.015169   \n",
       "954      LBXSAL                     Albumin (g/dL)  0.014984  0.072705   \n",
       "959      LBXSAL                     Albumin (g/dL)  0.007350  0.054185   \n",
       "986      LBXSAL                     Albumin (g/dL)  0.005334 -0.028321   \n",
       "994      LBXSAL                     Albumin (g/dL)  0.006393 -0.032100   \n",
       "999      LBXSAL                     Albumin (g/dL)  0.004769 -0.030511   \n",
       "1022     LBXSAL                     Albumin (g/dL)  0.003757 -0.021437   \n",
       "1056     LBXSAL                     Albumin (g/dL)  0.020616 -0.268407   \n",
       "1069     LBXSAL                     Albumin (g/dL)  0.015789 -0.162485   \n",
       "1072     LBXSAL                     Albumin (g/dL)  0.010208 -0.073083   \n",
       "1075     LBXSAL                     Albumin (g/dL)  0.002391  0.019182   \n",
       "1103     LBXSAL                     Albumin (g/dL)  0.006358  0.040282   \n",
       "1109     LBXSAL                     Albumin (g/dL)  0.003338  0.028845   \n",
       "1125     LBXSAL                     Albumin (g/dL)  0.004458  0.032402   \n",
       "1128     LBXSAL                     Albumin (g/dL)  0.011473 -0.108539   \n",
       "1132     LBXSAL                     Albumin (g/dL)  0.006063  0.036866   \n",
       "1135     LBXSAL                     Albumin (g/dL)  0.006465  0.038138   \n",
       "1140     LBXSAL                     Albumin (g/dL)  0.004479  0.029387   \n",
       "1149     LBXSAL                     Albumin (g/dL)  0.003666  0.026438   \n",
       "1152     LBXSAL                     Albumin (g/dL)  0.004558  0.031921   \n",
       "2745     LBXBAP   Bone alkaline phosphotase (ug/L)  0.011475  0.016335   \n",
       "2829     LBXBAP   Bone alkaline phosphotase (ug/L)  0.027957  0.428515   \n",
       "4295     LBDHDL     Direct HDL-Cholesterol (mg/dL)  0.003480 -0.003124   \n",
       "4506     LBDHDL     Direct HDL-Cholesterol (mg/dL)  0.014753  0.086371   \n",
       "5357     LBXSGB                    Globulin (g/dL)  0.030076 -0.296996   \n",
       "6141     LBXHCY              Homocysteine (umol/L)  0.017142  0.016594   \n",
       "6169     LBXHCY              Homocysteine (umol/L)  0.015092  0.019999   \n",
       "7034   LBXSOSSI               Osmolality (mOsml/L)  0.005175 -0.032215   \n",
       "7146   LBXSOSSI               Osmolality (mOsml/L)  0.008318  0.041772   \n",
       "8385     LBXSTB           Bilirubin, total (mg/dL)  0.011564  0.083277   \n",
       "9682     LBXSUA                  Uric acid (mg/dL)  0.002966 -0.016096   \n",
       "9684     LBXSUA                  Uric acid (mg/dL)  0.011324 -0.075025   \n",
       "10999    LBXHCT                     Hematocrit (%)  0.028337  0.013814   \n",
       "11300    LBXHGB                  Hemoglobin (g/dL)  0.026720 -0.004744   \n",
       "11608  LBDLYMNO                  Lymphocyte number  0.022089 -0.008336   \n",
       "12202  LBXLYPCT             Lymphocyte percent (%)  0.030791 -0.017764   \n",
       "12205  LBXLYPCT             Lymphocyte percent (%)  0.031134  0.056463   \n",
       "14042  LBXRBCSI                  Red cell count SI  0.003598 -0.006468   \n",
       "14947  LBXNEPCT  Segmented neutrophils percent (%)  0.035109  0.006907   \n",
       "\n",
       "             pvalue  Variable_pvalue       N difference_type  \\\n",
       "919    1.974069e-01     1.974069e-01  4250.0            Pure   \n",
       "954    1.220322e-06     1.220322e-06  8613.0            Pure   \n",
       "959    1.673600e-13     1.673600e-13  8602.0            Pure   \n",
       "986    1.096946e-07     1.096946e-07  8520.0            Pure   \n",
       "994    5.141652e-07     5.141652e-07  8499.0            Pure   \n",
       "999    1.570343e-10     1.570343e-10  8541.0            Pure   \n",
       "1022   1.158511e-08     1.158511e-08  8571.0            Pure   \n",
       "1056   9.500481e-39     9.500481e-39  8566.0            Pure   \n",
       "1069   7.761255e-25     7.761255e-25  6706.0            Pure   \n",
       "1072   8.087971e-13     8.087971e-13  6701.0            Pure   \n",
       "1075   1.037738e-15     1.037738e-15  8608.0            Pure   \n",
       "1103   2.369908e-10     2.369908e-10  2924.0            Pure   \n",
       "1109   5.505448e-18     5.505448e-18  8558.0            Pure   \n",
       "1125   3.631568e-13     3.631568e-13  2803.0            Pure   \n",
       "1128   3.057195e-21     3.057195e-21  8605.0            Pure   \n",
       "1132   1.194323e-09     1.194323e-09  2922.0            Pure   \n",
       "1135   3.663102e-09     3.663102e-09  2915.0            Pure   \n",
       "1140   5.331279e-11     5.331279e-11  3198.0            Pure   \n",
       "1149   5.495379e-13     5.495379e-13  3229.0            Pure   \n",
       "1152   2.495611e-12     2.495611e-12  2814.0            Pure   \n",
       "2745   1.545857e-01     1.545857e-01  5352.0            Pure   \n",
       "2829   5.017010e-53     5.017010e-53  1769.0            Pure   \n",
       "4295   3.693634e-01     3.693634e-01  6358.0            Pure   \n",
       "4506   4.780498e-09     4.780498e-09  6356.0            Pure   \n",
       "5357   5.351145e-23     5.351145e-23  8566.0            Pure   \n",
       "6141   3.330292e-01     3.330292e-01  1946.0            Pure   \n",
       "6169   1.851339e-01     1.851339e-01  2076.0            Pure   \n",
       "7034   4.827693e-10     4.827693e-10  8601.0            Pure   \n",
       "7146   5.115676e-07     5.115676e-07  8575.0            Pure   \n",
       "8385   5.964720e-13     5.964720e-13  8571.0            Pure   \n",
       "9682   5.745465e-08     5.745465e-08  8544.0            Pure   \n",
       "9684   3.461763e-11     3.461763e-11  8611.0            Pure   \n",
       "10999  6.259137e-01     6.259137e-01  2877.0            Pure   \n",
       "11300  8.590880e-01     8.590880e-01  2877.0            Pure   \n",
       "11608  7.058871e-01     7.058871e-01  8575.0            Pure   \n",
       "12202  5.639904e-01     5.639904e-01  6995.0            Pure   \n",
       "12205  6.974654e-02     6.974654e-02  1942.0            Pure   \n",
       "14042  7.226108e-02     7.226108e-02  8577.0            Pure   \n",
       "14947  8.440499e-01     8.440499e-01  6995.0            Pure   \n",
       "\n",
       "        Variable_Category  \n",
       "919          biochemistry  \n",
       "954          biochemistry  \n",
       "959          heavy metals  \n",
       "986        supplement use  \n",
       "994        supplement use  \n",
       "999        supplement use  \n",
       "1022       supplement use  \n",
       "1056            nutrients  \n",
       "1069            nutrients  \n",
       "1072            nutrients  \n",
       "1075       smoking family  \n",
       "1103     smoking behavior  \n",
       "1109             cotinine  \n",
       "1125     smoking behavior  \n",
       "1128         biochemistry  \n",
       "1132     smoking behavior  \n",
       "1135     smoking behavior  \n",
       "1140     smoking behavior  \n",
       "1149     smoking behavior  \n",
       "1152     smoking behavior  \n",
       "2745         heavy metals  \n",
       "2829         heavy metals  \n",
       "4295       smoking family  \n",
       "4506         heavy metals  \n",
       "5357            nutrients  \n",
       "6141         hydrocarbons  \n",
       "6169   volatile compounds  \n",
       "7034         heavy metals  \n",
       "7146            nutrients  \n",
       "8385            nutrients  \n",
       "9682              disease  \n",
       "9684         biochemistry  \n",
       "10999        heavy metals  \n",
       "11300        heavy metals  \n",
       "11608           nutrients  \n",
       "12202      blood pressure  \n",
       "12205        hydrocarbons  \n",
       "14042            cotinine  \n",
       "14947      blood pressure  "
      ],
      "text/html": "<div>\n<style scoped>\n    .dataframe tbody tr th:only-of-type {\n        vertical-align: middle;\n    }\n\n    .dataframe tbody tr th {\n        vertical-align: top;\n    }\n\n    .dataframe thead th {\n        text-align: right;\n    }\n</style>\n<table border=\"1\" class=\"dataframe\">\n  <thead>\n    <tr style=\"text-align: right;\">\n      <th></th>\n      <th>Variable</th>\n      <th>Variable_Name</th>\n      <th>Phenotype</th>\n      <th>Phenotype_Name</th>\n      <th>SE</th>\n      <th>Beta</th>\n      <th>pvalue</th>\n      <th>Variable_pvalue</th>\n      <th>N</th>\n      <th>difference_type</th>\n      <th>Variable_Category</th>\n    </tr>\n  </thead>\n  <tbody>\n    <tr>\n      <th>919</th>\n      <td>LBXTR</td>\n      <td>Triglyceride (mg/dL)</td>\n      <td>LBXSAL</td>\n      <td>Albumin (g/dL)</td>\n      <td>0.011768</td>\n      <td>-0.015169</td>\n      <td>1.974069e-01</td>\n      <td>1.974069e-01</td>\n      <td>4250.0</td>\n      <td>Pure</td>\n      <td>biochemistry</td>\n    </tr>\n    <tr>\n      <th>954</th>\n      <td>LBXSGL</td>\n      <td>Glucose (mg/dL)</td>\n      <td>LBXSAL</td>\n      <td>Albumin (g/dL)</td>\n      <td>0.014984</td>\n      <td>0.072705</td>\n      <td>1.220322e-06</td>\n      <td>1.220322e-06</td>\n      <td>8613.0</td>\n      <td>Pure</td>\n      <td>biochemistry</td>\n    </tr>\n    <tr>\n      <th>959</th>\n      <td>LBXBCD</td>\n      <td>Cadmium (ug/L)</td>\n      <td>LBXSAL</td>\n      <td>Albumin (g/dL)</td>\n      <td>0.007350</td>\n      <td>0.054185</td>\n      <td>1.673600e-13</td>\n      <td>1.673600e-13</td>\n      <td>8602.0</td>\n      <td>Pure</td>\n      <td>heavy metals</td>\n    </tr>\n    <tr>\n      <th>986</th>\n      <td>FOLIC_ACID_mcg</td>\n      <td>FOLIC_ACID_mcg</td>\n      <td>LBXSAL</td>\n      <td>Albumin (g/dL)</td>\n      <td>0.005334</td>\n      <td>-0.028321</td>\n      <td>1.096946e-07</td>\n      <td>1.096946e-07</td>\n      <td>8520.0</td>\n      <td>Pure</td>\n      <td>supplement use</td>\n    </tr>\n    <tr>\n      <th>994</th>\n      <td>CALCIUM_mg</td>\n      <td>CALCIUM_mg</td>\n      <td>LBXSAL</td>\n      <td>Albumin (g/dL)</td>\n      <td>0.006393</td>\n      <td>-0.032100</td>\n      <td>5.141652e-07</td>\n      <td>5.141652e-07</td>\n      <td>8499.0</td>\n      <td>Pure</td>\n      <td>supplement use</td>\n    </tr>\n    <tr>\n      <th>999</th>\n      <td>VITAMIN_C_mg</td>\n      <td>VITAMIN_C_mg</td>\n      <td>LBXSAL</td>\n      <td>Albumin (g/dL)</td>\n      <td>0.004769</td>\n      <td>-0.030511</td>\n      <td>1.570343e-10</td>\n      <td>1.570343e-10</td>\n      <td>8541.0</td>\n      <td>Pure</td>\n      <td>supplement use</td>\n    </tr>\n    <tr>\n      <th>1022</th>\n      <td>COPPER_mg</td>\n      <td>COPPER_mg</td>\n      <td>LBXSAL</td>\n      <td>Albumin (g/dL)</td>\n      <td>0.003757</td>\n      <td>-0.021437</td>\n      <td>1.158511e-08</td>\n      <td>1.158511e-08</td>\n      <td>8571.0</td>\n      <td>Pure</td>\n      <td>supplement use</td>\n    </tr>\n    <tr>\n      <th>1056</th>\n      <td>LBXVIE</td>\n      <td>Vitamin E (ug/dL)</td>\n      <td>LBXSAL</td>\n      <td>Albumin (g/dL)</td>\n      <td>0.020616</td>\n      <td>-0.268407</td>\n      <td>9.500481e-39</td>\n      <td>9.500481e-39</td>\n      <td>8566.0</td>\n      <td>Pure</td>\n      <td>nutrients</td>\n    </tr>\n    <tr>\n      <th>1069</th>\n      <td>LBXLUZ</td>\n      <td>Lutein and zeaxanthin (ug/dL)</td>\n      <td>LBXSAL</td>\n      <td>Albumin (g/dL)</td>\n      <td>0.015789</td>\n      <td>-0.162485</td>\n      <td>7.761255e-25</td>\n      <td>7.761255e-25</td>\n      <td>6706.0</td>\n      <td>Pure</td>\n      <td>nutrients</td>\n    </tr>\n    <tr>\n      <th>1072</th>\n      <td>LBXVID</td>\n      <td>Vitamin D (ng/mL)</td>\n      <td>LBXSAL</td>\n      <td>Albumin (g/dL)</td>\n      <td>0.010208</td>\n      <td>-0.073083</td>\n      <td>8.087971e-13</td>\n      <td>8.087971e-13</td>\n      <td>6701.0</td>\n      <td>Pure</td>\n      <td>nutrients</td>\n    </tr>\n    <tr>\n      <th>1075</th>\n      <td>SMD410</td>\n      <td>Does anyone smoke in home?</td>\n      <td>LBXSAL</td>\n      <td>Albumin (g/dL)</td>\n      <td>0.002391</td>\n      <td>0.019182</td>\n      <td>1.037738e-15</td>\n      <td>1.037738e-15</td>\n      <td>8608.0</td>\n      <td>Pure</td>\n      <td>smoking family</td>\n    </tr>\n    <tr>\n      <th>1103</th>\n      <td>SMD100TR</td>\n      <td>FTC Tar Content</td>\n      <td>LBXSAL</td>\n      <td>Albumin (g/dL)</td>\n      <td>0.006358</td>\n      <td>0.040282</td>\n      <td>2.369908e-10</td>\n      <td>2.369908e-10</td>\n      <td>2924.0</td>\n      <td>Pure</td>\n      <td>smoking behavior</td>\n    </tr>\n    <tr>\n      <th>1109</th>\n      <td>LBXCOT</td>\n      <td>Cotinine (ng/mL)</td>\n      <td>LBXSAL</td>\n      <td>Albumin (g/dL)</td>\n      <td>0.003338</td>\n      <td>0.028845</td>\n      <td>5.505448e-18</td>\n      <td>5.505448e-18</td>\n      <td>8558.0</td>\n      <td>Pure</td>\n      <td>cotinine</td>\n    </tr>\n    <tr>\n      <th>1125</th>\n      <td>SMD075</td>\n      <td>How many years smoked this amount</td>\n      <td>LBXSAL</td>\n      <td>Albumin (g/dL)</td>\n      <td>0.004458</td>\n      <td>0.032402</td>\n      <td>3.631568e-13</td>\n      <td>3.631568e-13</td>\n      <td>2803.0</td>\n      <td>Pure</td>\n      <td>smoking behavior</td>\n    </tr>\n    <tr>\n      <th>1128</th>\n      <td>LBXTC</td>\n      <td>Total cholesterol (mg/dL)</td>\n      <td>LBXSAL</td>\n      <td>Albumin (g/dL)</td>\n      <td>0.011473</td>\n      <td>-0.108539</td>\n      <td>3.057195e-21</td>\n      <td>3.057195e-21</td>\n      <td>8605.0</td>\n      <td>Pure</td>\n      <td>biochemistry</td>\n    </tr>\n    <tr>\n      <th>1132</th>\n      <td>SMD100NI</td>\n      <td>FTC Nicotine Content</td>\n      <td>LBXSAL</td>\n      <td>Albumin (g/dL)</td>\n      <td>0.006063</td>\n      <td>0.036866</td>\n      <td>1.194323e-09</td>\n      <td>1.194323e-09</td>\n      <td>2922.0</td>\n      <td>Pure</td>\n      <td>smoking behavior</td>\n    </tr>\n    <tr>\n      <th>1135</th>\n      <td>SMD100CO</td>\n      <td>FTC Carbon Monoxide Content</td>\n      <td>LBXSAL</td>\n      <td>Albumin (g/dL)</td>\n      <td>0.006465</td>\n      <td>0.038138</td>\n      <td>3.663102e-09</td>\n      <td>3.663102e-09</td>\n      <td>2915.0</td>\n      <td>Pure</td>\n      <td>smoking behavior</td>\n    </tr>\n    <tr>\n      <th>1140</th>\n      <td>SMD090</td>\n      <td>Avg # cigarettes/day during past 30 days</td>\n      <td>LBXSAL</td>\n      <td>Albumin (g/dL)</td>\n      <td>0.004479</td>\n      <td>0.029387</td>\n      <td>5.331279e-11</td>\n      <td>5.331279e-11</td>\n      <td>3198.0</td>\n      <td>Pure</td>\n      <td>smoking behavior</td>\n    </tr>\n    <tr>\n      <th>1149</th>\n      <td>SMD080</td>\n      <td># days smoked cigs during past 30 days</td>\n      <td>LBXSAL</td>\n      <td>Albumin (g/dL)</td>\n      <td>0.003666</td>\n      <td>0.026438</td>\n      <td>5.495379e-13</td>\n      <td>5.495379e-13</td>\n      <td>3229.0</td>\n      <td>Pure</td>\n      <td>smoking behavior</td>\n    </tr>\n    <tr>\n      <th>1152</th>\n      <td>SMD070</td>\n      <td># cigarettes smoked per day now</td>\n      <td>LBXSAL</td>\n      <td>Albumin (g/dL)</td>\n      <td>0.004558</td>\n      <td>0.031921</td>\n      <td>2.495611e-12</td>\n      <td>2.495611e-12</td>\n      <td>2814.0</td>\n      <td>Pure</td>\n      <td>smoking behavior</td>\n    </tr>\n    <tr>\n      <th>2745</th>\n      <td>LBXBPB</td>\n      <td>Lead (ug/dL)</td>\n      <td>LBXBAP</td>\n      <td>Bone alkaline phosphotase (ug/L)</td>\n      <td>0.011475</td>\n      <td>0.016335</td>\n      <td>1.545857e-01</td>\n      <td>1.545857e-01</td>\n      <td>5352.0</td>\n      <td>Pure</td>\n      <td>heavy metals</td>\n    </tr>\n    <tr>\n      <th>2829</th>\n      <td>URXUPT</td>\n      <td>Platinum, urine (ng/mL)</td>\n      <td>LBXBAP</td>\n      <td>Bone alkaline phosphotase (ug/L)</td>\n      <td>0.027957</td>\n      <td>0.428515</td>\n      <td>5.017010e-53</td>\n      <td>5.017010e-53</td>\n      <td>1769.0</td>\n      <td>Pure</td>\n      <td>heavy metals</td>\n    </tr>\n    <tr>\n      <th>4295</th>\n      <td>SMD410</td>\n      <td>Does anyone smoke in home?</td>\n      <td>LBDHDL</td>\n      <td>Direct HDL-Cholesterol (mg/dL)</td>\n      <td>0.003480</td>\n      <td>-0.003124</td>\n      <td>3.693634e-01</td>\n      <td>3.693634e-01</td>\n      <td>6358.0</td>\n      <td>Pure</td>\n      <td>smoking family</td>\n    </tr>\n    <tr>\n      <th>4506</th>\n      <td>LBXBPB</td>\n      <td>Lead (ug/dL)</td>\n      <td>LBDHDL</td>\n      <td>Direct HDL-Cholesterol (mg/dL)</td>\n      <td>0.014753</td>\n      <td>0.086371</td>\n      <td>4.780498e-09</td>\n      <td>4.780498e-09</td>\n      <td>6356.0</td>\n      <td>Pure</td>\n      <td>heavy metals</td>\n    </tr>\n    <tr>\n      <th>5357</th>\n      <td>LBXVIA</td>\n      <td>Vitamin A (ug/dL)</td>\n      <td>LBXSGB</td>\n      <td>Globulin (g/dL)</td>\n      <td>0.030076</td>\n      <td>-0.296996</td>\n      <td>5.351145e-23</td>\n      <td>5.351145e-23</td>\n      <td>8566.0</td>\n      <td>Pure</td>\n      <td>nutrients</td>\n    </tr>\n    <tr>\n      <th>6141</th>\n      <td>URXP14</td>\n      <td>3-benzo[c] phenanthrene (ng/L)</td>\n      <td>LBXHCY</td>\n      <td>Homocysteine (umol/L)</td>\n      <td>0.017142</td>\n      <td>0.016594</td>\n      <td>3.330292e-01</td>\n      <td>3.330292e-01</td>\n      <td>1946.0</td>\n      <td>Pure</td>\n      <td>hydrocarbons</td>\n    </tr>\n    <tr>\n      <th>6169</th>\n      <td>LBXVST</td>\n      <td>Blood Styrene (ng/mL)</td>\n      <td>LBXHCY</td>\n      <td>Homocysteine (umol/L)</td>\n      <td>0.015092</td>\n      <td>0.019999</td>\n      <td>1.851339e-01</td>\n      <td>1.851339e-01</td>\n      <td>2076.0</td>\n      <td>Pure</td>\n      <td>volatile compounds</td>\n    </tr>\n    <tr>\n      <th>7034</th>\n      <td>LBXBPB</td>\n      <td>Lead (ug/dL)</td>\n      <td>LBXSOSSI</td>\n      <td>Osmolality (mOsml/L)</td>\n      <td>0.005175</td>\n      <td>-0.032215</td>\n      <td>4.827693e-10</td>\n      <td>4.827693e-10</td>\n      <td>8601.0</td>\n      <td>Pure</td>\n      <td>heavy metals</td>\n    </tr>\n    <tr>\n      <th>7146</th>\n      <td>LBXRBF</td>\n      <td>Folate, RBC (ng/mL RBC)</td>\n      <td>LBXSOSSI</td>\n      <td>Osmolality (mOsml/L)</td>\n      <td>0.008318</td>\n      <td>0.041772</td>\n      <td>5.115676e-07</td>\n      <td>5.115676e-07</td>\n      <td>8575.0</td>\n      <td>Pure</td>\n      <td>nutrients</td>\n    </tr>\n    <tr>\n      <th>8385</th>\n      <td>LBXRBF</td>\n      <td>Folate, RBC (ng/mL RBC)</td>\n      <td>LBXSTB</td>\n      <td>Bilirubin, total (mg/dL)</td>\n      <td>0.011564</td>\n      <td>0.083277</td>\n      <td>5.964720e-13</td>\n      <td>5.964720e-13</td>\n      <td>8571.0</td>\n      <td>Pure</td>\n      <td>nutrients</td>\n    </tr>\n    <tr>\n      <th>9682</th>\n      <td>any_diabetes</td>\n      <td>Any Diabetes (FBG &gt;= 126 mg/dL or self-report)</td>\n      <td>LBXSUA</td>\n      <td>Uric acid (mg/dL)</td>\n      <td>0.002966</td>\n      <td>-0.016096</td>\n      <td>5.745465e-08</td>\n      <td>5.745465e-08</td>\n      <td>8544.0</td>\n      <td>Pure</td>\n      <td>disease</td>\n    </tr>\n    <tr>\n      <th>9684</th>\n      <td>LBXSGL</td>\n      <td>Glucose (mg/dL)</td>\n      <td>LBXSUA</td>\n      <td>Uric acid (mg/dL)</td>\n      <td>0.011324</td>\n      <td>-0.075025</td>\n      <td>3.461763e-11</td>\n      <td>3.461763e-11</td>\n      <td>8611.0</td>\n      <td>Pure</td>\n      <td>biochemistry</td>\n    </tr>\n    <tr>\n      <th>10999</th>\n      <td>URXUCO</td>\n      <td>Cobalt, urine (ng/mL)</td>\n      <td>LBXHCT</td>\n      <td>Hematocrit (%)</td>\n      <td>0.028337</td>\n      <td>0.013814</td>\n      <td>6.259137e-01</td>\n      <td>6.259137e-01</td>\n      <td>2877.0</td>\n      <td>Pure</td>\n      <td>heavy metals</td>\n    </tr>\n    <tr>\n      <th>11300</th>\n      <td>URXUCO</td>\n      <td>Cobalt, urine (ng/mL)</td>\n      <td>LBXHGB</td>\n      <td>Hemoglobin (g/dL)</td>\n      <td>0.026720</td>\n      <td>-0.004744</td>\n      <td>8.590880e-01</td>\n      <td>8.590880e-01</td>\n      <td>2877.0</td>\n      <td>Pure</td>\n      <td>heavy metals</td>\n    </tr>\n    <tr>\n      <th>11608</th>\n      <td>LBXVIA</td>\n      <td>Vitamin A (ug/dL)</td>\n      <td>LBDLYMNO</td>\n      <td>Lymphocyte number</td>\n      <td>0.022089</td>\n      <td>-0.008336</td>\n      <td>7.058871e-01</td>\n      <td>7.058871e-01</td>\n      <td>8575.0</td>\n      <td>Pure</td>\n      <td>nutrients</td>\n    </tr>\n    <tr>\n      <th>12202</th>\n      <td>MDIS</td>\n      <td>mean diastolic</td>\n      <td>LBXLYPCT</td>\n      <td>Lymphocyte percent (%)</td>\n      <td>0.030791</td>\n      <td>-0.017764</td>\n      <td>5.639904e-01</td>\n      <td>5.639904e-01</td>\n      <td>6995.0</td>\n      <td>Pure</td>\n      <td>blood pressure</td>\n    </tr>\n    <tr>\n      <th>12205</th>\n      <td>URXP11</td>\n      <td>2-benzo[c] phenanthrene (ng/L)</td>\n      <td>LBXLYPCT</td>\n      <td>Lymphocyte percent (%)</td>\n      <td>0.031134</td>\n      <td>0.056463</td>\n      <td>6.974654e-02</td>\n      <td>6.974654e-02</td>\n      <td>1942.0</td>\n      <td>Pure</td>\n      <td>hydrocarbons</td>\n    </tr>\n    <tr>\n      <th>14042</th>\n      <td>LBXCOT</td>\n      <td>Cotinine (ng/mL)</td>\n      <td>LBXRBCSI</td>\n      <td>Red cell count SI</td>\n      <td>0.003598</td>\n      <td>-0.006468</td>\n      <td>7.226108e-02</td>\n      <td>7.226108e-02</td>\n      <td>8577.0</td>\n      <td>Pure</td>\n      <td>cotinine</td>\n    </tr>\n    <tr>\n      <th>14947</th>\n      <td>MDIS</td>\n      <td>mean diastolic</td>\n      <td>LBXNEPCT</td>\n      <td>Segmented neutrophils percent (%)</td>\n      <td>0.035109</td>\n      <td>0.006907</td>\n      <td>8.440499e-01</td>\n      <td>8.440499e-01</td>\n      <td>6995.0</td>\n      <td>Pure</td>\n      <td>blood pressure</td>\n    </tr>\n  </tbody>\n</table>\n</div>"
     },
     "metadata": {},
     "execution_count": 12
    }
   ],
   "source": [
    "final_results.results[5][bool_pure]"
   ]
  },
  {
   "source": [
    "### Pure differences in females"
   ],
   "cell_type": "markdown",
   "metadata": {}
  },
  {
   "cell_type": "code",
   "execution_count": 13,
   "metadata": {},
   "outputs": [
    {
     "output_type": "execute_result",
     "data": {
      "text/plain": [
       "Variable_Category\n",
       "heavy metals          3\n",
       "hydrocarbons          2\n",
       "blood pressure        2\n",
       "volatile compounds    1\n",
       "smoking family        1\n",
       "nutrients             1\n",
       "cotinine              1\n",
       "biochemistry          1\n",
       "dtype: int64"
      ]
     },
     "metadata": {},
     "execution_count": 13
    }
   ],
   "source": [
    "final_results.results[4][bool_pure][abs(betas_pure_females) > abs(betas_pure_males)].value_counts('Variable_Category')"
   ]
  },
  {
   "cell_type": "code",
   "execution_count": 14,
   "metadata": {},
   "outputs": [
    {
     "output_type": "execute_result",
     "data": {
      "text/plain": [
       "Variable_Name\n",
       "mean diastolic                    2\n",
       "Cobalt, urine (ng/mL)             2\n",
       "Vitamin A (ug/dL)                 1\n",
       "Triglyceride (mg/dL)              1\n",
       "Lead (ug/dL)                      1\n",
       "Does anyone smoke in home?        1\n",
       "Cotinine (ng/mL)                  1\n",
       "Blood Styrene (ng/mL)             1\n",
       "3-benzo[c] phenanthrene (ng/L)    1\n",
       "2-benzo[c] phenanthrene (ng/L)    1\n",
       "dtype: int64"
      ]
     },
     "metadata": {},
     "execution_count": 14
    }
   ],
   "source": [
    "final_results.results[4][bool_pure][abs(betas_pure_females) > abs(betas_pure_males)].value_counts('Variable_Name')"
   ]
  },
  {
   "cell_type": "code",
   "execution_count": 15,
   "metadata": {},
   "outputs": [
    {
     "output_type": "execute_result",
     "data": {
      "text/plain": [
       "Phenotype_Name\n",
       "Lymphocyte percent (%)               2\n",
       "Homocysteine (umol/L)                2\n",
       "Segmented neutrophils percent (%)    1\n",
       "Red cell count SI                    1\n",
       "Lymphocyte number                    1\n",
       "Hemoglobin (g/dL)                    1\n",
       "Hematocrit (%)                       1\n",
       "Direct HDL-Cholesterol (mg/dL)       1\n",
       "Bone alkaline phosphotase (ug/L)     1\n",
       "Albumin (g/dL)                       1\n",
       "dtype: int64"
      ]
     },
     "metadata": {},
     "execution_count": 15
    }
   ],
   "source": [
    "final_results.results[4][bool_pure][abs(betas_pure_females) > abs(betas_pure_males)].value_counts('Phenotype_Name')"
   ]
  },
  {
   "source": [
    "### Pure differences in males"
   ],
   "cell_type": "markdown",
   "metadata": {}
  },
  {
   "cell_type": "code",
   "execution_count": 16,
   "metadata": {},
   "outputs": [
    {
     "output_type": "execute_result",
     "data": {
      "text/plain": [
       "Variable_Category\n",
       "smoking behavior    7\n",
       "nutrients           6\n",
       "supplement use      4\n",
       "heavy metals        4\n",
       "biochemistry        3\n",
       "smoking family      1\n",
       "disease             1\n",
       "cotinine            1\n",
       "dtype: int64"
      ]
     },
     "metadata": {},
     "execution_count": 16
    }
   ],
   "source": [
    "final_results.results[4][bool_pure][abs(betas_pure_females) < abs(betas_pure_males)].value_counts('Variable_Category')"
   ]
  },
  {
   "cell_type": "code",
   "execution_count": 17,
   "metadata": {},
   "outputs": [
    {
     "output_type": "execute_result",
     "data": {
      "text/plain": [
       "Variable_Name\n",
       "Lead (ug/dL)                                      2\n",
       "Glucose (mg/dL)                                   2\n",
       "Folate, RBC (ng/mL RBC)                           2\n",
       "Vitamin E (ug/dL)                                 1\n",
       "FOLIC_ACID_mcg                                    1\n",
       "# days smoked cigs during past 30 days            1\n",
       "Any Diabetes (FBG >= 126 mg/dL or self-report)    1\n",
       "Avg # cigarettes/day during past 30 days          1\n",
       "CALCIUM_mg                                        1\n",
       "COPPER_mg                                         1\n",
       "Cadmium (ug/L)                                    1\n",
       "Cotinine (ng/mL)                                  1\n",
       "Does anyone smoke in home?                        1\n",
       "FTC Nicotine Content                              1\n",
       "FTC Carbon Monoxide Content                       1\n",
       "Vitamin D (ng/mL)                                 1\n",
       "FTC Tar Content                                   1\n",
       "How many years smoked this amount                 1\n",
       "Lutein and zeaxanthin (ug/dL)                     1\n",
       "Platinum, urine (ng/mL)                           1\n",
       "Total cholesterol (mg/dL)                         1\n",
       "VITAMIN_C_mg                                      1\n",
       "Vitamin A (ug/dL)                                 1\n",
       "# cigarettes smoked per day now                   1\n",
       "dtype: int64"
      ]
     },
     "metadata": {},
     "execution_count": 17
    }
   ],
   "source": [
    "final_results.results[4][bool_pure][abs(betas_pure_females) < abs(betas_pure_males)].value_counts('Variable_Name')"
   ]
  },
  {
   "cell_type": "code",
   "execution_count": 18,
   "metadata": {},
   "outputs": [
    {
     "output_type": "execute_result",
     "data": {
      "text/plain": [
       "Phenotype_Name\n",
       "Albumin (g/dL)                      19\n",
       "Uric acid (mg/dL)                    2\n",
       "Osmolality (mOsml/L)                 2\n",
       "Globulin (g/dL)                      1\n",
       "Direct HDL-Cholesterol (mg/dL)       1\n",
       "Bone alkaline phosphotase (ug/L)     1\n",
       "Bilirubin, total (mg/dL)             1\n",
       "dtype: int64"
      ]
     },
     "metadata": {},
     "execution_count": 18
    }
   ],
   "source": [
    "final_results.results[4][bool_pure][abs(betas_pure_females) < abs(betas_pure_males)].value_counts('Phenotype_Name')"
   ]
  },
  {
   "source": [
    "## Quantitative differences"
   ],
   "cell_type": "markdown",
   "metadata": {}
  },
  {
   "cell_type": "code",
   "execution_count": 19,
   "metadata": {},
   "outputs": [
    {
     "output_type": "execute_result",
     "data": {
      "text/plain": [
       "Variable_Category\n",
       "smoking behavior    8\n",
       "nutrients           8\n",
       "heavy metals        6\n",
       "blood pressure      4\n",
       "cotinine            3\n",
       "biochemistry        3\n",
       "blood               2\n",
       "phthalates          1\n",
       "dtype: int64"
      ]
     },
     "metadata": {},
     "execution_count": 19
    }
   ],
   "source": [
    "bool_quant = final_results.results[7]['difference_type'] == 'Quantitative'\n",
    "final_results.results[4][bool_quant].value_counts('Variable_Category')"
   ]
  },
  {
   "cell_type": "code",
   "execution_count": 20,
   "metadata": {},
   "outputs": [
    {
     "output_type": "execute_result",
     "data": {
      "text/plain": [
       "Phenotype_Name\n",
       "Homocysteine (umol/L)               9\n",
       "Triglycerides (mg/dL)               4\n",
       "Albumin (g/dL)                      4\n",
       "GGT (U/L)                           3\n",
       "Segmented neutrophils number        2\n",
       "Red cell count SI                   2\n",
       "Hemoglobin (g/dL)                   2\n",
       "C-reactive protein(mg/dL)           2\n",
       "Red cell distribution width (%)     1\n",
       "Protein, total (g/dL)               1\n",
       "Hematocrit (%)                      1\n",
       "Creatinine, urine (mg/dL)           1\n",
       "Bone alkaline phosphotase (ug/L)    1\n",
       "Alkaline phosphotase (U/L)          1\n",
       "ALT (U/L)                           1\n",
       "dtype: int64"
      ]
     },
     "metadata": {},
     "execution_count": 20
    }
   ],
   "source": [
    "final_results.results[4][bool_quant].value_counts('Phenotype_Name')"
   ]
  },
  {
   "cell_type": "code",
   "execution_count": 21,
   "metadata": {},
   "outputs": [
    {
     "output_type": "stream",
     "name": "stdout",
     "text": [
      "From the quantitative differences, in 21 cases, females showed greater effects while in 14 cases, males showed greater ones\n"
     ]
    }
   ],
   "source": [
    "betas_quant_females = final_results.results[4].loc[bool_quant,'Beta']\n",
    "betas_quant_males   = final_results.results[5].loc[bool_quant,'Beta']\n",
    "\n",
    "females_greater = sum(abs(betas_quant_females) > abs(betas_quant_males))\n",
    "males_greater   = sum(abs(betas_quant_females) < abs(betas_quant_males))\n",
    "\n",
    "print('From the quantitative differences, in ' + str(females_greater) + ' cases, females showed greater effects while in ' + \n",
    "       str(males_greater) + ' cases, males showed greater ones')"
   ]
  },
  {
   "cell_type": "code",
   "execution_count": 22,
   "metadata": {},
   "outputs": [
    {
     "output_type": "execute_result",
     "data": {
      "text/plain": [
       "                Variable                             Variable_Name Phenotype  \\\n",
       "6                 URXMEP                      Mono-ethyl phthalate    URXUCR   \n",
       "684                LBXTC                 Total cholesterol (mg/dL)  LBXSATSI   \n",
       "915               LBXVIA                         Vitamin A (ug/dL)    LBXSAL   \n",
       "916                 MDIS                            mean diastolic    LBXSAL   \n",
       "934               LBXFOL                     Folate, serum (ng/mL)    LBXSAL   \n",
       "1014              LBXCRY                   b-Cryptoxanthin (ug/dL)    LBXSAL   \n",
       "1528              LBXBPB                              Lead (ug/dL)  LBXSAPSI   \n",
       "2746              LBXGTC                      g-Tocopherol (ug/dL)    LBXBAP   \n",
       "3356               LBXTR                      Triglyceride (mg/dL)    LBXCRP   \n",
       "3383              LBXBCD                            Cadmium (ug/L)    LBXCRP   \n",
       "4903               LBXTC                 Total cholesterol (mg/dL)  LBXSGTSI   \n",
       "4931                MSYS                             mean systolic  LBXSGTSI   \n",
       "5060               LBXMC                               MCHC (g/dL)  LBXSGTSI   \n",
       "6119              LBXVIE                         Vitamin E (ug/dL)    LBXHCY   \n",
       "6123              LBXCOT                          Cotinine (ng/mL)    LBXHCY   \n",
       "6132              SMD090  Avg # cigarettes/day during past 30 days    LBXHCY   \n",
       "6174              SMD070           # cigarettes smoked per day now    LBXHCY   \n",
       "6233            SMD100CO               FTC Carbon Monoxide Content    LBXHCY   \n",
       "6261              SMD080    # days smoked cigs during past 30 days    LBXHCY   \n",
       "6273            SMD100TR                           FTC Tar Content    LBXHCY   \n",
       "6290            SMD100NI                      FTC Nicotine Content    LBXHCY   \n",
       "6332              SMD075         How many years smoked this amount    LBXHCY   \n",
       "8845                MDIS                            mean diastolic    LBXSTP   \n",
       "9151              LBXVIE                         Vitamin E (ug/dL)    LBXSTR   \n",
       "9155              LBXGTC                      g-Tocopherol (ug/dL)    LBXSTR   \n",
       "9161              LBXRPL                 Retinyl Palmitate (ug/dL)    LBXSTR   \n",
       "9303                MDIS                            mean diastolic    LBXSTR   \n",
       "10983             LBXCOT                          Cotinine (ng/mL)    LBXHCT   \n",
       "11285             LBXBPB                              Lead (ug/dL)    LBXHGB   \n",
       "11288             LBXCOT                          Cotinine (ng/mL)    LBXHGB   \n",
       "14032             LBXBPB                              Lead (ug/dL)  LBXRBCSI   \n",
       "14034             LBXBCD                            Cadmium (ug/L)  LBXRBCSI   \n",
       "14335              LBXMC                               MCHC (g/dL)    LBXRDW   \n",
       "14645             LBXBCD                            Cadmium (ug/L)   LBDNENO   \n",
       "14648  cigarette_smoking                 Current Cigarette Smoker?   LBDNENO   \n",
       "\n",
       "                         Phenotype_Name        SE      Beta         pvalue  \\\n",
       "6             Creatinine, urine (mg/dL)  0.021007  0.561576  1.927391e-157   \n",
       "684                           ALT (U/L)  0.012602  0.024802   4.906322e-02   \n",
       "915                      Albumin (g/dL)  0.026321 -0.346684   1.279701e-39   \n",
       "916                      Albumin (g/dL)  0.025345  0.293093   6.259474e-31   \n",
       "934                      Albumin (g/dL)  0.014462 -0.095974   3.215486e-11   \n",
       "1014                     Albumin (g/dL)  0.012411 -0.047299   1.384582e-04   \n",
       "1528         Alkaline phosphotase (U/L)  0.008565  0.114636   7.543275e-41   \n",
       "2746   Bone alkaline phosphotase (ug/L)  0.013015  0.135203   2.811854e-25   \n",
       "3356          C-reactive protein(mg/dL)  0.031277  0.360332   1.036626e-30   \n",
       "3383          C-reactive protein(mg/dL)  0.009740  0.047000   1.397238e-06   \n",
       "4903                          GGT (U/L)  0.017088  0.079481   3.301385e-06   \n",
       "4931                          GGT (U/L)  0.014619  0.066036   6.269970e-06   \n",
       "5060                          GGT (U/L)  0.021823  0.050462   2.076289e-02   \n",
       "6119              Homocysteine (umol/L)  0.021094 -0.284098   2.415022e-41   \n",
       "6123              Homocysteine (umol/L)  0.003324  0.046033   1.270562e-43   \n",
       "6132              Homocysteine (umol/L)  0.004798  0.042755   5.062331e-19   \n",
       "6174              Homocysteine (umol/L)  0.004897  0.042223   6.517705e-18   \n",
       "6233              Homocysteine (umol/L)  0.006746  0.053264   2.896335e-15   \n",
       "6261              Homocysteine (umol/L)  0.004022  0.033018   2.228353e-16   \n",
       "6273              Homocysteine (umol/L)  0.007773  0.061081   3.913560e-15   \n",
       "6290              Homocysteine (umol/L)  0.007185  0.056589   3.388496e-15   \n",
       "6332              Homocysteine (umol/L)  0.004854  0.042541   1.875364e-18   \n",
       "8845              Protein, total (g/dL)  0.025030 -0.304512   4.710414e-34   \n",
       "9151              Triglycerides (mg/dL)  0.034861  0.854822  8.795757e-133   \n",
       "9155              Triglycerides (mg/dL)  0.016299  0.247130   6.296650e-52   \n",
       "9161              Triglycerides (mg/dL)  0.012972  0.201020   3.670148e-54   \n",
       "9303              Triglycerides (mg/dL)  0.037522 -0.120524   1.317784e-03   \n",
       "10983                    Hematocrit (%)  0.004368  0.057929   3.852049e-40   \n",
       "11285                 Hemoglobin (g/dL)  0.010424  0.149960   6.395192e-47   \n",
       "11288                 Hemoglobin (g/dL)  0.004402  0.057753   2.538354e-39   \n",
       "14032                 Red cell count SI  0.010393  0.131634   9.205009e-37   \n",
       "14034                 Red cell count SI  0.005636  0.069863   2.741153e-35   \n",
       "14335   Red cell distribution width (%)  0.037918 -0.614806   4.017774e-59   \n",
       "14645      Segmented neutrophils number  0.007569  0.068144   2.193639e-19   \n",
       "14648      Segmented neutrophils number  0.003318  0.017878   7.148071e-08   \n",
       "\n",
       "       Variable_pvalue       N difference_type Variable_Category  \n",
       "6        1.927391e-157  3187.0    Quantitative        phthalates  \n",
       "684       4.906322e-02  9205.0    Quantitative      biochemistry  \n",
       "915       1.279701e-39  9209.0    Quantitative         nutrients  \n",
       "916       6.259474e-31  7316.0    Quantitative    blood pressure  \n",
       "934       3.215486e-11  9223.0    Quantitative         nutrients  \n",
       "1014      1.384582e-04  7114.0    Quantitative         nutrients  \n",
       "1528      7.543275e-41  9238.0    Quantitative      heavy metals  \n",
       "2746      2.811854e-25  5518.0    Quantitative         nutrients  \n",
       "3356      1.036626e-30  4455.0    Quantitative      biochemistry  \n",
       "3383      1.397238e-06  9308.0    Quantitative      heavy metals  \n",
       "4903      3.301385e-06  9235.0    Quantitative      biochemistry  \n",
       "4931      6.269970e-06  7316.0    Quantitative    blood pressure  \n",
       "5060      2.076289e-02  9237.0    Quantitative             blood  \n",
       "6119      2.415022e-41  8972.0    Quantitative         nutrients  \n",
       "6123      1.270562e-43  8957.0    Quantitative          cotinine  \n",
       "6132      5.062331e-19  2806.0    Quantitative  smoking behavior  \n",
       "6174      6.517705e-18  2616.0    Quantitative  smoking behavior  \n",
       "6233      2.896335e-15  2643.0    Quantitative  smoking behavior  \n",
       "6261      2.228353e-16  2810.0    Quantitative  smoking behavior  \n",
       "6273      3.913560e-15  2650.0    Quantitative  smoking behavior  \n",
       "6290      3.388496e-15  2648.0    Quantitative  smoking behavior  \n",
       "6332      1.875364e-18  2609.0    Quantitative  smoking behavior  \n",
       "8845      4.710414e-34  7316.0    Quantitative    blood pressure  \n",
       "9151     8.795757e-133  9193.0    Quantitative         nutrients  \n",
       "9155      6.296650e-52  8901.0    Quantitative         nutrients  \n",
       "9161      3.670148e-54  8630.0    Quantitative         nutrients  \n",
       "9303      1.317784e-03  7316.0    Quantitative    blood pressure  \n",
       "10983     3.852049e-40  9206.0    Quantitative          cotinine  \n",
       "11285     6.395192e-47  9410.0    Quantitative      heavy metals  \n",
       "11288     2.538354e-39  9206.0    Quantitative          cotinine  \n",
       "14032     9.205009e-37  9410.0    Quantitative      heavy metals  \n",
       "14034     2.741153e-35  9410.0    Quantitative      heavy metals  \n",
       "14335     4.017774e-59  9425.0    Quantitative             blood  \n",
       "14645     2.193639e-19  9336.0    Quantitative      heavy metals  \n",
       "14648     7.148071e-08  4316.0    Quantitative  smoking behavior  "
      ],
      "text/html": "<div>\n<style scoped>\n    .dataframe tbody tr th:only-of-type {\n        vertical-align: middle;\n    }\n\n    .dataframe tbody tr th {\n        vertical-align: top;\n    }\n\n    .dataframe thead th {\n        text-align: right;\n    }\n</style>\n<table border=\"1\" class=\"dataframe\">\n  <thead>\n    <tr style=\"text-align: right;\">\n      <th></th>\n      <th>Variable</th>\n      <th>Variable_Name</th>\n      <th>Phenotype</th>\n      <th>Phenotype_Name</th>\n      <th>SE</th>\n      <th>Beta</th>\n      <th>pvalue</th>\n      <th>Variable_pvalue</th>\n      <th>N</th>\n      <th>difference_type</th>\n      <th>Variable_Category</th>\n    </tr>\n  </thead>\n  <tbody>\n    <tr>\n      <th>6</th>\n      <td>URXMEP</td>\n      <td>Mono-ethyl phthalate</td>\n      <td>URXUCR</td>\n      <td>Creatinine, urine (mg/dL)</td>\n      <td>0.021007</td>\n      <td>0.561576</td>\n      <td>1.927391e-157</td>\n      <td>1.927391e-157</td>\n      <td>3187.0</td>\n      <td>Quantitative</td>\n      <td>phthalates</td>\n    </tr>\n    <tr>\n      <th>684</th>\n      <td>LBXTC</td>\n      <td>Total cholesterol (mg/dL)</td>\n      <td>LBXSATSI</td>\n      <td>ALT (U/L)</td>\n      <td>0.012602</td>\n      <td>0.024802</td>\n      <td>4.906322e-02</td>\n      <td>4.906322e-02</td>\n      <td>9205.0</td>\n      <td>Quantitative</td>\n      <td>biochemistry</td>\n    </tr>\n    <tr>\n      <th>915</th>\n      <td>LBXVIA</td>\n      <td>Vitamin A (ug/dL)</td>\n      <td>LBXSAL</td>\n      <td>Albumin (g/dL)</td>\n      <td>0.026321</td>\n      <td>-0.346684</td>\n      <td>1.279701e-39</td>\n      <td>1.279701e-39</td>\n      <td>9209.0</td>\n      <td>Quantitative</td>\n      <td>nutrients</td>\n    </tr>\n    <tr>\n      <th>916</th>\n      <td>MDIS</td>\n      <td>mean diastolic</td>\n      <td>LBXSAL</td>\n      <td>Albumin (g/dL)</td>\n      <td>0.025345</td>\n      <td>0.293093</td>\n      <td>6.259474e-31</td>\n      <td>6.259474e-31</td>\n      <td>7316.0</td>\n      <td>Quantitative</td>\n      <td>blood pressure</td>\n    </tr>\n    <tr>\n      <th>934</th>\n      <td>LBXFOL</td>\n      <td>Folate, serum (ng/mL)</td>\n      <td>LBXSAL</td>\n      <td>Albumin (g/dL)</td>\n      <td>0.014462</td>\n      <td>-0.095974</td>\n      <td>3.215486e-11</td>\n      <td>3.215486e-11</td>\n      <td>9223.0</td>\n      <td>Quantitative</td>\n      <td>nutrients</td>\n    </tr>\n    <tr>\n      <th>1014</th>\n      <td>LBXCRY</td>\n      <td>b-Cryptoxanthin (ug/dL)</td>\n      <td>LBXSAL</td>\n      <td>Albumin (g/dL)</td>\n      <td>0.012411</td>\n      <td>-0.047299</td>\n      <td>1.384582e-04</td>\n      <td>1.384582e-04</td>\n      <td>7114.0</td>\n      <td>Quantitative</td>\n      <td>nutrients</td>\n    </tr>\n    <tr>\n      <th>1528</th>\n      <td>LBXBPB</td>\n      <td>Lead (ug/dL)</td>\n      <td>LBXSAPSI</td>\n      <td>Alkaline phosphotase (U/L)</td>\n      <td>0.008565</td>\n      <td>0.114636</td>\n      <td>7.543275e-41</td>\n      <td>7.543275e-41</td>\n      <td>9238.0</td>\n      <td>Quantitative</td>\n      <td>heavy metals</td>\n    </tr>\n    <tr>\n      <th>2746</th>\n      <td>LBXGTC</td>\n      <td>g-Tocopherol (ug/dL)</td>\n      <td>LBXBAP</td>\n      <td>Bone alkaline phosphotase (ug/L)</td>\n      <td>0.013015</td>\n      <td>0.135203</td>\n      <td>2.811854e-25</td>\n      <td>2.811854e-25</td>\n      <td>5518.0</td>\n      <td>Quantitative</td>\n      <td>nutrients</td>\n    </tr>\n    <tr>\n      <th>3356</th>\n      <td>LBXTR</td>\n      <td>Triglyceride (mg/dL)</td>\n      <td>LBXCRP</td>\n      <td>C-reactive protein(mg/dL)</td>\n      <td>0.031277</td>\n      <td>0.360332</td>\n      <td>1.036626e-30</td>\n      <td>1.036626e-30</td>\n      <td>4455.0</td>\n      <td>Quantitative</td>\n      <td>biochemistry</td>\n    </tr>\n    <tr>\n      <th>3383</th>\n      <td>LBXBCD</td>\n      <td>Cadmium (ug/L)</td>\n      <td>LBXCRP</td>\n      <td>C-reactive protein(mg/dL)</td>\n      <td>0.009740</td>\n      <td>0.047000</td>\n      <td>1.397238e-06</td>\n      <td>1.397238e-06</td>\n      <td>9308.0</td>\n      <td>Quantitative</td>\n      <td>heavy metals</td>\n    </tr>\n    <tr>\n      <th>4903</th>\n      <td>LBXTC</td>\n      <td>Total cholesterol (mg/dL)</td>\n      <td>LBXSGTSI</td>\n      <td>GGT (U/L)</td>\n      <td>0.017088</td>\n      <td>0.079481</td>\n      <td>3.301385e-06</td>\n      <td>3.301385e-06</td>\n      <td>9235.0</td>\n      <td>Quantitative</td>\n      <td>biochemistry</td>\n    </tr>\n    <tr>\n      <th>4931</th>\n      <td>MSYS</td>\n      <td>mean systolic</td>\n      <td>LBXSGTSI</td>\n      <td>GGT (U/L)</td>\n      <td>0.014619</td>\n      <td>0.066036</td>\n      <td>6.269970e-06</td>\n      <td>6.269970e-06</td>\n      <td>7316.0</td>\n      <td>Quantitative</td>\n      <td>blood pressure</td>\n    </tr>\n    <tr>\n      <th>5060</th>\n      <td>LBXMC</td>\n      <td>MCHC (g/dL)</td>\n      <td>LBXSGTSI</td>\n      <td>GGT (U/L)</td>\n      <td>0.021823</td>\n      <td>0.050462</td>\n      <td>2.076289e-02</td>\n      <td>2.076289e-02</td>\n      <td>9237.0</td>\n      <td>Quantitative</td>\n      <td>blood</td>\n    </tr>\n    <tr>\n      <th>6119</th>\n      <td>LBXVIE</td>\n      <td>Vitamin E (ug/dL)</td>\n      <td>LBXHCY</td>\n      <td>Homocysteine (umol/L)</td>\n      <td>0.021094</td>\n      <td>-0.284098</td>\n      <td>2.415022e-41</td>\n      <td>2.415022e-41</td>\n      <td>8972.0</td>\n      <td>Quantitative</td>\n      <td>nutrients</td>\n    </tr>\n    <tr>\n      <th>6123</th>\n      <td>LBXCOT</td>\n      <td>Cotinine (ng/mL)</td>\n      <td>LBXHCY</td>\n      <td>Homocysteine (umol/L)</td>\n      <td>0.003324</td>\n      <td>0.046033</td>\n      <td>1.270562e-43</td>\n      <td>1.270562e-43</td>\n      <td>8957.0</td>\n      <td>Quantitative</td>\n      <td>cotinine</td>\n    </tr>\n    <tr>\n      <th>6132</th>\n      <td>SMD090</td>\n      <td>Avg # cigarettes/day during past 30 days</td>\n      <td>LBXHCY</td>\n      <td>Homocysteine (umol/L)</td>\n      <td>0.004798</td>\n      <td>0.042755</td>\n      <td>5.062331e-19</td>\n      <td>5.062331e-19</td>\n      <td>2806.0</td>\n      <td>Quantitative</td>\n      <td>smoking behavior</td>\n    </tr>\n    <tr>\n      <th>6174</th>\n      <td>SMD070</td>\n      <td># cigarettes smoked per day now</td>\n      <td>LBXHCY</td>\n      <td>Homocysteine (umol/L)</td>\n      <td>0.004897</td>\n      <td>0.042223</td>\n      <td>6.517705e-18</td>\n      <td>6.517705e-18</td>\n      <td>2616.0</td>\n      <td>Quantitative</td>\n      <td>smoking behavior</td>\n    </tr>\n    <tr>\n      <th>6233</th>\n      <td>SMD100CO</td>\n      <td>FTC Carbon Monoxide Content</td>\n      <td>LBXHCY</td>\n      <td>Homocysteine (umol/L)</td>\n      <td>0.006746</td>\n      <td>0.053264</td>\n      <td>2.896335e-15</td>\n      <td>2.896335e-15</td>\n      <td>2643.0</td>\n      <td>Quantitative</td>\n      <td>smoking behavior</td>\n    </tr>\n    <tr>\n      <th>6261</th>\n      <td>SMD080</td>\n      <td># days smoked cigs during past 30 days</td>\n      <td>LBXHCY</td>\n      <td>Homocysteine (umol/L)</td>\n      <td>0.004022</td>\n      <td>0.033018</td>\n      <td>2.228353e-16</td>\n      <td>2.228353e-16</td>\n      <td>2810.0</td>\n      <td>Quantitative</td>\n      <td>smoking behavior</td>\n    </tr>\n    <tr>\n      <th>6273</th>\n      <td>SMD100TR</td>\n      <td>FTC Tar Content</td>\n      <td>LBXHCY</td>\n      <td>Homocysteine (umol/L)</td>\n      <td>0.007773</td>\n      <td>0.061081</td>\n      <td>3.913560e-15</td>\n      <td>3.913560e-15</td>\n      <td>2650.0</td>\n      <td>Quantitative</td>\n      <td>smoking behavior</td>\n    </tr>\n    <tr>\n      <th>6290</th>\n      <td>SMD100NI</td>\n      <td>FTC Nicotine Content</td>\n      <td>LBXHCY</td>\n      <td>Homocysteine (umol/L)</td>\n      <td>0.007185</td>\n      <td>0.056589</td>\n      <td>3.388496e-15</td>\n      <td>3.388496e-15</td>\n      <td>2648.0</td>\n      <td>Quantitative</td>\n      <td>smoking behavior</td>\n    </tr>\n    <tr>\n      <th>6332</th>\n      <td>SMD075</td>\n      <td>How many years smoked this amount</td>\n      <td>LBXHCY</td>\n      <td>Homocysteine (umol/L)</td>\n      <td>0.004854</td>\n      <td>0.042541</td>\n      <td>1.875364e-18</td>\n      <td>1.875364e-18</td>\n      <td>2609.0</td>\n      <td>Quantitative</td>\n      <td>smoking behavior</td>\n    </tr>\n    <tr>\n      <th>8845</th>\n      <td>MDIS</td>\n      <td>mean diastolic</td>\n      <td>LBXSTP</td>\n      <td>Protein, total (g/dL)</td>\n      <td>0.025030</td>\n      <td>-0.304512</td>\n      <td>4.710414e-34</td>\n      <td>4.710414e-34</td>\n      <td>7316.0</td>\n      <td>Quantitative</td>\n      <td>blood pressure</td>\n    </tr>\n    <tr>\n      <th>9151</th>\n      <td>LBXVIE</td>\n      <td>Vitamin E (ug/dL)</td>\n      <td>LBXSTR</td>\n      <td>Triglycerides (mg/dL)</td>\n      <td>0.034861</td>\n      <td>0.854822</td>\n      <td>8.795757e-133</td>\n      <td>8.795757e-133</td>\n      <td>9193.0</td>\n      <td>Quantitative</td>\n      <td>nutrients</td>\n    </tr>\n    <tr>\n      <th>9155</th>\n      <td>LBXGTC</td>\n      <td>g-Tocopherol (ug/dL)</td>\n      <td>LBXSTR</td>\n      <td>Triglycerides (mg/dL)</td>\n      <td>0.016299</td>\n      <td>0.247130</td>\n      <td>6.296650e-52</td>\n      <td>6.296650e-52</td>\n      <td>8901.0</td>\n      <td>Quantitative</td>\n      <td>nutrients</td>\n    </tr>\n    <tr>\n      <th>9161</th>\n      <td>LBXRPL</td>\n      <td>Retinyl Palmitate (ug/dL)</td>\n      <td>LBXSTR</td>\n      <td>Triglycerides (mg/dL)</td>\n      <td>0.012972</td>\n      <td>0.201020</td>\n      <td>3.670148e-54</td>\n      <td>3.670148e-54</td>\n      <td>8630.0</td>\n      <td>Quantitative</td>\n      <td>nutrients</td>\n    </tr>\n    <tr>\n      <th>9303</th>\n      <td>MDIS</td>\n      <td>mean diastolic</td>\n      <td>LBXSTR</td>\n      <td>Triglycerides (mg/dL)</td>\n      <td>0.037522</td>\n      <td>-0.120524</td>\n      <td>1.317784e-03</td>\n      <td>1.317784e-03</td>\n      <td>7316.0</td>\n      <td>Quantitative</td>\n      <td>blood pressure</td>\n    </tr>\n    <tr>\n      <th>10983</th>\n      <td>LBXCOT</td>\n      <td>Cotinine (ng/mL)</td>\n      <td>LBXHCT</td>\n      <td>Hematocrit (%)</td>\n      <td>0.004368</td>\n      <td>0.057929</td>\n      <td>3.852049e-40</td>\n      <td>3.852049e-40</td>\n      <td>9206.0</td>\n      <td>Quantitative</td>\n      <td>cotinine</td>\n    </tr>\n    <tr>\n      <th>11285</th>\n      <td>LBXBPB</td>\n      <td>Lead (ug/dL)</td>\n      <td>LBXHGB</td>\n      <td>Hemoglobin (g/dL)</td>\n      <td>0.010424</td>\n      <td>0.149960</td>\n      <td>6.395192e-47</td>\n      <td>6.395192e-47</td>\n      <td>9410.0</td>\n      <td>Quantitative</td>\n      <td>heavy metals</td>\n    </tr>\n    <tr>\n      <th>11288</th>\n      <td>LBXCOT</td>\n      <td>Cotinine (ng/mL)</td>\n      <td>LBXHGB</td>\n      <td>Hemoglobin (g/dL)</td>\n      <td>0.004402</td>\n      <td>0.057753</td>\n      <td>2.538354e-39</td>\n      <td>2.538354e-39</td>\n      <td>9206.0</td>\n      <td>Quantitative</td>\n      <td>cotinine</td>\n    </tr>\n    <tr>\n      <th>14032</th>\n      <td>LBXBPB</td>\n      <td>Lead (ug/dL)</td>\n      <td>LBXRBCSI</td>\n      <td>Red cell count SI</td>\n      <td>0.010393</td>\n      <td>0.131634</td>\n      <td>9.205009e-37</td>\n      <td>9.205009e-37</td>\n      <td>9410.0</td>\n      <td>Quantitative</td>\n      <td>heavy metals</td>\n    </tr>\n    <tr>\n      <th>14034</th>\n      <td>LBXBCD</td>\n      <td>Cadmium (ug/L)</td>\n      <td>LBXRBCSI</td>\n      <td>Red cell count SI</td>\n      <td>0.005636</td>\n      <td>0.069863</td>\n      <td>2.741153e-35</td>\n      <td>2.741153e-35</td>\n      <td>9410.0</td>\n      <td>Quantitative</td>\n      <td>heavy metals</td>\n    </tr>\n    <tr>\n      <th>14335</th>\n      <td>LBXMC</td>\n      <td>MCHC (g/dL)</td>\n      <td>LBXRDW</td>\n      <td>Red cell distribution width (%)</td>\n      <td>0.037918</td>\n      <td>-0.614806</td>\n      <td>4.017774e-59</td>\n      <td>4.017774e-59</td>\n      <td>9425.0</td>\n      <td>Quantitative</td>\n      <td>blood</td>\n    </tr>\n    <tr>\n      <th>14645</th>\n      <td>LBXBCD</td>\n      <td>Cadmium (ug/L)</td>\n      <td>LBDNENO</td>\n      <td>Segmented neutrophils number</td>\n      <td>0.007569</td>\n      <td>0.068144</td>\n      <td>2.193639e-19</td>\n      <td>2.193639e-19</td>\n      <td>9336.0</td>\n      <td>Quantitative</td>\n      <td>heavy metals</td>\n    </tr>\n    <tr>\n      <th>14648</th>\n      <td>cigarette_smoking</td>\n      <td>Current Cigarette Smoker?</td>\n      <td>LBDNENO</td>\n      <td>Segmented neutrophils number</td>\n      <td>0.003318</td>\n      <td>0.017878</td>\n      <td>7.148071e-08</td>\n      <td>7.148071e-08</td>\n      <td>4316.0</td>\n      <td>Quantitative</td>\n      <td>smoking behavior</td>\n    </tr>\n  </tbody>\n</table>\n</div>"
     },
     "metadata": {},
     "execution_count": 22
    }
   ],
   "source": [
    "final_results.results[4][bool_quant]"
   ]
  },
  {
   "cell_type": "code",
   "execution_count": 23,
   "metadata": {},
   "outputs": [
    {
     "output_type": "execute_result",
     "data": {
      "text/plain": [
       "                Variable                             Variable_Name Phenotype  \\\n",
       "6                 URXMEP                      Mono-ethyl phthalate    URXUCR   \n",
       "684                LBXTC                 Total cholesterol (mg/dL)  LBXSATSI   \n",
       "915               LBXVIA                         Vitamin A (ug/dL)    LBXSAL   \n",
       "916                 MDIS                            mean diastolic    LBXSAL   \n",
       "934               LBXFOL                     Folate, serum (ng/mL)    LBXSAL   \n",
       "1014              LBXCRY                   b-Cryptoxanthin (ug/dL)    LBXSAL   \n",
       "1528              LBXBPB                              Lead (ug/dL)  LBXSAPSI   \n",
       "2746              LBXGTC                      g-Tocopherol (ug/dL)    LBXBAP   \n",
       "3356               LBXTR                      Triglyceride (mg/dL)    LBXCRP   \n",
       "3383              LBXBCD                            Cadmium (ug/L)    LBXCRP   \n",
       "4903               LBXTC                 Total cholesterol (mg/dL)  LBXSGTSI   \n",
       "4931                MSYS                             mean systolic  LBXSGTSI   \n",
       "5060               LBXMC                               MCHC (g/dL)  LBXSGTSI   \n",
       "6119              LBXVIE                         Vitamin E (ug/dL)    LBXHCY   \n",
       "6123              LBXCOT                          Cotinine (ng/mL)    LBXHCY   \n",
       "6132              SMD090  Avg # cigarettes/day during past 30 days    LBXHCY   \n",
       "6174              SMD070           # cigarettes smoked per day now    LBXHCY   \n",
       "6233            SMD100CO               FTC Carbon Monoxide Content    LBXHCY   \n",
       "6261              SMD080    # days smoked cigs during past 30 days    LBXHCY   \n",
       "6273            SMD100TR                           FTC Tar Content    LBXHCY   \n",
       "6290            SMD100NI                      FTC Nicotine Content    LBXHCY   \n",
       "6332              SMD075         How many years smoked this amount    LBXHCY   \n",
       "8845                MDIS                            mean diastolic    LBXSTP   \n",
       "9151              LBXVIE                         Vitamin E (ug/dL)    LBXSTR   \n",
       "9155              LBXGTC                      g-Tocopherol (ug/dL)    LBXSTR   \n",
       "9161              LBXRPL                 Retinyl Palmitate (ug/dL)    LBXSTR   \n",
       "9303                MDIS                            mean diastolic    LBXSTR   \n",
       "10983             LBXCOT                          Cotinine (ng/mL)    LBXHCT   \n",
       "11285             LBXBPB                              Lead (ug/dL)    LBXHGB   \n",
       "11288             LBXCOT                          Cotinine (ng/mL)    LBXHGB   \n",
       "14032             LBXBPB                              Lead (ug/dL)  LBXRBCSI   \n",
       "14034             LBXBCD                            Cadmium (ug/L)  LBXRBCSI   \n",
       "14335              LBXMC                               MCHC (g/dL)    LBXRDW   \n",
       "14645             LBXBCD                            Cadmium (ug/L)   LBDNENO   \n",
       "14648  cigarette_smoking                 Current Cigarette Smoker?   LBDNENO   \n",
       "\n",
       "                         Phenotype_Name        SE      Beta         pvalue  \\\n",
       "6             Creatinine, urine (mg/dL)  0.020188  0.368259   2.432626e-74   \n",
       "684                           ALT (U/L)  0.010059  0.130149   2.709595e-38   \n",
       "915                      Albumin (g/dL)  0.033687 -0.626529   3.316148e-77   \n",
       "916                      Albumin (g/dL)  0.027778  0.072530   9.026206e-03   \n",
       "934                      Albumin (g/dL)  0.014404 -0.189054   2.356384e-39   \n",
       "1014                     Albumin (g/dL)  0.014798 -0.141333   1.288070e-21   \n",
       "1528         Alkaline phosphotase (U/L)  0.007354  0.032559   9.537671e-06   \n",
       "2746   Bone alkaline phosphotase (ug/L)  0.012109  0.055413   4.732337e-06   \n",
       "3356          C-reactive protein(mg/dL)  0.026258  0.076387   3.624621e-03   \n",
       "3383          C-reactive protein(mg/dL)  0.012269  0.127034   4.016716e-25   \n",
       "4903                          GGT (U/L)  0.014893  0.235302   3.149269e-56   \n",
       "4931                          GGT (U/L)  0.018355  0.170155   1.860537e-20   \n",
       "5060                          GGT (U/L)  0.027389  0.206280   5.014001e-14   \n",
       "6119              Homocysteine (umol/L)  0.020042 -0.152191   3.112368e-14   \n",
       "6123              Homocysteine (umol/L)  0.002854  0.021064   1.587262e-13   \n",
       "6132              Homocysteine (umol/L)  0.003761  0.008459   2.451394e-02   \n",
       "6174              Homocysteine (umol/L)  0.004009  0.007918   4.828652e-02   \n",
       "6233              Homocysteine (umol/L)  0.005119  0.012313   1.616327e-02   \n",
       "6261              Homocysteine (umol/L)  0.003208  0.006514   4.226689e-02   \n",
       "6273              Homocysteine (umol/L)  0.005812  0.013990   1.608779e-02   \n",
       "6290              Homocysteine (umol/L)  0.005279  0.013628   9.838661e-03   \n",
       "6332              Homocysteine (umol/L)  0.004117  0.008203   4.629757e-02   \n",
       "8845              Protein, total (g/dL)  0.023245 -0.124113   9.329832e-08   \n",
       "9151              Triglycerides (mg/dL)  0.035729  1.155978  1.229767e-229   \n",
       "9155              Triglycerides (mg/dL)  0.017762  0.420029  1.248295e-123   \n",
       "9161              Triglycerides (mg/dL)  0.010322  0.372086  1.399801e-284   \n",
       "9303              Triglycerides (mg/dL)  0.035828 -0.352876   6.903357e-23   \n",
       "10983                    Hematocrit (%)  0.003730  0.027603   1.360184e-13   \n",
       "11285                 Hemoglobin (g/dL)  0.010348  0.084238   3.943274e-16   \n",
       "11288                 Hemoglobin (g/dL)  0.003782  0.028464   5.240049e-14   \n",
       "14032                 Red cell count SI  0.010843  0.061946   1.108767e-08   \n",
       "14034                 Red cell count SI  0.005538  0.014270   9.972172e-03   \n",
       "14335   Red cell distribution width (%)  0.024811 -0.312637   2.093320e-36   \n",
       "14645      Segmented neutrophils number  0.007132  0.115559   4.813901e-59   \n",
       "14648      Segmented neutrophils number  0.002979  0.043644   1.351970e-48   \n",
       "\n",
       "       Variable_pvalue       N difference_type Variable_Category  \n",
       "6         2.432626e-74  2978.0    Quantitative        phthalates  \n",
       "684       2.709595e-38  8567.0    Quantitative      biochemistry  \n",
       "915       3.316148e-77  8582.0    Quantitative         nutrients  \n",
       "916       9.026206e-03  6944.0    Quantitative    blood pressure  \n",
       "934       2.356384e-39  8585.0    Quantitative         nutrients  \n",
       "1014      1.288070e-21  6675.0    Quantitative         nutrients  \n",
       "1528      9.537671e-06  8602.0    Quantitative      heavy metals  \n",
       "2746      4.732337e-06  5107.0    Quantitative         nutrients  \n",
       "3356      3.624621e-03  4258.0    Quantitative      biochemistry  \n",
       "3383      4.016716e-25  8647.0    Quantitative      heavy metals  \n",
       "4903      3.149269e-56  8603.0    Quantitative      biochemistry  \n",
       "4931      1.860537e-20  6942.0    Quantitative    blood pressure  \n",
       "5060      5.014001e-14  8600.0    Quantitative             blood  \n",
       "6119      3.112368e-14  8331.0    Quantitative         nutrients  \n",
       "6123      1.587262e-13  8329.0    Quantitative          cotinine  \n",
       "6132      2.451394e-02  3078.0    Quantitative  smoking behavior  \n",
       "6174      4.828652e-02  2740.0    Quantitative  smoking behavior  \n",
       "6233      1.616327e-02  2843.0    Quantitative  smoking behavior  \n",
       "6261      4.226689e-02  3088.0    Quantitative  smoking behavior  \n",
       "6273      1.608779e-02  2852.0    Quantitative  smoking behavior  \n",
       "6290      9.838661e-03  2850.0    Quantitative  smoking behavior  \n",
       "6332      4.629757e-02  2728.0    Quantitative  smoking behavior  \n",
       "8845      9.329832e-08  6932.0    Quantitative    blood pressure  \n",
       "9151     1.229767e-229  8563.0    Quantitative         nutrients  \n",
       "9155     1.248295e-123  8330.0    Quantitative         nutrients  \n",
       "9161     1.399801e-284  8034.0    Quantitative         nutrients  \n",
       "9303      6.903357e-23  6941.0    Quantitative    blood pressure  \n",
       "10983     1.360184e-13  8577.0    Quantitative          cotinine  \n",
       "11285     3.943274e-16  8691.0    Quantitative      heavy metals  \n",
       "11288     5.240049e-14  8577.0    Quantitative          cotinine  \n",
       "14032     1.108767e-08  8691.0    Quantitative      heavy metals  \n",
       "14034     9.972172e-03  8691.0    Quantitative      heavy metals  \n",
       "14335     2.093320e-36  8702.0    Quantitative             blood  \n",
       "14645     4.813901e-59  8668.0    Quantitative      heavy metals  \n",
       "14648     1.351970e-48  5226.0    Quantitative  smoking behavior  "
      ],
      "text/html": "<div>\n<style scoped>\n    .dataframe tbody tr th:only-of-type {\n        vertical-align: middle;\n    }\n\n    .dataframe tbody tr th {\n        vertical-align: top;\n    }\n\n    .dataframe thead th {\n        text-align: right;\n    }\n</style>\n<table border=\"1\" class=\"dataframe\">\n  <thead>\n    <tr style=\"text-align: right;\">\n      <th></th>\n      <th>Variable</th>\n      <th>Variable_Name</th>\n      <th>Phenotype</th>\n      <th>Phenotype_Name</th>\n      <th>SE</th>\n      <th>Beta</th>\n      <th>pvalue</th>\n      <th>Variable_pvalue</th>\n      <th>N</th>\n      <th>difference_type</th>\n      <th>Variable_Category</th>\n    </tr>\n  </thead>\n  <tbody>\n    <tr>\n      <th>6</th>\n      <td>URXMEP</td>\n      <td>Mono-ethyl phthalate</td>\n      <td>URXUCR</td>\n      <td>Creatinine, urine (mg/dL)</td>\n      <td>0.020188</td>\n      <td>0.368259</td>\n      <td>2.432626e-74</td>\n      <td>2.432626e-74</td>\n      <td>2978.0</td>\n      <td>Quantitative</td>\n      <td>phthalates</td>\n    </tr>\n    <tr>\n      <th>684</th>\n      <td>LBXTC</td>\n      <td>Total cholesterol (mg/dL)</td>\n      <td>LBXSATSI</td>\n      <td>ALT (U/L)</td>\n      <td>0.010059</td>\n      <td>0.130149</td>\n      <td>2.709595e-38</td>\n      <td>2.709595e-38</td>\n      <td>8567.0</td>\n      <td>Quantitative</td>\n      <td>biochemistry</td>\n    </tr>\n    <tr>\n      <th>915</th>\n      <td>LBXVIA</td>\n      <td>Vitamin A (ug/dL)</td>\n      <td>LBXSAL</td>\n      <td>Albumin (g/dL)</td>\n      <td>0.033687</td>\n      <td>-0.626529</td>\n      <td>3.316148e-77</td>\n      <td>3.316148e-77</td>\n      <td>8582.0</td>\n      <td>Quantitative</td>\n      <td>nutrients</td>\n    </tr>\n    <tr>\n      <th>916</th>\n      <td>MDIS</td>\n      <td>mean diastolic</td>\n      <td>LBXSAL</td>\n      <td>Albumin (g/dL)</td>\n      <td>0.027778</td>\n      <td>0.072530</td>\n      <td>9.026206e-03</td>\n      <td>9.026206e-03</td>\n      <td>6944.0</td>\n      <td>Quantitative</td>\n      <td>blood pressure</td>\n    </tr>\n    <tr>\n      <th>934</th>\n      <td>LBXFOL</td>\n      <td>Folate, serum (ng/mL)</td>\n      <td>LBXSAL</td>\n      <td>Albumin (g/dL)</td>\n      <td>0.014404</td>\n      <td>-0.189054</td>\n      <td>2.356384e-39</td>\n      <td>2.356384e-39</td>\n      <td>8585.0</td>\n      <td>Quantitative</td>\n      <td>nutrients</td>\n    </tr>\n    <tr>\n      <th>1014</th>\n      <td>LBXCRY</td>\n      <td>b-Cryptoxanthin (ug/dL)</td>\n      <td>LBXSAL</td>\n      <td>Albumin (g/dL)</td>\n      <td>0.014798</td>\n      <td>-0.141333</td>\n      <td>1.288070e-21</td>\n      <td>1.288070e-21</td>\n      <td>6675.0</td>\n      <td>Quantitative</td>\n      <td>nutrients</td>\n    </tr>\n    <tr>\n      <th>1528</th>\n      <td>LBXBPB</td>\n      <td>Lead (ug/dL)</td>\n      <td>LBXSAPSI</td>\n      <td>Alkaline phosphotase (U/L)</td>\n      <td>0.007354</td>\n      <td>0.032559</td>\n      <td>9.537671e-06</td>\n      <td>9.537671e-06</td>\n      <td>8602.0</td>\n      <td>Quantitative</td>\n      <td>heavy metals</td>\n    </tr>\n    <tr>\n      <th>2746</th>\n      <td>LBXGTC</td>\n      <td>g-Tocopherol (ug/dL)</td>\n      <td>LBXBAP</td>\n      <td>Bone alkaline phosphotase (ug/L)</td>\n      <td>0.012109</td>\n      <td>0.055413</td>\n      <td>4.732337e-06</td>\n      <td>4.732337e-06</td>\n      <td>5107.0</td>\n      <td>Quantitative</td>\n      <td>nutrients</td>\n    </tr>\n    <tr>\n      <th>3356</th>\n      <td>LBXTR</td>\n      <td>Triglyceride (mg/dL)</td>\n      <td>LBXCRP</td>\n      <td>C-reactive protein(mg/dL)</td>\n      <td>0.026258</td>\n      <td>0.076387</td>\n      <td>3.624621e-03</td>\n      <td>3.624621e-03</td>\n      <td>4258.0</td>\n      <td>Quantitative</td>\n      <td>biochemistry</td>\n    </tr>\n    <tr>\n      <th>3383</th>\n      <td>LBXBCD</td>\n      <td>Cadmium (ug/L)</td>\n      <td>LBXCRP</td>\n      <td>C-reactive protein(mg/dL)</td>\n      <td>0.012269</td>\n      <td>0.127034</td>\n      <td>4.016716e-25</td>\n      <td>4.016716e-25</td>\n      <td>8647.0</td>\n      <td>Quantitative</td>\n      <td>heavy metals</td>\n    </tr>\n    <tr>\n      <th>4903</th>\n      <td>LBXTC</td>\n      <td>Total cholesterol (mg/dL)</td>\n      <td>LBXSGTSI</td>\n      <td>GGT (U/L)</td>\n      <td>0.014893</td>\n      <td>0.235302</td>\n      <td>3.149269e-56</td>\n      <td>3.149269e-56</td>\n      <td>8603.0</td>\n      <td>Quantitative</td>\n      <td>biochemistry</td>\n    </tr>\n    <tr>\n      <th>4931</th>\n      <td>MSYS</td>\n      <td>mean systolic</td>\n      <td>LBXSGTSI</td>\n      <td>GGT (U/L)</td>\n      <td>0.018355</td>\n      <td>0.170155</td>\n      <td>1.860537e-20</td>\n      <td>1.860537e-20</td>\n      <td>6942.0</td>\n      <td>Quantitative</td>\n      <td>blood pressure</td>\n    </tr>\n    <tr>\n      <th>5060</th>\n      <td>LBXMC</td>\n      <td>MCHC (g/dL)</td>\n      <td>LBXSGTSI</td>\n      <td>GGT (U/L)</td>\n      <td>0.027389</td>\n      <td>0.206280</td>\n      <td>5.014001e-14</td>\n      <td>5.014001e-14</td>\n      <td>8600.0</td>\n      <td>Quantitative</td>\n      <td>blood</td>\n    </tr>\n    <tr>\n      <th>6119</th>\n      <td>LBXVIE</td>\n      <td>Vitamin E (ug/dL)</td>\n      <td>LBXHCY</td>\n      <td>Homocysteine (umol/L)</td>\n      <td>0.020042</td>\n      <td>-0.152191</td>\n      <td>3.112368e-14</td>\n      <td>3.112368e-14</td>\n      <td>8331.0</td>\n      <td>Quantitative</td>\n      <td>nutrients</td>\n    </tr>\n    <tr>\n      <th>6123</th>\n      <td>LBXCOT</td>\n      <td>Cotinine (ng/mL)</td>\n      <td>LBXHCY</td>\n      <td>Homocysteine (umol/L)</td>\n      <td>0.002854</td>\n      <td>0.021064</td>\n      <td>1.587262e-13</td>\n      <td>1.587262e-13</td>\n      <td>8329.0</td>\n      <td>Quantitative</td>\n      <td>cotinine</td>\n    </tr>\n    <tr>\n      <th>6132</th>\n      <td>SMD090</td>\n      <td>Avg # cigarettes/day during past 30 days</td>\n      <td>LBXHCY</td>\n      <td>Homocysteine (umol/L)</td>\n      <td>0.003761</td>\n      <td>0.008459</td>\n      <td>2.451394e-02</td>\n      <td>2.451394e-02</td>\n      <td>3078.0</td>\n      <td>Quantitative</td>\n      <td>smoking behavior</td>\n    </tr>\n    <tr>\n      <th>6174</th>\n      <td>SMD070</td>\n      <td># cigarettes smoked per day now</td>\n      <td>LBXHCY</td>\n      <td>Homocysteine (umol/L)</td>\n      <td>0.004009</td>\n      <td>0.007918</td>\n      <td>4.828652e-02</td>\n      <td>4.828652e-02</td>\n      <td>2740.0</td>\n      <td>Quantitative</td>\n      <td>smoking behavior</td>\n    </tr>\n    <tr>\n      <th>6233</th>\n      <td>SMD100CO</td>\n      <td>FTC Carbon Monoxide Content</td>\n      <td>LBXHCY</td>\n      <td>Homocysteine (umol/L)</td>\n      <td>0.005119</td>\n      <td>0.012313</td>\n      <td>1.616327e-02</td>\n      <td>1.616327e-02</td>\n      <td>2843.0</td>\n      <td>Quantitative</td>\n      <td>smoking behavior</td>\n    </tr>\n    <tr>\n      <th>6261</th>\n      <td>SMD080</td>\n      <td># days smoked cigs during past 30 days</td>\n      <td>LBXHCY</td>\n      <td>Homocysteine (umol/L)</td>\n      <td>0.003208</td>\n      <td>0.006514</td>\n      <td>4.226689e-02</td>\n      <td>4.226689e-02</td>\n      <td>3088.0</td>\n      <td>Quantitative</td>\n      <td>smoking behavior</td>\n    </tr>\n    <tr>\n      <th>6273</th>\n      <td>SMD100TR</td>\n      <td>FTC Tar Content</td>\n      <td>LBXHCY</td>\n      <td>Homocysteine (umol/L)</td>\n      <td>0.005812</td>\n      <td>0.013990</td>\n      <td>1.608779e-02</td>\n      <td>1.608779e-02</td>\n      <td>2852.0</td>\n      <td>Quantitative</td>\n      <td>smoking behavior</td>\n    </tr>\n    <tr>\n      <th>6290</th>\n      <td>SMD100NI</td>\n      <td>FTC Nicotine Content</td>\n      <td>LBXHCY</td>\n      <td>Homocysteine (umol/L)</td>\n      <td>0.005279</td>\n      <td>0.013628</td>\n      <td>9.838661e-03</td>\n      <td>9.838661e-03</td>\n      <td>2850.0</td>\n      <td>Quantitative</td>\n      <td>smoking behavior</td>\n    </tr>\n    <tr>\n      <th>6332</th>\n      <td>SMD075</td>\n      <td>How many years smoked this amount</td>\n      <td>LBXHCY</td>\n      <td>Homocysteine (umol/L)</td>\n      <td>0.004117</td>\n      <td>0.008203</td>\n      <td>4.629757e-02</td>\n      <td>4.629757e-02</td>\n      <td>2728.0</td>\n      <td>Quantitative</td>\n      <td>smoking behavior</td>\n    </tr>\n    <tr>\n      <th>8845</th>\n      <td>MDIS</td>\n      <td>mean diastolic</td>\n      <td>LBXSTP</td>\n      <td>Protein, total (g/dL)</td>\n      <td>0.023245</td>\n      <td>-0.124113</td>\n      <td>9.329832e-08</td>\n      <td>9.329832e-08</td>\n      <td>6932.0</td>\n      <td>Quantitative</td>\n      <td>blood pressure</td>\n    </tr>\n    <tr>\n      <th>9151</th>\n      <td>LBXVIE</td>\n      <td>Vitamin E (ug/dL)</td>\n      <td>LBXSTR</td>\n      <td>Triglycerides (mg/dL)</td>\n      <td>0.035729</td>\n      <td>1.155978</td>\n      <td>1.229767e-229</td>\n      <td>1.229767e-229</td>\n      <td>8563.0</td>\n      <td>Quantitative</td>\n      <td>nutrients</td>\n    </tr>\n    <tr>\n      <th>9155</th>\n      <td>LBXGTC</td>\n      <td>g-Tocopherol (ug/dL)</td>\n      <td>LBXSTR</td>\n      <td>Triglycerides (mg/dL)</td>\n      <td>0.017762</td>\n      <td>0.420029</td>\n      <td>1.248295e-123</td>\n      <td>1.248295e-123</td>\n      <td>8330.0</td>\n      <td>Quantitative</td>\n      <td>nutrients</td>\n    </tr>\n    <tr>\n      <th>9161</th>\n      <td>LBXRPL</td>\n      <td>Retinyl Palmitate (ug/dL)</td>\n      <td>LBXSTR</td>\n      <td>Triglycerides (mg/dL)</td>\n      <td>0.010322</td>\n      <td>0.372086</td>\n      <td>1.399801e-284</td>\n      <td>1.399801e-284</td>\n      <td>8034.0</td>\n      <td>Quantitative</td>\n      <td>nutrients</td>\n    </tr>\n    <tr>\n      <th>9303</th>\n      <td>MDIS</td>\n      <td>mean diastolic</td>\n      <td>LBXSTR</td>\n      <td>Triglycerides (mg/dL)</td>\n      <td>0.035828</td>\n      <td>-0.352876</td>\n      <td>6.903357e-23</td>\n      <td>6.903357e-23</td>\n      <td>6941.0</td>\n      <td>Quantitative</td>\n      <td>blood pressure</td>\n    </tr>\n    <tr>\n      <th>10983</th>\n      <td>LBXCOT</td>\n      <td>Cotinine (ng/mL)</td>\n      <td>LBXHCT</td>\n      <td>Hematocrit (%)</td>\n      <td>0.003730</td>\n      <td>0.027603</td>\n      <td>1.360184e-13</td>\n      <td>1.360184e-13</td>\n      <td>8577.0</td>\n      <td>Quantitative</td>\n      <td>cotinine</td>\n    </tr>\n    <tr>\n      <th>11285</th>\n      <td>LBXBPB</td>\n      <td>Lead (ug/dL)</td>\n      <td>LBXHGB</td>\n      <td>Hemoglobin (g/dL)</td>\n      <td>0.010348</td>\n      <td>0.084238</td>\n      <td>3.943274e-16</td>\n      <td>3.943274e-16</td>\n      <td>8691.0</td>\n      <td>Quantitative</td>\n      <td>heavy metals</td>\n    </tr>\n    <tr>\n      <th>11288</th>\n      <td>LBXCOT</td>\n      <td>Cotinine (ng/mL)</td>\n      <td>LBXHGB</td>\n      <td>Hemoglobin (g/dL)</td>\n      <td>0.003782</td>\n      <td>0.028464</td>\n      <td>5.240049e-14</td>\n      <td>5.240049e-14</td>\n      <td>8577.0</td>\n      <td>Quantitative</td>\n      <td>cotinine</td>\n    </tr>\n    <tr>\n      <th>14032</th>\n      <td>LBXBPB</td>\n      <td>Lead (ug/dL)</td>\n      <td>LBXRBCSI</td>\n      <td>Red cell count SI</td>\n      <td>0.010843</td>\n      <td>0.061946</td>\n      <td>1.108767e-08</td>\n      <td>1.108767e-08</td>\n      <td>8691.0</td>\n      <td>Quantitative</td>\n      <td>heavy metals</td>\n    </tr>\n    <tr>\n      <th>14034</th>\n      <td>LBXBCD</td>\n      <td>Cadmium (ug/L)</td>\n      <td>LBXRBCSI</td>\n      <td>Red cell count SI</td>\n      <td>0.005538</td>\n      <td>0.014270</td>\n      <td>9.972172e-03</td>\n      <td>9.972172e-03</td>\n      <td>8691.0</td>\n      <td>Quantitative</td>\n      <td>heavy metals</td>\n    </tr>\n    <tr>\n      <th>14335</th>\n      <td>LBXMC</td>\n      <td>MCHC (g/dL)</td>\n      <td>LBXRDW</td>\n      <td>Red cell distribution width (%)</td>\n      <td>0.024811</td>\n      <td>-0.312637</td>\n      <td>2.093320e-36</td>\n      <td>2.093320e-36</td>\n      <td>8702.0</td>\n      <td>Quantitative</td>\n      <td>blood</td>\n    </tr>\n    <tr>\n      <th>14645</th>\n      <td>LBXBCD</td>\n      <td>Cadmium (ug/L)</td>\n      <td>LBDNENO</td>\n      <td>Segmented neutrophils number</td>\n      <td>0.007132</td>\n      <td>0.115559</td>\n      <td>4.813901e-59</td>\n      <td>4.813901e-59</td>\n      <td>8668.0</td>\n      <td>Quantitative</td>\n      <td>heavy metals</td>\n    </tr>\n    <tr>\n      <th>14648</th>\n      <td>cigarette_smoking</td>\n      <td>Current Cigarette Smoker?</td>\n      <td>LBDNENO</td>\n      <td>Segmented neutrophils number</td>\n      <td>0.002979</td>\n      <td>0.043644</td>\n      <td>1.351970e-48</td>\n      <td>1.351970e-48</td>\n      <td>5226.0</td>\n      <td>Quantitative</td>\n      <td>smoking behavior</td>\n    </tr>\n  </tbody>\n</table>\n</div>"
     },
     "metadata": {},
     "execution_count": 23
    }
   ],
   "source": [
    "final_results.results[5][bool_quant]"
   ]
  },
  {
   "source": [
    "### Quantitative differences in females"
   ],
   "cell_type": "markdown",
   "metadata": {}
  },
  {
   "cell_type": "code",
   "execution_count": 24,
   "metadata": {},
   "outputs": [
    {
     "output_type": "execute_result",
     "data": {
      "text/plain": [
       "Variable_Category\n",
       "smoking behavior    7\n",
       "heavy metals        4\n",
       "cotinine            3\n",
       "nutrients           2\n",
       "blood pressure      2\n",
       "phthalates          1\n",
       "blood               1\n",
       "biochemistry        1\n",
       "dtype: int64"
      ]
     },
     "metadata": {},
     "execution_count": 24
    }
   ],
   "source": [
    "final_results.results[4][bool_quant][abs(betas_quant_females) > abs(betas_quant_males)].value_counts('Variable_Category')"
   ]
  },
  {
   "cell_type": "code",
   "execution_count": 25,
   "metadata": {},
   "outputs": [
    {
     "output_type": "execute_result",
     "data": {
      "text/plain": [
       "Variable_Name\n",
       "Lead (ug/dL)                                3\n",
       "Cotinine (ng/mL)                            3\n",
       "mean diastolic                              2\n",
       "g-Tocopherol (ug/dL)                        1\n",
       "Vitamin E (ug/dL)                           1\n",
       "Triglyceride (mg/dL)                        1\n",
       "Mono-ethyl phthalate                        1\n",
       "MCHC (g/dL)                                 1\n",
       "How many years smoked this amount           1\n",
       "FTC Tar Content                             1\n",
       "FTC Nicotine Content                        1\n",
       "FTC Carbon Monoxide Content                 1\n",
       "Cadmium (ug/L)                              1\n",
       "Avg # cigarettes/day during past 30 days    1\n",
       "# days smoked cigs during past 30 days      1\n",
       "# cigarettes smoked per day now             1\n",
       "dtype: int64"
      ]
     },
     "metadata": {},
     "execution_count": 25
    }
   ],
   "source": [
    "final_results.results[4][bool_quant][abs(betas_quant_females) > abs(betas_quant_males)].value_counts('Variable_Name')"
   ]
  },
  {
   "cell_type": "code",
   "execution_count": 26,
   "metadata": {},
   "outputs": [
    {
     "output_type": "execute_result",
     "data": {
      "text/plain": [
       "Phenotype_Name\n",
       "Homocysteine (umol/L)               9\n",
       "Red cell count SI                   2\n",
       "Hemoglobin (g/dL)                   2\n",
       "Red cell distribution width (%)     1\n",
       "Protein, total (g/dL)               1\n",
       "Hematocrit (%)                      1\n",
       "Creatinine, urine (mg/dL)           1\n",
       "C-reactive protein(mg/dL)           1\n",
       "Bone alkaline phosphotase (ug/L)    1\n",
       "Alkaline phosphotase (U/L)          1\n",
       "Albumin (g/dL)                      1\n",
       "dtype: int64"
      ]
     },
     "metadata": {},
     "execution_count": 26
    }
   ],
   "source": [
    "final_results.results[4][bool_quant][abs(betas_quant_females) > abs(betas_quant_males)].value_counts('Phenotype_Name')"
   ]
  },
  {
   "source": [
    "### Quantitative differences in males"
   ],
   "cell_type": "markdown",
   "metadata": {}
  },
  {
   "cell_type": "code",
   "execution_count": 27,
   "metadata": {},
   "outputs": [
    {
     "output_type": "execute_result",
     "data": {
      "text/plain": [
       "Variable_Category\n",
       "nutrients           6\n",
       "heavy metals        2\n",
       "blood pressure      2\n",
       "biochemistry        2\n",
       "smoking behavior    1\n",
       "blood               1\n",
       "dtype: int64"
      ]
     },
     "metadata": {},
     "execution_count": 27
    }
   ],
   "source": [
    "final_results.results[4][bool_quant][abs(betas_quant_females) < abs(betas_quant_males)].value_counts('Variable_Category')"
   ]
  },
  {
   "cell_type": "code",
   "execution_count": 28,
   "metadata": {},
   "outputs": [
    {
     "output_type": "execute_result",
     "data": {
      "text/plain": [
       "Variable_Name\n",
       "Total cholesterol (mg/dL)    2\n",
       "Cadmium (ug/L)               2\n",
       "mean systolic                1\n",
       "mean diastolic               1\n",
       "g-Tocopherol (ug/dL)         1\n",
       "b-Cryptoxanthin (ug/dL)      1\n",
       "Vitamin E (ug/dL)            1\n",
       "Vitamin A (ug/dL)            1\n",
       "Retinyl Palmitate (ug/dL)    1\n",
       "MCHC (g/dL)                  1\n",
       "Folate, serum (ng/mL)        1\n",
       "Current Cigarette Smoker?    1\n",
       "dtype: int64"
      ]
     },
     "metadata": {},
     "execution_count": 28
    }
   ],
   "source": [
    "final_results.results[4][bool_quant][abs(betas_quant_females) < abs(betas_quant_males)].value_counts('Variable_Name')"
   ]
  },
  {
   "cell_type": "code",
   "execution_count": 29,
   "metadata": {},
   "outputs": [
    {
     "output_type": "execute_result",
     "data": {
      "text/plain": [
       "Phenotype_Name\n",
       "Triglycerides (mg/dL)           4\n",
       "GGT (U/L)                       3\n",
       "Albumin (g/dL)                  3\n",
       "Segmented neutrophils number    2\n",
       "C-reactive protein(mg/dL)       1\n",
       "ALT (U/L)                       1\n",
       "dtype: int64"
      ]
     },
     "metadata": {},
     "execution_count": 29
    }
   ],
   "source": [
    "final_results.results[4][bool_quant][abs(betas_quant_females) < abs(betas_quant_males)].value_counts('Phenotype_Name')"
   ]
  },
  {
   "source": [
    "## Qualitative differences"
   ],
   "cell_type": "markdown",
   "metadata": {}
  },
  {
   "cell_type": "code",
   "execution_count": 30,
   "metadata": {},
   "outputs": [
    {
     "output_type": "execute_result",
     "data": {
      "text/plain": [
       "Variable_Category\n",
       "nutrients             6\n",
       "heavy metals          6\n",
       "pcbs                  3\n",
       "volatile compounds    2\n",
       "supplement use        1\n",
       "hydrocarbons          1\n",
       "dtype: int64"
      ]
     },
     "metadata": {},
     "execution_count": 30
    }
   ],
   "source": [
    "bool_qual = final_results.results[7]['difference_type'] == 'Qualitative'\n",
    "final_results.results[4][bool_qual].value_counts('Variable_Category')"
   ]
  },
  {
   "cell_type": "code",
   "execution_count": 31,
   "metadata": {},
   "outputs": [
    {
     "output_type": "execute_result",
     "data": {
      "text/plain": [
       "Variable_Name\n",
       "Beryllium, urine (ng/mL)          3\n",
       "Vitamin A (ug/dL)                 2\n",
       "Lutein and zeaxanthin (ug/dL)     2\n",
       "Lead (ug/dL)                      2\n",
       "Uranium, urine (ng/mL)            1\n",
       "Retinyl Palmitate (ug/dL)         1\n",
       "PCB149 (ng/g)                     1\n",
       "PCB110 (ng/g)                     1\n",
       "PCB101 (ng/g)                     1\n",
       "IRON_mg                           1\n",
       "Folate, RBC (ng/mL RBC)           1\n",
       "Blood o-Xylene (ng/mL)            1\n",
       "Blood m-/p-Xylene (ng/mL)         1\n",
       "2-benzo[c] phenanthrene (ng/L)    1\n",
       "dtype: int64"
      ]
     },
     "metadata": {},
     "execution_count": 31
    }
   ],
   "source": [
    "final_results.results[4][bool_qual].value_counts('Variable_Name')"
   ]
  },
  {
   "cell_type": "code",
   "execution_count": 32,
   "metadata": {},
   "outputs": [
    {
     "output_type": "execute_result",
     "data": {
      "text/plain": [
       "Phenotype_Name\n",
       "Albumin (g/dL)                       6\n",
       "Bone alkaline phosphotase (ug/L)     3\n",
       "Segmented neutrophils percent (%)    2\n",
       "Uric acid (mg/dL)                    1\n",
       "Red cell count SI                    1\n",
       "Methylmalonic acid (umol/L)          1\n",
       "Lymphocyte percent (%)               1\n",
       "Hematocrit (%)                       1\n",
       "Calcium, total (mg/dL)               1\n",
       "C-reactive protein(mg/dL)            1\n",
       "Alkaline phosphotase (U/L)           1\n",
       "dtype: int64"
      ]
     },
     "metadata": {},
     "execution_count": 32
    }
   ],
   "source": [
    "final_results.results[4][bool_qual].value_counts('Phenotype_Name')"
   ]
  },
  {
   "cell_type": "code",
   "execution_count": 33,
   "metadata": {},
   "outputs": [
    {
     "output_type": "execute_result",
     "data": {
      "text/plain": [
       "      Variable                   Variable_Name Phenotype  \\\n",
       "921     LBXBPB                    Lead (ug/dL)    LBXSAL   \n",
       "926     LBXVXY       Blood m-/p-Xylene (ng/mL)    LBXSAL   \n",
       "935     LBXRPL       Retinyl Palmitate (ug/dL)    LBXSAL   \n",
       "949     LBXRBF         Folate, RBC (ng/mL RBC)    LBXSAL   \n",
       "958     LBXVOX          Blood o-Xylene (ng/mL)    LBXSAL   \n",
       "969    IRON_mg                         IRON_mg    LBXSAL   \n",
       "1582    URXUBE        Beryllium, urine (ng/mL)  LBXSAPSI   \n",
       "2805    LBX101                   PCB101 (ng/g)    LBXBAP   \n",
       "2835    LBX110                   PCB110 (ng/g)    LBXBAP   \n",
       "2882    LBX149                   PCB149 (ng/g)    LBXBAP   \n",
       "3375    LBXBPB                    Lead (ug/dL)    LBXCRP   \n",
       "6775    URXUUR          Uranium, urine (ng/mL)    LBXMMA   \n",
       "8575    URXUBE        Beryllium, urine (ng/mL)    LBXSCA   \n",
       "9688    URXUBE        Beryllium, urine (ng/mL)    LBXSUA   \n",
       "11104   LBXLUZ   Lutein and zeaxanthin (ug/dL)    LBXHCT   \n",
       "12206   LBXVIA               Vitamin A (ug/dL)  LBXLYPCT   \n",
       "14105   LBXLUZ   Lutein and zeaxanthin (ug/dL)  LBXRBCSI   \n",
       "14950   URXP11  2-benzo[c] phenanthrene (ng/L)  LBXNEPCT   \n",
       "14977   LBXVIA               Vitamin A (ug/dL)  LBXNEPCT   \n",
       "\n",
       "                          Phenotype_Name        SE      Beta        pvalue  \\\n",
       "921                       Albumin (g/dL)  0.010553 -0.078962  7.300047e-14   \n",
       "926                       Albumin (g/dL)  0.017899 -0.098531  3.694690e-08   \n",
       "935                       Albumin (g/dL)  0.010557  0.035343  8.146413e-04   \n",
       "949                       Albumin (g/dL)  0.016012  0.070212  1.159377e-05   \n",
       "958                       Albumin (g/dL)  0.021424 -0.088276  3.780180e-05   \n",
       "969                       Albumin (g/dL)  0.003110  0.008323  7.450771e-03   \n",
       "1582          Alkaline phosphotase (U/L)  0.024521 -0.061402  1.227763e-02   \n",
       "2805    Bone alkaline phosphotase (ug/L)  0.025648 -0.084880  9.346709e-04   \n",
       "2835    Bone alkaline phosphotase (ug/L)  0.028814 -0.114594  6.979610e-05   \n",
       "2882    Bone alkaline phosphotase (ug/L)  0.027721 -0.093563  7.376705e-04   \n",
       "3375           C-reactive protein(mg/dL)  0.019518 -0.104337  9.003211e-08   \n",
       "6775         Methylmalonic acid (umol/L)  0.017646  0.071237  5.412784e-05   \n",
       "8575              Calcium, total (mg/dL)  0.015761 -0.051072  1.193825e-03   \n",
       "9688                   Uric acid (mg/dL)  0.015964 -0.126864  1.916397e-15   \n",
       "11104                     Hematocrit (%)  0.013659 -0.054510  6.584253e-05   \n",
       "12206             Lymphocyte percent (%)  0.028967  0.142494  8.687071e-07   \n",
       "14105                  Red cell count SI  0.015194 -0.059886  8.102335e-05   \n",
       "14950  Segmented neutrophils percent (%)  0.029007  0.135573  2.957605e-06   \n",
       "14977  Segmented neutrophils percent (%)  0.030110 -0.090745  2.580572e-03   \n",
       "\n",
       "       Variable_pvalue       N difference_type   Variable_Category  \n",
       "921       7.300047e-14  9238.0     Qualitative        heavy metals  \n",
       "926       3.694690e-08  2545.0     Qualitative  volatile compounds  \n",
       "935       8.146413e-04  8631.0     Qualitative           nutrients  \n",
       "949       1.159377e-05  9198.0     Qualitative           nutrients  \n",
       "958       3.780180e-05  2589.0     Qualitative  volatile compounds  \n",
       "969       7.450771e-03  9029.0     Qualitative      supplement use  \n",
       "1582      1.227763e-02  2965.0     Qualitative        heavy metals  \n",
       "2805      9.346709e-04  1876.0     Qualitative                pcbs  \n",
       "2835      6.979610e-05  1213.0     Qualitative                pcbs  \n",
       "2882      7.376705e-04  1214.0     Qualitative                pcbs  \n",
       "3375      9.003211e-08  9308.0     Qualitative        heavy metals  \n",
       "6775      5.412784e-05  1536.0     Qualitative        heavy metals  \n",
       "8575      1.193825e-03  2965.0     Qualitative        heavy metals  \n",
       "9688      1.916397e-15  2965.0     Qualitative        heavy metals  \n",
       "11104     6.584253e-05  7160.0     Qualitative           nutrients  \n",
       "12206     8.687071e-07  9161.0     Qualitative           nutrients  \n",
       "14105     8.102335e-05  7160.0     Qualitative           nutrients  \n",
       "14950     2.957605e-06  2078.0     Qualitative        hydrocarbons  \n",
       "14977     2.580572e-03  9161.0     Qualitative           nutrients  "
      ],
      "text/html": "<div>\n<style scoped>\n    .dataframe tbody tr th:only-of-type {\n        vertical-align: middle;\n    }\n\n    .dataframe tbody tr th {\n        vertical-align: top;\n    }\n\n    .dataframe thead th {\n        text-align: right;\n    }\n</style>\n<table border=\"1\" class=\"dataframe\">\n  <thead>\n    <tr style=\"text-align: right;\">\n      <th></th>\n      <th>Variable</th>\n      <th>Variable_Name</th>\n      <th>Phenotype</th>\n      <th>Phenotype_Name</th>\n      <th>SE</th>\n      <th>Beta</th>\n      <th>pvalue</th>\n      <th>Variable_pvalue</th>\n      <th>N</th>\n      <th>difference_type</th>\n      <th>Variable_Category</th>\n    </tr>\n  </thead>\n  <tbody>\n    <tr>\n      <th>921</th>\n      <td>LBXBPB</td>\n      <td>Lead (ug/dL)</td>\n      <td>LBXSAL</td>\n      <td>Albumin (g/dL)</td>\n      <td>0.010553</td>\n      <td>-0.078962</td>\n      <td>7.300047e-14</td>\n      <td>7.300047e-14</td>\n      <td>9238.0</td>\n      <td>Qualitative</td>\n      <td>heavy metals</td>\n    </tr>\n    <tr>\n      <th>926</th>\n      <td>LBXVXY</td>\n      <td>Blood m-/p-Xylene (ng/mL)</td>\n      <td>LBXSAL</td>\n      <td>Albumin (g/dL)</td>\n      <td>0.017899</td>\n      <td>-0.098531</td>\n      <td>3.694690e-08</td>\n      <td>3.694690e-08</td>\n      <td>2545.0</td>\n      <td>Qualitative</td>\n      <td>volatile compounds</td>\n    </tr>\n    <tr>\n      <th>935</th>\n      <td>LBXRPL</td>\n      <td>Retinyl Palmitate (ug/dL)</td>\n      <td>LBXSAL</td>\n      <td>Albumin (g/dL)</td>\n      <td>0.010557</td>\n      <td>0.035343</td>\n      <td>8.146413e-04</td>\n      <td>8.146413e-04</td>\n      <td>8631.0</td>\n      <td>Qualitative</td>\n      <td>nutrients</td>\n    </tr>\n    <tr>\n      <th>949</th>\n      <td>LBXRBF</td>\n      <td>Folate, RBC (ng/mL RBC)</td>\n      <td>LBXSAL</td>\n      <td>Albumin (g/dL)</td>\n      <td>0.016012</td>\n      <td>0.070212</td>\n      <td>1.159377e-05</td>\n      <td>1.159377e-05</td>\n      <td>9198.0</td>\n      <td>Qualitative</td>\n      <td>nutrients</td>\n    </tr>\n    <tr>\n      <th>958</th>\n      <td>LBXVOX</td>\n      <td>Blood o-Xylene (ng/mL)</td>\n      <td>LBXSAL</td>\n      <td>Albumin (g/dL)</td>\n      <td>0.021424</td>\n      <td>-0.088276</td>\n      <td>3.780180e-05</td>\n      <td>3.780180e-05</td>\n      <td>2589.0</td>\n      <td>Qualitative</td>\n      <td>volatile compounds</td>\n    </tr>\n    <tr>\n      <th>969</th>\n      <td>IRON_mg</td>\n      <td>IRON_mg</td>\n      <td>LBXSAL</td>\n      <td>Albumin (g/dL)</td>\n      <td>0.003110</td>\n      <td>0.008323</td>\n      <td>7.450771e-03</td>\n      <td>7.450771e-03</td>\n      <td>9029.0</td>\n      <td>Qualitative</td>\n      <td>supplement use</td>\n    </tr>\n    <tr>\n      <th>1582</th>\n      <td>URXUBE</td>\n      <td>Beryllium, urine (ng/mL)</td>\n      <td>LBXSAPSI</td>\n      <td>Alkaline phosphotase (U/L)</td>\n      <td>0.024521</td>\n      <td>-0.061402</td>\n      <td>1.227763e-02</td>\n      <td>1.227763e-02</td>\n      <td>2965.0</td>\n      <td>Qualitative</td>\n      <td>heavy metals</td>\n    </tr>\n    <tr>\n      <th>2805</th>\n      <td>LBX101</td>\n      <td>PCB101 (ng/g)</td>\n      <td>LBXBAP</td>\n      <td>Bone alkaline phosphotase (ug/L)</td>\n      <td>0.025648</td>\n      <td>-0.084880</td>\n      <td>9.346709e-04</td>\n      <td>9.346709e-04</td>\n      <td>1876.0</td>\n      <td>Qualitative</td>\n      <td>pcbs</td>\n    </tr>\n    <tr>\n      <th>2835</th>\n      <td>LBX110</td>\n      <td>PCB110 (ng/g)</td>\n      <td>LBXBAP</td>\n      <td>Bone alkaline phosphotase (ug/L)</td>\n      <td>0.028814</td>\n      <td>-0.114594</td>\n      <td>6.979610e-05</td>\n      <td>6.979610e-05</td>\n      <td>1213.0</td>\n      <td>Qualitative</td>\n      <td>pcbs</td>\n    </tr>\n    <tr>\n      <th>2882</th>\n      <td>LBX149</td>\n      <td>PCB149 (ng/g)</td>\n      <td>LBXBAP</td>\n      <td>Bone alkaline phosphotase (ug/L)</td>\n      <td>0.027721</td>\n      <td>-0.093563</td>\n      <td>7.376705e-04</td>\n      <td>7.376705e-04</td>\n      <td>1214.0</td>\n      <td>Qualitative</td>\n      <td>pcbs</td>\n    </tr>\n    <tr>\n      <th>3375</th>\n      <td>LBXBPB</td>\n      <td>Lead (ug/dL)</td>\n      <td>LBXCRP</td>\n      <td>C-reactive protein(mg/dL)</td>\n      <td>0.019518</td>\n      <td>-0.104337</td>\n      <td>9.003211e-08</td>\n      <td>9.003211e-08</td>\n      <td>9308.0</td>\n      <td>Qualitative</td>\n      <td>heavy metals</td>\n    </tr>\n    <tr>\n      <th>6775</th>\n      <td>URXUUR</td>\n      <td>Uranium, urine (ng/mL)</td>\n      <td>LBXMMA</td>\n      <td>Methylmalonic acid (umol/L)</td>\n      <td>0.017646</td>\n      <td>0.071237</td>\n      <td>5.412784e-05</td>\n      <td>5.412784e-05</td>\n      <td>1536.0</td>\n      <td>Qualitative</td>\n      <td>heavy metals</td>\n    </tr>\n    <tr>\n      <th>8575</th>\n      <td>URXUBE</td>\n      <td>Beryllium, urine (ng/mL)</td>\n      <td>LBXSCA</td>\n      <td>Calcium, total (mg/dL)</td>\n      <td>0.015761</td>\n      <td>-0.051072</td>\n      <td>1.193825e-03</td>\n      <td>1.193825e-03</td>\n      <td>2965.0</td>\n      <td>Qualitative</td>\n      <td>heavy metals</td>\n    </tr>\n    <tr>\n      <th>9688</th>\n      <td>URXUBE</td>\n      <td>Beryllium, urine (ng/mL)</td>\n      <td>LBXSUA</td>\n      <td>Uric acid (mg/dL)</td>\n      <td>0.015964</td>\n      <td>-0.126864</td>\n      <td>1.916397e-15</td>\n      <td>1.916397e-15</td>\n      <td>2965.0</td>\n      <td>Qualitative</td>\n      <td>heavy metals</td>\n    </tr>\n    <tr>\n      <th>11104</th>\n      <td>LBXLUZ</td>\n      <td>Lutein and zeaxanthin (ug/dL)</td>\n      <td>LBXHCT</td>\n      <td>Hematocrit (%)</td>\n      <td>0.013659</td>\n      <td>-0.054510</td>\n      <td>6.584253e-05</td>\n      <td>6.584253e-05</td>\n      <td>7160.0</td>\n      <td>Qualitative</td>\n      <td>nutrients</td>\n    </tr>\n    <tr>\n      <th>12206</th>\n      <td>LBXVIA</td>\n      <td>Vitamin A (ug/dL)</td>\n      <td>LBXLYPCT</td>\n      <td>Lymphocyte percent (%)</td>\n      <td>0.028967</td>\n      <td>0.142494</td>\n      <td>8.687071e-07</td>\n      <td>8.687071e-07</td>\n      <td>9161.0</td>\n      <td>Qualitative</td>\n      <td>nutrients</td>\n    </tr>\n    <tr>\n      <th>14105</th>\n      <td>LBXLUZ</td>\n      <td>Lutein and zeaxanthin (ug/dL)</td>\n      <td>LBXRBCSI</td>\n      <td>Red cell count SI</td>\n      <td>0.015194</td>\n      <td>-0.059886</td>\n      <td>8.102335e-05</td>\n      <td>8.102335e-05</td>\n      <td>7160.0</td>\n      <td>Qualitative</td>\n      <td>nutrients</td>\n    </tr>\n    <tr>\n      <th>14950</th>\n      <td>URXP11</td>\n      <td>2-benzo[c] phenanthrene (ng/L)</td>\n      <td>LBXNEPCT</td>\n      <td>Segmented neutrophils percent (%)</td>\n      <td>0.029007</td>\n      <td>0.135573</td>\n      <td>2.957605e-06</td>\n      <td>2.957605e-06</td>\n      <td>2078.0</td>\n      <td>Qualitative</td>\n      <td>hydrocarbons</td>\n    </tr>\n    <tr>\n      <th>14977</th>\n      <td>LBXVIA</td>\n      <td>Vitamin A (ug/dL)</td>\n      <td>LBXNEPCT</td>\n      <td>Segmented neutrophils percent (%)</td>\n      <td>0.030110</td>\n      <td>-0.090745</td>\n      <td>2.580572e-03</td>\n      <td>2.580572e-03</td>\n      <td>9161.0</td>\n      <td>Qualitative</td>\n      <td>nutrients</td>\n    </tr>\n  </tbody>\n</table>\n</div>"
     },
     "metadata": {},
     "execution_count": 33
    }
   ],
   "source": [
    "final_results.results[4][bool_qual]"
   ]
  },
  {
   "cell_type": "code",
   "execution_count": 34,
   "metadata": {},
   "outputs": [
    {
     "output_type": "execute_result",
     "data": {
      "text/plain": [
       "      Variable                   Variable_Name Phenotype  \\\n",
       "921     LBXBPB                    Lead (ug/dL)    LBXSAL   \n",
       "926     LBXVXY       Blood m-/p-Xylene (ng/mL)    LBXSAL   \n",
       "935     LBXRPL       Retinyl Palmitate (ug/dL)    LBXSAL   \n",
       "949     LBXRBF         Folate, RBC (ng/mL RBC)    LBXSAL   \n",
       "958     LBXVOX          Blood o-Xylene (ng/mL)    LBXSAL   \n",
       "969    IRON_mg                         IRON_mg    LBXSAL   \n",
       "1582    URXUBE        Beryllium, urine (ng/mL)  LBXSAPSI   \n",
       "2805    LBX101                   PCB101 (ng/g)    LBXBAP   \n",
       "2835    LBX110                   PCB110 (ng/g)    LBXBAP   \n",
       "2882    LBX149                   PCB149 (ng/g)    LBXBAP   \n",
       "3375    LBXBPB                    Lead (ug/dL)    LBXCRP   \n",
       "6775    URXUUR          Uranium, urine (ng/mL)    LBXMMA   \n",
       "8575    URXUBE        Beryllium, urine (ng/mL)    LBXSCA   \n",
       "9688    URXUBE        Beryllium, urine (ng/mL)    LBXSUA   \n",
       "11104   LBXLUZ   Lutein and zeaxanthin (ug/dL)    LBXHCT   \n",
       "12206   LBXVIA               Vitamin A (ug/dL)  LBXLYPCT   \n",
       "14105   LBXLUZ   Lutein and zeaxanthin (ug/dL)  LBXRBCSI   \n",
       "14950   URXP11  2-benzo[c] phenanthrene (ng/L)  LBXNEPCT   \n",
       "14977   LBXVIA               Vitamin A (ug/dL)  LBXNEPCT   \n",
       "\n",
       "                          Phenotype_Name        SE      Beta        pvalue  \\\n",
       "921                       Albumin (g/dL)  0.011403  0.025488  2.540743e-02   \n",
       "926                       Albumin (g/dL)  0.018631  0.046990  1.166570e-02   \n",
       "935                       Albumin (g/dL)  0.008266 -0.029833  3.071501e-04   \n",
       "949                       Albumin (g/dL)  0.015640 -0.056267  3.210292e-04   \n",
       "958                       Albumin (g/dL)  0.017996  0.046104  1.040969e-02   \n",
       "969                       Albumin (g/dL)  0.003812 -0.015381  5.454696e-05   \n",
       "1582          Alkaline phosphotase (U/L)  0.020000  0.123712  6.190946e-10   \n",
       "2805    Bone alkaline phosphotase (ug/L)  0.022051  0.095368  1.526877e-05   \n",
       "2835    Bone alkaline phosphotase (ug/L)  0.020908  0.088650  2.235744e-05   \n",
       "2882    Bone alkaline phosphotase (ug/L)  0.019747  0.098169  6.645088e-07   \n",
       "3375           C-reactive protein(mg/dL)  0.019528  0.064165  1.016717e-03   \n",
       "6775         Methylmalonic acid (umol/L)  0.018673 -0.068377  2.504778e-04   \n",
       "8575              Calcium, total (mg/dL)  0.011768  0.184079  3.756466e-55   \n",
       "9688                   Uric acid (mg/dL)  0.010380  0.035909  5.412595e-04   \n",
       "11104                     Hematocrit (%)  0.017397  0.051181  3.261488e-03   \n",
       "12206             Lymphocyte percent (%)  0.039394 -0.086405  2.828082e-02   \n",
       "14105                  Red cell count SI  0.017247  0.073891  1.832505e-05   \n",
       "14950  Segmented neutrophils percent (%)  0.030300 -0.062478  3.920777e-02   \n",
       "14977  Segmented neutrophils percent (%)  0.042124  0.165156  8.830042e-05   \n",
       "\n",
       "       Variable_pvalue       N difference_type   Variable_Category  \n",
       "921       2.540743e-02  8602.0     Qualitative        heavy metals  \n",
       "926       1.166570e-02  2291.0     Qualitative  volatile compounds  \n",
       "935       3.071501e-04  8038.0     Qualitative           nutrients  \n",
       "949       3.210292e-04  8576.0     Qualitative           nutrients  \n",
       "958       1.040969e-02  2332.0     Qualitative  volatile compounds  \n",
       "969       5.454696e-05  8568.0     Qualitative      supplement use  \n",
       "1582      6.190946e-10  2844.0     Qualitative        heavy metals  \n",
       "2805      1.526877e-05  1625.0     Qualitative                pcbs  \n",
       "2835      2.235744e-05  1073.0     Qualitative                pcbs  \n",
       "2882      6.645088e-07  1075.0     Qualitative                pcbs  \n",
       "3375      1.016717e-03  8647.0     Qualitative        heavy metals  \n",
       "6775      2.504778e-04  1467.0     Qualitative        heavy metals  \n",
       "8575      3.756466e-55  2844.0     Qualitative        heavy metals  \n",
       "9688      5.412595e-04  2844.0     Qualitative        heavy metals  \n",
       "11104     3.261488e-03  6712.0     Qualitative           nutrients  \n",
       "12206     2.828082e-02  8575.0     Qualitative           nutrients  \n",
       "14105     1.832505e-05  6712.0     Qualitative           nutrients  \n",
       "14950     3.920777e-02  1942.0     Qualitative        hydrocarbons  \n",
       "14977     8.830042e-05  8575.0     Qualitative           nutrients  "
      ],
      "text/html": "<div>\n<style scoped>\n    .dataframe tbody tr th:only-of-type {\n        vertical-align: middle;\n    }\n\n    .dataframe tbody tr th {\n        vertical-align: top;\n    }\n\n    .dataframe thead th {\n        text-align: right;\n    }\n</style>\n<table border=\"1\" class=\"dataframe\">\n  <thead>\n    <tr style=\"text-align: right;\">\n      <th></th>\n      <th>Variable</th>\n      <th>Variable_Name</th>\n      <th>Phenotype</th>\n      <th>Phenotype_Name</th>\n      <th>SE</th>\n      <th>Beta</th>\n      <th>pvalue</th>\n      <th>Variable_pvalue</th>\n      <th>N</th>\n      <th>difference_type</th>\n      <th>Variable_Category</th>\n    </tr>\n  </thead>\n  <tbody>\n    <tr>\n      <th>921</th>\n      <td>LBXBPB</td>\n      <td>Lead (ug/dL)</td>\n      <td>LBXSAL</td>\n      <td>Albumin (g/dL)</td>\n      <td>0.011403</td>\n      <td>0.025488</td>\n      <td>2.540743e-02</td>\n      <td>2.540743e-02</td>\n      <td>8602.0</td>\n      <td>Qualitative</td>\n      <td>heavy metals</td>\n    </tr>\n    <tr>\n      <th>926</th>\n      <td>LBXVXY</td>\n      <td>Blood m-/p-Xylene (ng/mL)</td>\n      <td>LBXSAL</td>\n      <td>Albumin (g/dL)</td>\n      <td>0.018631</td>\n      <td>0.046990</td>\n      <td>1.166570e-02</td>\n      <td>1.166570e-02</td>\n      <td>2291.0</td>\n      <td>Qualitative</td>\n      <td>volatile compounds</td>\n    </tr>\n    <tr>\n      <th>935</th>\n      <td>LBXRPL</td>\n      <td>Retinyl Palmitate (ug/dL)</td>\n      <td>LBXSAL</td>\n      <td>Albumin (g/dL)</td>\n      <td>0.008266</td>\n      <td>-0.029833</td>\n      <td>3.071501e-04</td>\n      <td>3.071501e-04</td>\n      <td>8038.0</td>\n      <td>Qualitative</td>\n      <td>nutrients</td>\n    </tr>\n    <tr>\n      <th>949</th>\n      <td>LBXRBF</td>\n      <td>Folate, RBC (ng/mL RBC)</td>\n      <td>LBXSAL</td>\n      <td>Albumin (g/dL)</td>\n      <td>0.015640</td>\n      <td>-0.056267</td>\n      <td>3.210292e-04</td>\n      <td>3.210292e-04</td>\n      <td>8576.0</td>\n      <td>Qualitative</td>\n      <td>nutrients</td>\n    </tr>\n    <tr>\n      <th>958</th>\n      <td>LBXVOX</td>\n      <td>Blood o-Xylene (ng/mL)</td>\n      <td>LBXSAL</td>\n      <td>Albumin (g/dL)</td>\n      <td>0.017996</td>\n      <td>0.046104</td>\n      <td>1.040969e-02</td>\n      <td>1.040969e-02</td>\n      <td>2332.0</td>\n      <td>Qualitative</td>\n      <td>volatile compounds</td>\n    </tr>\n    <tr>\n      <th>969</th>\n      <td>IRON_mg</td>\n      <td>IRON_mg</td>\n      <td>LBXSAL</td>\n      <td>Albumin (g/dL)</td>\n      <td>0.003812</td>\n      <td>-0.015381</td>\n      <td>5.454696e-05</td>\n      <td>5.454696e-05</td>\n      <td>8568.0</td>\n      <td>Qualitative</td>\n      <td>supplement use</td>\n    </tr>\n    <tr>\n      <th>1582</th>\n      <td>URXUBE</td>\n      <td>Beryllium, urine (ng/mL)</td>\n      <td>LBXSAPSI</td>\n      <td>Alkaline phosphotase (U/L)</td>\n      <td>0.020000</td>\n      <td>0.123712</td>\n      <td>6.190946e-10</td>\n      <td>6.190946e-10</td>\n      <td>2844.0</td>\n      <td>Qualitative</td>\n      <td>heavy metals</td>\n    </tr>\n    <tr>\n      <th>2805</th>\n      <td>LBX101</td>\n      <td>PCB101 (ng/g)</td>\n      <td>LBXBAP</td>\n      <td>Bone alkaline phosphotase (ug/L)</td>\n      <td>0.022051</td>\n      <td>0.095368</td>\n      <td>1.526877e-05</td>\n      <td>1.526877e-05</td>\n      <td>1625.0</td>\n      <td>Qualitative</td>\n      <td>pcbs</td>\n    </tr>\n    <tr>\n      <th>2835</th>\n      <td>LBX110</td>\n      <td>PCB110 (ng/g)</td>\n      <td>LBXBAP</td>\n      <td>Bone alkaline phosphotase (ug/L)</td>\n      <td>0.020908</td>\n      <td>0.088650</td>\n      <td>2.235744e-05</td>\n      <td>2.235744e-05</td>\n      <td>1073.0</td>\n      <td>Qualitative</td>\n      <td>pcbs</td>\n    </tr>\n    <tr>\n      <th>2882</th>\n      <td>LBX149</td>\n      <td>PCB149 (ng/g)</td>\n      <td>LBXBAP</td>\n      <td>Bone alkaline phosphotase (ug/L)</td>\n      <td>0.019747</td>\n      <td>0.098169</td>\n      <td>6.645088e-07</td>\n      <td>6.645088e-07</td>\n      <td>1075.0</td>\n      <td>Qualitative</td>\n      <td>pcbs</td>\n    </tr>\n    <tr>\n      <th>3375</th>\n      <td>LBXBPB</td>\n      <td>Lead (ug/dL)</td>\n      <td>LBXCRP</td>\n      <td>C-reactive protein(mg/dL)</td>\n      <td>0.019528</td>\n      <td>0.064165</td>\n      <td>1.016717e-03</td>\n      <td>1.016717e-03</td>\n      <td>8647.0</td>\n      <td>Qualitative</td>\n      <td>heavy metals</td>\n    </tr>\n    <tr>\n      <th>6775</th>\n      <td>URXUUR</td>\n      <td>Uranium, urine (ng/mL)</td>\n      <td>LBXMMA</td>\n      <td>Methylmalonic acid (umol/L)</td>\n      <td>0.018673</td>\n      <td>-0.068377</td>\n      <td>2.504778e-04</td>\n      <td>2.504778e-04</td>\n      <td>1467.0</td>\n      <td>Qualitative</td>\n      <td>heavy metals</td>\n    </tr>\n    <tr>\n      <th>8575</th>\n      <td>URXUBE</td>\n      <td>Beryllium, urine (ng/mL)</td>\n      <td>LBXSCA</td>\n      <td>Calcium, total (mg/dL)</td>\n      <td>0.011768</td>\n      <td>0.184079</td>\n      <td>3.756466e-55</td>\n      <td>3.756466e-55</td>\n      <td>2844.0</td>\n      <td>Qualitative</td>\n      <td>heavy metals</td>\n    </tr>\n    <tr>\n      <th>9688</th>\n      <td>URXUBE</td>\n      <td>Beryllium, urine (ng/mL)</td>\n      <td>LBXSUA</td>\n      <td>Uric acid (mg/dL)</td>\n      <td>0.010380</td>\n      <td>0.035909</td>\n      <td>5.412595e-04</td>\n      <td>5.412595e-04</td>\n      <td>2844.0</td>\n      <td>Qualitative</td>\n      <td>heavy metals</td>\n    </tr>\n    <tr>\n      <th>11104</th>\n      <td>LBXLUZ</td>\n      <td>Lutein and zeaxanthin (ug/dL)</td>\n      <td>LBXHCT</td>\n      <td>Hematocrit (%)</td>\n      <td>0.017397</td>\n      <td>0.051181</td>\n      <td>3.261488e-03</td>\n      <td>3.261488e-03</td>\n      <td>6712.0</td>\n      <td>Qualitative</td>\n      <td>nutrients</td>\n    </tr>\n    <tr>\n      <th>12206</th>\n      <td>LBXVIA</td>\n      <td>Vitamin A (ug/dL)</td>\n      <td>LBXLYPCT</td>\n      <td>Lymphocyte percent (%)</td>\n      <td>0.039394</td>\n      <td>-0.086405</td>\n      <td>2.828082e-02</td>\n      <td>2.828082e-02</td>\n      <td>8575.0</td>\n      <td>Qualitative</td>\n      <td>nutrients</td>\n    </tr>\n    <tr>\n      <th>14105</th>\n      <td>LBXLUZ</td>\n      <td>Lutein and zeaxanthin (ug/dL)</td>\n      <td>LBXRBCSI</td>\n      <td>Red cell count SI</td>\n      <td>0.017247</td>\n      <td>0.073891</td>\n      <td>1.832505e-05</td>\n      <td>1.832505e-05</td>\n      <td>6712.0</td>\n      <td>Qualitative</td>\n      <td>nutrients</td>\n    </tr>\n    <tr>\n      <th>14950</th>\n      <td>URXP11</td>\n      <td>2-benzo[c] phenanthrene (ng/L)</td>\n      <td>LBXNEPCT</td>\n      <td>Segmented neutrophils percent (%)</td>\n      <td>0.030300</td>\n      <td>-0.062478</td>\n      <td>3.920777e-02</td>\n      <td>3.920777e-02</td>\n      <td>1942.0</td>\n      <td>Qualitative</td>\n      <td>hydrocarbons</td>\n    </tr>\n    <tr>\n      <th>14977</th>\n      <td>LBXVIA</td>\n      <td>Vitamin A (ug/dL)</td>\n      <td>LBXNEPCT</td>\n      <td>Segmented neutrophils percent (%)</td>\n      <td>0.042124</td>\n      <td>0.165156</td>\n      <td>8.830042e-05</td>\n      <td>8.830042e-05</td>\n      <td>8575.0</td>\n      <td>Qualitative</td>\n      <td>nutrients</td>\n    </tr>\n  </tbody>\n</table>\n</div>"
     },
     "metadata": {},
     "execution_count": 34
    }
   ],
   "source": [
    "final_results.results[5][bool_qual]"
   ]
  },
  {
   "cell_type": "code",
   "execution_count": null,
   "metadata": {},
   "outputs": [],
   "source": []
  }
 ]
}